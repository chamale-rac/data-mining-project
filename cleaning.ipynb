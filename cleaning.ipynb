{
 "cells": [
  {
   "cell_type": "markdown",
   "metadata": {},
   "source": [
    "# Cleaning the records\n",
    "\n",
    "In this Jupyter Notebook, we will execute a exploratory analysis.\n",
    "\n",
    "Instructions: To run this notebook is required to have a the data/gen/merged.csv file. Generate it using the merge.ipynb\n"
   ]
  },
  {
   "cell_type": "code",
   "execution_count": 353,
   "metadata": {},
   "outputs": [],
   "source": [
    "# Importing the libraries\n",
    "import pandas as pd\n",
    "import seaborn as sns  # Para visualización de datos mas avanzada\n",
    "%matplotlib inline\n",
    "import matplotlib.pyplot as plt # Para visualización de datos"
   ]
  },
  {
   "cell_type": "code",
   "execution_count": 354,
   "metadata": {},
   "outputs": [],
   "source": [
    "# Constants for the resources\n",
    "DATA_FILE = 'data/gen/merged.csv'"
   ]
  },
  {
   "cell_type": "code",
   "execution_count": 355,
   "metadata": {},
   "outputs": [
    {
     "name": "stderr",
     "output_type": "stream",
     "text": [
      "C:\\Users\\ealva\\AppData\\Local\\Temp\\ipykernel_27524\\947250292.py:2: DtypeWarning: Columns (3,6,26,28,29) have mixed types. Specify dtype option on import or set low_memory=False.\n",
      "  df = pd.read_csv(DATA_FILE)\n"
     ]
    },
    {
     "data": {
      "text/html": [
       "<div>\n",
       "<style scoped>\n",
       "    .dataframe tbody tr th:only-of-type {\n",
       "        vertical-align: middle;\n",
       "    }\n",
       "\n",
       "    .dataframe tbody tr th {\n",
       "        vertical-align: top;\n",
       "    }\n",
       "\n",
       "    .dataframe thead th {\n",
       "        text-align: right;\n",
       "    }\n",
       "</style>\n",
       "<table border=\"1\" class=\"dataframe\">\n",
       "  <thead>\n",
       "    <tr style=\"text-align: right;\">\n",
       "      <th></th>\n",
       "      <th>ANO_EMISION</th>\n",
       "      <th>MES_EMISION</th>\n",
       "      <th>DIA_EMISION</th>\n",
       "      <th>DEPTO_MCPIO</th>\n",
       "      <th>QUIEN_REPORTA</th>\n",
       "      <th>VIC_SEXO</th>\n",
       "      <th>VIC_EDAD</th>\n",
       "      <th>TOTAL_HIJOS</th>\n",
       "      <th>NUM_HIJ_HOM</th>\n",
       "      <th>NUM_HIJ_MUJ</th>\n",
       "      <th>...</th>\n",
       "      <th>AGR_OCUP</th>\n",
       "      <th>AGR_DEDICA</th>\n",
       "      <th>AGRESORES_OTROS_TOTAL</th>\n",
       "      <th>AGR_OTROS_HOM</th>\n",
       "      <th>AGR_OTRAS_MUJ</th>\n",
       "      <th>AGR_OTROS_N_OS</th>\n",
       "      <th>AGR_OTRAS_N_AS</th>\n",
       "      <th>INST_DENUN_HECHO</th>\n",
       "      <th>MEDIDAS_SEGURIDAD</th>\n",
       "      <th>LEY_APLICABLE</th>\n",
       "    </tr>\n",
       "  </thead>\n",
       "  <tbody>\n",
       "    <tr>\n",
       "      <th>0</th>\n",
       "      <td>2013.0</td>\n",
       "      <td>Enero</td>\n",
       "      <td>22.0</td>\n",
       "      <td>Guatemala</td>\n",
       "      <td>Víctima</td>\n",
       "      <td>Mujeres</td>\n",
       "      <td>38</td>\n",
       "      <td>02</td>\n",
       "      <td>01</td>\n",
       "      <td>01</td>\n",
       "      <td>...</td>\n",
       "      <td>Ocupaciones ignoradas</td>\n",
       "      <td>NaN</td>\n",
       "      <td>Ninguna</td>\n",
       "      <td>Ninguna</td>\n",
       "      <td>Ninguna</td>\n",
       "      <td>Ninguna</td>\n",
       "      <td>Ninguna</td>\n",
       "      <td>Organismo Judicial</td>\n",
       "      <td>Medidas otorgadas</td>\n",
       "      <td>Ambas leyes (VIF y VCM)</td>\n",
       "    </tr>\n",
       "    <tr>\n",
       "      <th>1</th>\n",
       "      <td>2013.0</td>\n",
       "      <td>Enero</td>\n",
       "      <td>24.0</td>\n",
       "      <td>Guatemala</td>\n",
       "      <td>Víctima</td>\n",
       "      <td>Mujeres</td>\n",
       "      <td>20</td>\n",
       "      <td>01</td>\n",
       "      <td>Ninguna</td>\n",
       "      <td>01</td>\n",
       "      <td>...</td>\n",
       "      <td>Trabajadores ambulantes de servicios y afines</td>\n",
       "      <td>NaN</td>\n",
       "      <td>Ignorado</td>\n",
       "      <td>99.0</td>\n",
       "      <td>99.0</td>\n",
       "      <td>99.0</td>\n",
       "      <td>99.0</td>\n",
       "      <td>Ministerio Público</td>\n",
       "      <td>NaN</td>\n",
       "      <td>NaN</td>\n",
       "    </tr>\n",
       "    <tr>\n",
       "      <th>2</th>\n",
       "      <td>2013.0</td>\n",
       "      <td>Enero</td>\n",
       "      <td>21.0</td>\n",
       "      <td>Guatemala</td>\n",
       "      <td>Víctima</td>\n",
       "      <td>Mujeres</td>\n",
       "      <td>21</td>\n",
       "      <td>02</td>\n",
       "      <td>01</td>\n",
       "      <td>01</td>\n",
       "      <td>...</td>\n",
       "      <td>Albañiles</td>\n",
       "      <td>NaN</td>\n",
       "      <td>Ignorado</td>\n",
       "      <td>99.0</td>\n",
       "      <td>99.0</td>\n",
       "      <td>99.0</td>\n",
       "      <td>99.0</td>\n",
       "      <td>Procuraduría de los Derechos Humanos</td>\n",
       "      <td>NaN</td>\n",
       "      <td>NaN</td>\n",
       "    </tr>\n",
       "    <tr>\n",
       "      <th>3</th>\n",
       "      <td>2013.0</td>\n",
       "      <td>Enero</td>\n",
       "      <td>2.0</td>\n",
       "      <td>Guatemala</td>\n",
       "      <td>Víctima</td>\n",
       "      <td>Hombres</td>\n",
       "      <td>70</td>\n",
       "      <td>Ninguna</td>\n",
       "      <td>Ninguna</td>\n",
       "      <td>Ninguna</td>\n",
       "      <td>...</td>\n",
       "      <td>NaN</td>\n",
       "      <td>Quehaceres del Hogar</td>\n",
       "      <td>Ignorado</td>\n",
       "      <td>99.0</td>\n",
       "      <td>99.0</td>\n",
       "      <td>99.0</td>\n",
       "      <td>99.0</td>\n",
       "      <td>Procuraduría de los Derechos Humanos</td>\n",
       "      <td>NaN</td>\n",
       "      <td>NaN</td>\n",
       "    </tr>\n",
       "    <tr>\n",
       "      <th>4</th>\n",
       "      <td>2013.0</td>\n",
       "      <td>Enero</td>\n",
       "      <td>10.0</td>\n",
       "      <td>Guatemala</td>\n",
       "      <td>Víctima</td>\n",
       "      <td>Mujeres</td>\n",
       "      <td>36</td>\n",
       "      <td>Ignorado</td>\n",
       "      <td>Ignorado</td>\n",
       "      <td>Ignorado</td>\n",
       "      <td>...</td>\n",
       "      <td>Ocupaciones no especificadas en las anteriores</td>\n",
       "      <td>NaN</td>\n",
       "      <td>Ignorado</td>\n",
       "      <td>99.0</td>\n",
       "      <td>99.0</td>\n",
       "      <td>99.0</td>\n",
       "      <td>99.0</td>\n",
       "      <td>Procuraduría de los Derechos Humanos</td>\n",
       "      <td>NaN</td>\n",
       "      <td>NaN</td>\n",
       "    </tr>\n",
       "  </tbody>\n",
       "</table>\n",
       "<p>5 rows × 52 columns</p>\n",
       "</div>"
      ],
      "text/plain": [
       "   ANO_EMISION MES_EMISION  DIA_EMISION DEPTO_MCPIO QUIEN_REPORTA VIC_SEXO  \\\n",
       "0       2013.0       Enero         22.0   Guatemala       Víctima  Mujeres   \n",
       "1       2013.0       Enero         24.0   Guatemala       Víctima  Mujeres   \n",
       "2       2013.0       Enero         21.0   Guatemala       Víctima  Mujeres   \n",
       "3       2013.0       Enero          2.0   Guatemala       Víctima  Hombres   \n",
       "4       2013.0       Enero         10.0   Guatemala       Víctima  Mujeres   \n",
       "\n",
       "  VIC_EDAD TOTAL_HIJOS NUM_HIJ_HOM NUM_HIJ_MUJ  ...  \\\n",
       "0       38          02          01          01  ...   \n",
       "1       20          01     Ninguna          01  ...   \n",
       "2       21          02          01          01  ...   \n",
       "3       70     Ninguna     Ninguna     Ninguna  ...   \n",
       "4       36    Ignorado    Ignorado    Ignorado  ...   \n",
       "\n",
       "                                         AGR_OCUP            AGR_DEDICA  \\\n",
       "0                           Ocupaciones ignoradas                   NaN   \n",
       "1   Trabajadores ambulantes de servicios y afines                   NaN   \n",
       "2                                       Albañiles                   NaN   \n",
       "3                                             NaN  Quehaceres del Hogar   \n",
       "4  Ocupaciones no especificadas en las anteriores                   NaN   \n",
       "\n",
       "  AGRESORES_OTROS_TOTAL AGR_OTROS_HOM AGR_OTRAS_MUJ AGR_OTROS_N_OS  \\\n",
       "0               Ninguna       Ninguna       Ninguna        Ninguna   \n",
       "1              Ignorado          99.0          99.0           99.0   \n",
       "2              Ignorado          99.0          99.0           99.0   \n",
       "3              Ignorado          99.0          99.0           99.0   \n",
       "4              Ignorado          99.0          99.0           99.0   \n",
       "\n",
       "  AGR_OTRAS_N_AS                      INST_DENUN_HECHO  MEDIDAS_SEGURIDAD  \\\n",
       "0        Ninguna                    Organismo Judicial  Medidas otorgadas   \n",
       "1           99.0                    Ministerio Público                NaN   \n",
       "2           99.0  Procuraduría de los Derechos Humanos                NaN   \n",
       "3           99.0  Procuraduría de los Derechos Humanos                NaN   \n",
       "4           99.0  Procuraduría de los Derechos Humanos                NaN   \n",
       "\n",
       "             LEY_APLICABLE  \n",
       "0  Ambas leyes (VIF y VCM)  \n",
       "1                      NaN  \n",
       "2                      NaN  \n",
       "3                      NaN  \n",
       "4                      NaN  \n",
       "\n",
       "[5 rows x 52 columns]"
      ]
     },
     "execution_count": 355,
     "metadata": {},
     "output_type": "execute_result"
    }
   ],
   "source": [
    "# Importing the dataset\n",
    "df = pd.read_csv(DATA_FILE)\n",
    "df.head()"
   ]
  },
  {
   "cell_type": "markdown",
   "metadata": {},
   "source": [
    "Nota: Vemos que tenemos columnas con tipos de datos irregulares. Columnas (3,6,26,28,29)\n"
   ]
  },
  {
   "cell_type": "markdown",
   "metadata": {},
   "source": [
    "## Conversión de datos"
   ]
  },
  {
   "cell_type": "markdown",
   "metadata": {},
   "source": [
    "### Hace la columna VIC_EDAD de tipo numérico"
   ]
  },
  {
   "cell_type": "code",
   "execution_count": 356,
   "metadata": {},
   "outputs": [],
   "source": [
    "df['VIC_EDAD'] = pd.to_numeric(df['VIC_EDAD'], errors='coerce')\n",
    "df['VIC_EDAD'] = df['VIC_EDAD'].fillna(98)"
   ]
  },
  {
   "cell_type": "markdown",
   "metadata": {},
   "source": [
    "### Hace la columna AGR_EDAD de tipo numérico"
   ]
  },
  {
   "cell_type": "code",
   "execution_count": 357,
   "metadata": {},
   "outputs": [],
   "source": [
    "df['AGR_EDAD'] = pd.to_numeric(df['AGR_EDAD'], errors='coerce')\n",
    "df['AGR_EDAD'] = df['AGR_EDAD'].fillna(98)"
   ]
  },
  {
   "cell_type": "markdown",
   "metadata": {},
   "source": [
    "### Hacer la columna HEC_DIA de tipo numérico"
   ]
  },
  {
   "cell_type": "code",
   "execution_count": 358,
   "metadata": {},
   "outputs": [],
   "source": [
    "df['HEC_DIA'] = pd.to_numeric(df['HEC_DIA'], errors='coerce')\n",
    "df['HEC_DIA'] = df['HEC_DIA'].fillna(99)"
   ]
  },
  {
   "cell_type": "markdown",
   "metadata": {},
   "source": [
    "## Estandarizar datos"
   ]
  },
  {
   "cell_type": "markdown",
   "metadata": {},
   "source": [
    "### VIC_ALFAB y AGR_ALFAB"
   ]
  },
  {
   "cell_type": "code",
   "execution_count": 359,
   "metadata": {},
   "outputs": [
    {
     "name": "stderr",
     "output_type": "stream",
     "text": [
      "C:\\Users\\ealva\\AppData\\Local\\Temp\\ipykernel_27524\\3159170051.py:1: FutureWarning: A value is trying to be set on a copy of a DataFrame or Series through chained assignment using an inplace method.\n",
      "The behavior will change in pandas 3.0. This inplace method will never work because the intermediate object on which we are setting values always behaves as a copy.\n",
      "\n",
      "For example, when doing 'df[col].method(value, inplace=True)', try using 'df.method({col: value}, inplace=True)' or df[col] = df[col].method(value) instead, to perform the operation inplace on the original object.\n",
      "\n",
      "\n",
      "  df['VIC_ALFAB'].replace('Si', 'Alfabeta', inplace=True)\n",
      "C:\\Users\\ealva\\AppData\\Local\\Temp\\ipykernel_27524\\3159170051.py:2: FutureWarning: A value is trying to be set on a copy of a DataFrame or Series through chained assignment using an inplace method.\n",
      "The behavior will change in pandas 3.0. This inplace method will never work because the intermediate object on which we are setting values always behaves as a copy.\n",
      "\n",
      "For example, when doing 'df[col].method(value, inplace=True)', try using 'df.method({col: value}, inplace=True)' or df[col] = df[col].method(value) instead, to perform the operation inplace on the original object.\n",
      "\n",
      "\n",
      "  df['VIC_ALFAB'].replace('No', 'Analfabeta', inplace=True)\n",
      "C:\\Users\\ealva\\AppData\\Local\\Temp\\ipykernel_27524\\3159170051.py:3: FutureWarning: A value is trying to be set on a copy of a DataFrame or Series through chained assignment using an inplace method.\n",
      "The behavior will change in pandas 3.0. This inplace method will never work because the intermediate object on which we are setting values always behaves as a copy.\n",
      "\n",
      "For example, when doing 'df[col].method(value, inplace=True)', try using 'df.method({col: value}, inplace=True)' or df[col] = df[col].method(value) instead, to perform the operation inplace on the original object.\n",
      "\n",
      "\n",
      "  df['AGR_ALFAB'].replace('Si', 'Alfabeta', inplace=True)\n",
      "C:\\Users\\ealva\\AppData\\Local\\Temp\\ipykernel_27524\\3159170051.py:4: FutureWarning: A value is trying to be set on a copy of a DataFrame or Series through chained assignment using an inplace method.\n",
      "The behavior will change in pandas 3.0. This inplace method will never work because the intermediate object on which we are setting values always behaves as a copy.\n",
      "\n",
      "For example, when doing 'df[col].method(value, inplace=True)', try using 'df.method({col: value}, inplace=True)' or df[col] = df[col].method(value) instead, to perform the operation inplace on the original object.\n",
      "\n",
      "\n",
      "  df['AGR_ALFAB'].replace('No', 'Analfabeta', inplace=True)\n"
     ]
    }
   ],
   "source": [
    "df['VIC_ALFAB'].replace('Si', 'Alfabeta', inplace=True)\n",
    "df['VIC_ALFAB'].replace('No', 'Analfabeta', inplace=True)\n",
    "df['AGR_ALFAB'].replace('Si', 'Alfabeta', inplace=True)\n",
    "df['AGR_ALFAB'].replace('No', 'Analfabeta', inplace=True)"
   ]
  },
  {
   "cell_type": "markdown",
   "metadata": {},
   "source": [
    "### VIC_ESCOLARIDAD y AGR_ESCOLARIDAD"
   ]
  },
  {
   "cell_type": "code",
   "execution_count": 360,
   "metadata": {},
   "outputs": [],
   "source": [
    "df['VIC_ESCOLARIDAD'].replace('Ninguna', 10)\n",
    "df['VIC_ESCOLARIDAD'].replace('Ignorado', 99)\n",
    "df['VIC_ESCOLARIDAD'] = pd.to_numeric(df['VIC_ESCOLARIDAD'], errors='coerce')\n",
    "df['VIC_ESCOLARIDAD'] = df['VIC_ESCOLARIDAD'].fillna(99)\n",
    "\n",
    "df['AGR_ESCOLARIDAD'].replace('Ninguna', 10)\n",
    "df['AGR_ESCOLARIDAD'].replace('Ignorado', 99)\n",
    "df['AGR_ESCOLARIDAD'] = pd.to_numeric(df['AGR_ESCOLARIDAD'], errors='coerce')\n",
    "df['AGR_ESCOLARIDAD'] = df['VIC_ESCOLARIDAD'].fillna(99)"
   ]
  },
  {
   "cell_type": "markdown",
   "metadata": {},
   "source": [
    "### VIC_TRABAJA y AGR_TRABAJA"
   ]
  },
  {
   "cell_type": "code",
   "execution_count": 361,
   "metadata": {},
   "outputs": [
    {
     "name": "stderr",
     "output_type": "stream",
     "text": [
      "C:\\Users\\ealva\\AppData\\Local\\Temp\\ipykernel_27524\\1501469265.py:1: FutureWarning: A value is trying to be set on a copy of a DataFrame or Series through chained assignment using an inplace method.\n",
      "The behavior will change in pandas 3.0. This inplace method will never work because the intermediate object on which we are setting values always behaves as a copy.\n",
      "\n",
      "For example, when doing 'df[col].method(value, inplace=True)', try using 'df.method({col: value}, inplace=True)' or df[col] = df[col].method(value) instead, to perform the operation inplace on the original object.\n",
      "\n",
      "\n",
      "  df['VIC_TRABAJA'].replace('Si', 'Si trabaja por un salario o ingreso', inplace=True)\n",
      "C:\\Users\\ealva\\AppData\\Local\\Temp\\ipykernel_27524\\1501469265.py:2: FutureWarning: A value is trying to be set on a copy of a DataFrame or Series through chained assignment using an inplace method.\n",
      "The behavior will change in pandas 3.0. This inplace method will never work because the intermediate object on which we are setting values always behaves as a copy.\n",
      "\n",
      "For example, when doing 'df[col].method(value, inplace=True)', try using 'df.method({col: value}, inplace=True)' or df[col] = df[col].method(value) instead, to perform the operation inplace on the original object.\n",
      "\n",
      "\n",
      "  df['VIC_TRABAJA'].replace('No', 'No trabaja por un salario o ingreso', inplace=True)\n",
      "C:\\Users\\ealva\\AppData\\Local\\Temp\\ipykernel_27524\\1501469265.py:4: FutureWarning: A value is trying to be set on a copy of a DataFrame or Series through chained assignment using an inplace method.\n",
      "The behavior will change in pandas 3.0. This inplace method will never work because the intermediate object on which we are setting values always behaves as a copy.\n",
      "\n",
      "For example, when doing 'df[col].method(value, inplace=True)', try using 'df.method({col: value}, inplace=True)' or df[col] = df[col].method(value) instead, to perform the operation inplace on the original object.\n",
      "\n",
      "\n",
      "  df['AGR_TRABAJA'].replace('Si', 'Si trabaja por un salario o ingreso', inplace=True)\n",
      "C:\\Users\\ealva\\AppData\\Local\\Temp\\ipykernel_27524\\1501469265.py:5: FutureWarning: A value is trying to be set on a copy of a DataFrame or Series through chained assignment using an inplace method.\n",
      "The behavior will change in pandas 3.0. This inplace method will never work because the intermediate object on which we are setting values always behaves as a copy.\n",
      "\n",
      "For example, when doing 'df[col].method(value, inplace=True)', try using 'df.method({col: value}, inplace=True)' or df[col] = df[col].method(value) instead, to perform the operation inplace on the original object.\n",
      "\n",
      "\n",
      "  df['AGR_TRABAJA'].replace('No', 'No trabaja por un salario o ingreso', inplace=True)\n"
     ]
    }
   ],
   "source": [
    "df['VIC_TRABAJA'].replace('Si', 'Si trabaja por un salario o ingreso', inplace=True)\n",
    "df['VIC_TRABAJA'].replace('No', 'No trabaja por un salario o ingreso', inplace=True)\n",
    "\n",
    "df['AGR_TRABAJA'].replace('Si', 'Si trabaja por un salario o ingreso', inplace=True)\n",
    "df['AGR_TRABAJA'].replace('No', 'No trabaja por un salario o ingreso', inplace=True)"
   ]
  },
  {
   "cell_type": "markdown",
   "metadata": {},
   "source": [
    "### HEC_ANO"
   ]
  },
  {
   "cell_type": "code",
   "execution_count": 362,
   "metadata": {},
   "outputs": [],
   "source": [
    "df['HEC_ANO'].replace('Ignorado', 9999)\n",
    "df['HEC_ANO'] = pd.to_numeric(df['HEC_ANO'], errors='coerce')"
   ]
  },
  {
   "cell_type": "markdown",
   "metadata": {},
   "source": [
    "### AGRESORES_OTROS_TOTAL"
   ]
  },
  {
   "cell_type": "code",
   "execution_count": 363,
   "metadata": {},
   "outputs": [
    {
     "name": "stderr",
     "output_type": "stream",
     "text": [
      "C:\\Users\\ealva\\AppData\\Local\\Temp\\ipykernel_27524\\2534257253.py:1: FutureWarning: A value is trying to be set on a copy of a DataFrame or Series through chained assignment using an inplace method.\n",
      "The behavior will change in pandas 3.0. This inplace method will never work because the intermediate object on which we are setting values always behaves as a copy.\n",
      "\n",
      "For example, when doing 'df[col].method(value, inplace=True)', try using 'df.method({col: value}, inplace=True)' or df[col] = df[col].method(value) instead, to perform the operation inplace on the original object.\n",
      "\n",
      "\n",
      "  df['AGRESORES_OTROS_TOTAL'].replace('Ignorado', 99, inplace=True)\n",
      "C:\\Users\\ealva\\AppData\\Local\\Temp\\ipykernel_27524\\2534257253.py:2: FutureWarning: A value is trying to be set on a copy of a DataFrame or Series through chained assignment using an inplace method.\n",
      "The behavior will change in pandas 3.0. This inplace method will never work because the intermediate object on which we are setting values always behaves as a copy.\n",
      "\n",
      "For example, when doing 'df[col].method(value, inplace=True)', try using 'df.method({col: value}, inplace=True)' or df[col] = df[col].method(value) instead, to perform the operation inplace on the original object.\n",
      "\n",
      "\n",
      "  df['AGRESORES_OTROS_TOTAL'].replace('Ninguna', 0, inplace=True)\n"
     ]
    }
   ],
   "source": [
    "df['AGRESORES_OTROS_TOTAL'].replace('Ignorado', 99, inplace=True)\n",
    "df['AGRESORES_OTROS_TOTAL'].replace('Ninguna', 0, inplace=True)\n",
    "df['AGRESORES_OTROS_TOTAL'] = pd.to_numeric(df['AGRESORES_OTROS_TOTAL'], errors='coerce')"
   ]
  },
  {
   "cell_type": "markdown",
   "metadata": {},
   "source": [
    "### AGR_OTROS_HOM y AGR_OTRAS_MUJ y AGR_OTROS_N_OS y AGR_OTRAS_N_AS"
   ]
  },
  {
   "cell_type": "code",
   "execution_count": 364,
   "metadata": {},
   "outputs": [
    {
     "name": "stderr",
     "output_type": "stream",
     "text": [
      "C:\\Users\\ealva\\AppData\\Local\\Temp\\ipykernel_27524\\6334424.py:1: FutureWarning: A value is trying to be set on a copy of a DataFrame or Series through chained assignment using an inplace method.\n",
      "The behavior will change in pandas 3.0. This inplace method will never work because the intermediate object on which we are setting values always behaves as a copy.\n",
      "\n",
      "For example, when doing 'df[col].method(value, inplace=True)', try using 'df.method({col: value}, inplace=True)' or df[col] = df[col].method(value) instead, to perform the operation inplace on the original object.\n",
      "\n",
      "\n",
      "  df['AGR_OTROS_HOM'].replace('Ninguna', 0, inplace=True)\n",
      "C:\\Users\\ealva\\AppData\\Local\\Temp\\ipykernel_27524\\6334424.py:4: FutureWarning: A value is trying to be set on a copy of a DataFrame or Series through chained assignment using an inplace method.\n",
      "The behavior will change in pandas 3.0. This inplace method will never work because the intermediate object on which we are setting values always behaves as a copy.\n",
      "\n",
      "For example, when doing 'df[col].method(value, inplace=True)', try using 'df.method({col: value}, inplace=True)' or df[col] = df[col].method(value) instead, to perform the operation inplace on the original object.\n",
      "\n",
      "\n",
      "  df['AGR_OTRAS_MUJ'].replace('Ninguna', 0, inplace=True)\n",
      "C:\\Users\\ealva\\AppData\\Local\\Temp\\ipykernel_27524\\6334424.py:7: FutureWarning: A value is trying to be set on a copy of a DataFrame or Series through chained assignment using an inplace method.\n",
      "The behavior will change in pandas 3.0. This inplace method will never work because the intermediate object on which we are setting values always behaves as a copy.\n",
      "\n",
      "For example, when doing 'df[col].method(value, inplace=True)', try using 'df.method({col: value}, inplace=True)' or df[col] = df[col].method(value) instead, to perform the operation inplace on the original object.\n",
      "\n",
      "\n",
      "  df['AGR_OTROS_N_OS'].replace('Ninguna', 0, inplace=True)\n",
      "C:\\Users\\ealva\\AppData\\Local\\Temp\\ipykernel_27524\\6334424.py:10: FutureWarning: A value is trying to be set on a copy of a DataFrame or Series through chained assignment using an inplace method.\n",
      "The behavior will change in pandas 3.0. This inplace method will never work because the intermediate object on which we are setting values always behaves as a copy.\n",
      "\n",
      "For example, when doing 'df[col].method(value, inplace=True)', try using 'df.method({col: value}, inplace=True)' or df[col] = df[col].method(value) instead, to perform the operation inplace on the original object.\n",
      "\n",
      "\n",
      "  df['AGR_OTRAS_N_AS'].replace('Ninguna', 0, inplace=True)\n"
     ]
    }
   ],
   "source": [
    "df['AGR_OTROS_HOM'].replace('Ninguna', 0, inplace=True)\n",
    "df['AGR_OTROS_HOM'] = pd.to_numeric(df['AGR_OTROS_HOM'], errors='coerce')\n",
    "\n",
    "df['AGR_OTRAS_MUJ'].replace('Ninguna', 0, inplace=True)\n",
    "df['AGR_OTRAS_MUJ'] = pd.to_numeric(df['AGR_OTRAS_MUJ'], errors='coerce')\n",
    "\n",
    "df['AGR_OTROS_N_OS'].replace('Ninguna', 0, inplace=True)\n",
    "df['AGR_OTROS_N_OS'] = pd.to_numeric(df['AGR_OTROS_N_OS'], errors='coerce')\n",
    "\n",
    "df['AGR_OTRAS_N_AS'].replace('Ninguna', 0, inplace=True)\n",
    "df['AGR_OTRAS_N_AS'] = pd.to_numeric(df['AGR_OTRAS_N_AS'], errors='coerce')"
   ]
  },
  {
   "cell_type": "markdown",
   "metadata": {},
   "source": [
    "### LEY_APLICABLE"
   ]
  },
  {
   "cell_type": "code",
   "execution_count": 365,
   "metadata": {},
   "outputs": [
    {
     "name": "stderr",
     "output_type": "stream",
     "text": [
      "C:\\Users\\ealva\\AppData\\Local\\Temp\\ipykernel_27524\\2919043749.py:1: FutureWarning: A value is trying to be set on a copy of a DataFrame or Series through chained assignment using an inplace method.\n",
      "The behavior will change in pandas 3.0. This inplace method will never work because the intermediate object on which we are setting values always behaves as a copy.\n",
      "\n",
      "For example, when doing 'df[col].method(value, inplace=True)', try using 'df.method({col: value}, inplace=True)' or df[col] = df[col].method(value) instead, to perform the operation inplace on the original object.\n",
      "\n",
      "\n",
      "  df['LEY_APLICABLE'].replace('IGNORADO', 'Ignorado', inplace=True)\n",
      "C:\\Users\\ealva\\AppData\\Local\\Temp\\ipykernel_27524\\2919043749.py:2: FutureWarning: A value is trying to be set on a copy of a DataFrame or Series through chained assignment using an inplace method.\n",
      "The behavior will change in pandas 3.0. This inplace method will never work because the intermediate object on which we are setting values always behaves as a copy.\n",
      "\n",
      "For example, when doing 'df[col].method(value, inplace=True)', try using 'df.method({col: value}, inplace=True)' or df[col] = df[col].method(value) instead, to perform the operation inplace on the original object.\n",
      "\n",
      "\n",
      "  df['LEY_APLICABLE'].replace('AMBAS', 'AMBAS_LEYES_VIF/VCM', inplace=True)\n"
     ]
    }
   ],
   "source": [
    "df['LEY_APLICABLE'].replace('IGNORADO', 'Ignorado', inplace=True)\n",
    "df['LEY_APLICABLE'].replace('AMBAS', 'AMBAS_LEYES_VIF/VCM', inplace=True)"
   ]
  },
  {
   "cell_type": "markdown",
   "metadata": {},
   "source": [
    "### MEDIDAS_SEGURIDAD"
   ]
  },
  {
   "cell_type": "code",
   "execution_count": 366,
   "metadata": {},
   "outputs": [
    {
     "name": "stderr",
     "output_type": "stream",
     "text": [
      "C:\\Users\\ealva\\AppData\\Local\\Temp\\ipykernel_27524\\4126160939.py:1: FutureWarning: A value is trying to be set on a copy of a DataFrame or Series through chained assignment using an inplace method.\n",
      "The behavior will change in pandas 3.0. This inplace method will never work because the intermediate object on which we are setting values always behaves as a copy.\n",
      "\n",
      "For example, when doing 'df[col].method(value, inplace=True)', try using 'df.method({col: value}, inplace=True)' or df[col] = df[col].method(value) instead, to perform the operation inplace on the original object.\n",
      "\n",
      "\n",
      "  df['MEDIDAS_SEGURIDAD'].replace('Si', 'Medidas otorgadas', inplace=True)\n",
      "C:\\Users\\ealva\\AppData\\Local\\Temp\\ipykernel_27524\\4126160939.py:2: FutureWarning: A value is trying to be set on a copy of a DataFrame or Series through chained assignment using an inplace method.\n",
      "The behavior will change in pandas 3.0. This inplace method will never work because the intermediate object on which we are setting values always behaves as a copy.\n",
      "\n",
      "For example, when doing 'df[col].method(value, inplace=True)', try using 'df.method({col: value}, inplace=True)' or df[col] = df[col].method(value) instead, to perform the operation inplace on the original object.\n",
      "\n",
      "\n",
      "  df['MEDIDAS_SEGURIDAD'].replace('No', 'Medidas no otorgadas', inplace=True)\n"
     ]
    }
   ],
   "source": [
    "df['MEDIDAS_SEGURIDAD'].replace('Si', 'Medidas otorgadas', inplace=True)\n",
    "df['MEDIDAS_SEGURIDAD'].replace('No', 'Medidas no otorgadas', inplace=True)"
   ]
  },
  {
   "cell_type": "markdown",
   "metadata": {},
   "source": [
    "## Análisis básico manual\n"
   ]
  },
  {
   "cell_type": "code",
   "execution_count": 367,
   "metadata": {},
   "outputs": [
    {
     "data": {
      "text/plain": [
       "(327781, 52)"
      ]
     },
     "execution_count": 367,
     "metadata": {},
     "output_type": "execute_result"
    }
   ],
   "source": [
    "df.shape"
   ]
  },
  {
   "cell_type": "code",
   "execution_count": 368,
   "metadata": {},
   "outputs": [
    {
     "name": "stdout",
     "output_type": "stream",
     "text": [
      "<class 'pandas.core.frame.DataFrame'>\n",
      "RangeIndex: 327781 entries, 0 to 327780\n",
      "Data columns (total 52 columns):\n",
      " #   Column                 Non-Null Count   Dtype  \n",
      "---  ------                 --------------   -----  \n",
      " 0   ANO_EMISION            327781 non-null  float64\n",
      " 1   MES_EMISION            327781 non-null  object \n",
      " 2   DIA_EMISION            327781 non-null  float64\n",
      " 3   DEPTO_MCPIO            327781 non-null  object \n",
      " 4   QUIEN_REPORTA          327781 non-null  object \n",
      " 5   VIC_SEXO               327781 non-null  object \n",
      " 6   VIC_EDAD               327781 non-null  float64\n",
      " 7   TOTAL_HIJOS            326215 non-null  object \n",
      " 8   NUM_HIJ_HOM            326215 non-null  object \n",
      " 9   NUM_HIJ_MUJ            326215 non-null  object \n",
      " 10  VIC_ALFAB              327144 non-null  object \n",
      " 11  VIC_ESCOLARIDAD        327781 non-null  float64\n",
      " 12  VIC_EST_CIV            326215 non-null  object \n",
      " 13  VIC_GRUPET             327781 non-null  object \n",
      " 14  VIC_NACIONAL           327781 non-null  object \n",
      " 15  VIC_TRABAJA            327144 non-null  object \n",
      " 16  VIC_OCUP               110006 non-null  object \n",
      " 17  VIC_DEDICA             216771 non-null  object \n",
      " 18  VIC_DISC               327781 non-null  object \n",
      " 19  TIPO_DISCAQ            7313 non-null    object \n",
      " 20  VIC_REL_AGR            327781 non-null  object \n",
      " 21  OTRAS_VICTIMAS         327781 non-null  object \n",
      " 22  VIC_OTRAS_HOM          327781 non-null  object \n",
      " 23  VIC_OTRAS_MUJ          327781 non-null  object \n",
      " 24  VIC_OTRAS_N_OS         327781 non-null  object \n",
      " 25  VIC_OTRAS_N_AS         327781 non-null  object \n",
      " 26  HEC_DIA                327781 non-null  float64\n",
      " 27  HEC_MES                327781 non-null  object \n",
      " 28  HEC_ANO                327351 non-null  float64\n",
      " 29  HEC_DEPTOMCPIO         327781 non-null  object \n",
      " 30  HEC_AREA               327781 non-null  object \n",
      " 31  HEC_TIPAGRE            327781 non-null  object \n",
      " 32  HEC_RECUR_DENUN        327781 non-null  object \n",
      " 33  INST_DONDE_DENUNCIO    40531 non-null   object \n",
      " 34  AGR_SEXO               327781 non-null  object \n",
      " 35  AGR_EDAD               327781 non-null  float64\n",
      " 36  AGR_ALFAB              327781 non-null  object \n",
      " 37  AGR_ESCOLARIDAD        327781 non-null  float64\n",
      " 38  AGR_EST_CIV            327756 non-null  object \n",
      " 39  AGR_GRUPET             327781 non-null  object \n",
      " 40  AGR_NACIONAL           327781 non-null  object \n",
      " 41  AGR_TRABAJA            327781 non-null  object \n",
      " 42  AGR_OCUP               257981 non-null  object \n",
      " 43  AGR_DEDICA             70199 non-null   object \n",
      " 44  AGRESORES_OTROS_TOTAL  327781 non-null  int64  \n",
      " 45  AGR_OTROS_HOM          327781 non-null  float64\n",
      " 46  AGR_OTRAS_MUJ          327781 non-null  float64\n",
      " 47  AGR_OTROS_N_OS         327781 non-null  float64\n",
      " 48  AGR_OTRAS_N_AS         327781 non-null  float64\n",
      " 49  INST_DENUN_HECHO       327781 non-null  object \n",
      " 50  MEDIDAS_SEGURIDAD      179213 non-null  object \n",
      " 51  LEY_APLICABLE          180511 non-null  object \n",
      "dtypes: float64(12), int64(1), object(39)\n",
      "memory usage: 130.0+ MB\n"
     ]
    }
   ],
   "source": [
    "df.info()"
   ]
  },
  {
   "cell_type": "markdown",
   "metadata": {},
   "source": [
    "Nota: Vemos que tenemos alrededor de 130.3 MB de data. Podríamos considerar realizar un sampling.\n"
   ]
  },
  {
   "cell_type": "code",
   "execution_count": 369,
   "metadata": {},
   "outputs": [
    {
     "data": {
      "text/plain": [
       "ANO_EMISION                   0\n",
       "MES_EMISION                   0\n",
       "DIA_EMISION                   0\n",
       "DEPTO_MCPIO                   0\n",
       "QUIEN_REPORTA                 0\n",
       "VIC_SEXO                      0\n",
       "VIC_EDAD                      0\n",
       "TOTAL_HIJOS                1566\n",
       "NUM_HIJ_HOM                1566\n",
       "NUM_HIJ_MUJ                1566\n",
       "VIC_ALFAB                   637\n",
       "VIC_ESCOLARIDAD               0\n",
       "VIC_EST_CIV                1566\n",
       "VIC_GRUPET                    0\n",
       "VIC_NACIONAL                  0\n",
       "VIC_TRABAJA                 637\n",
       "VIC_OCUP                 217775\n",
       "VIC_DEDICA               111010\n",
       "VIC_DISC                      0\n",
       "TIPO_DISCAQ              320468\n",
       "VIC_REL_AGR                   0\n",
       "OTRAS_VICTIMAS                0\n",
       "VIC_OTRAS_HOM                 0\n",
       "VIC_OTRAS_MUJ                 0\n",
       "VIC_OTRAS_N_OS                0\n",
       "VIC_OTRAS_N_AS                0\n",
       "HEC_DIA                       0\n",
       "HEC_MES                       0\n",
       "HEC_ANO                     430\n",
       "HEC_DEPTOMCPIO                0\n",
       "HEC_AREA                      0\n",
       "HEC_TIPAGRE                   0\n",
       "HEC_RECUR_DENUN               0\n",
       "INST_DONDE_DENUNCIO      287250\n",
       "AGR_SEXO                      0\n",
       "AGR_EDAD                      0\n",
       "AGR_ALFAB                     0\n",
       "AGR_ESCOLARIDAD               0\n",
       "AGR_EST_CIV                  25\n",
       "AGR_GRUPET                    0\n",
       "AGR_NACIONAL                  0\n",
       "AGR_TRABAJA                   0\n",
       "AGR_OCUP                  69800\n",
       "AGR_DEDICA               257582\n",
       "AGRESORES_OTROS_TOTAL         0\n",
       "AGR_OTROS_HOM                 0\n",
       "AGR_OTRAS_MUJ                 0\n",
       "AGR_OTROS_N_OS                0\n",
       "AGR_OTRAS_N_AS                0\n",
       "INST_DENUN_HECHO              0\n",
       "MEDIDAS_SEGURIDAD        148568\n",
       "LEY_APLICABLE            147270\n",
       "dtype: int64"
      ]
     },
     "execution_count": 369,
     "metadata": {},
     "output_type": "execute_result"
    }
   ],
   "source": [
    "df.isnull().sum()"
   ]
  },
  {
   "cell_type": "markdown",
   "metadata": {},
   "source": [
    "Nota: Algunas características poseen demasiados valores nulos.\n"
   ]
  },
  {
   "cell_type": "code",
   "execution_count": 370,
   "metadata": {},
   "outputs": [
    {
     "data": {
      "text/plain": [
       "ANO_EMISION               0.000000\n",
       "MES_EMISION               0.000000\n",
       "DIA_EMISION               0.000000\n",
       "DEPTO_MCPIO               0.000000\n",
       "QUIEN_REPORTA             0.000000\n",
       "VIC_SEXO                  0.000000\n",
       "VIC_EDAD                  0.000000\n",
       "TOTAL_HIJOS               0.477758\n",
       "NUM_HIJ_HOM               0.477758\n",
       "NUM_HIJ_MUJ               0.477758\n",
       "VIC_ALFAB                 0.194337\n",
       "VIC_ESCOLARIDAD           0.000000\n",
       "VIC_EST_CIV               0.477758\n",
       "VIC_GRUPET                0.000000\n",
       "VIC_NACIONAL              0.000000\n",
       "VIC_TRABAJA               0.194337\n",
       "VIC_OCUP                 66.439177\n",
       "VIC_DEDICA               33.867125\n",
       "VIC_DISC                  0.000000\n",
       "TIPO_DISCAQ              97.768937\n",
       "VIC_REL_AGR               0.000000\n",
       "OTRAS_VICTIMAS            0.000000\n",
       "VIC_OTRAS_HOM             0.000000\n",
       "VIC_OTRAS_MUJ             0.000000\n",
       "VIC_OTRAS_N_OS            0.000000\n",
       "VIC_OTRAS_N_AS            0.000000\n",
       "HEC_DIA                   0.000000\n",
       "HEC_MES                   0.000000\n",
       "HEC_ANO                   0.131185\n",
       "HEC_DEPTOMCPIO            0.000000\n",
       "HEC_AREA                  0.000000\n",
       "HEC_TIPAGRE               0.000000\n",
       "HEC_RECUR_DENUN           0.000000\n",
       "INST_DONDE_DENUNCIO      87.634732\n",
       "AGR_SEXO                  0.000000\n",
       "AGR_EDAD                  0.000000\n",
       "AGR_ALFAB                 0.000000\n",
       "AGR_ESCOLARIDAD           0.000000\n",
       "AGR_EST_CIV               0.007627\n",
       "AGR_GRUPET                0.000000\n",
       "AGR_NACIONAL              0.000000\n",
       "AGR_TRABAJA               0.000000\n",
       "AGR_OCUP                 21.294706\n",
       "AGR_DEDICA               78.583566\n",
       "AGRESORES_OTROS_TOTAL     0.000000\n",
       "AGR_OTROS_HOM             0.000000\n",
       "AGR_OTRAS_MUJ             0.000000\n",
       "AGR_OTROS_N_OS            0.000000\n",
       "AGR_OTRAS_N_AS            0.000000\n",
       "INST_DENUN_HECHO          0.000000\n",
       "MEDIDAS_SEGURIDAD        45.325385\n",
       "LEY_APLICABLE            44.929389\n",
       "dtype: float64"
      ]
     },
     "execution_count": 370,
     "metadata": {},
     "output_type": "execute_result"
    }
   ],
   "source": [
    "missing_data_percentage = df.isnull().mean() * 100  # missing data percentage\n",
    "missing_data_percentage"
   ]
  },
  {
   "cell_type": "markdown",
   "metadata": {},
   "source": [
    "Nota: Podríamos descartar algunas columnas que tengan un porcentaje demasiado alto.\n"
   ]
  },
  {
   "cell_type": "markdown",
   "metadata": {},
   "source": [
    "Nota: Dado que tenemos un set grande de datos podemos considerar quedarnos con los no valores nulos de algunas columnas. Sin embargo, debemos tomar en cuenta que esto podría disminuir el intervalo de tiempo de los datos.\n"
   ]
  },
  {
   "cell_type": "code",
   "execution_count": 371,
   "metadata": {},
   "outputs": [
    {
     "data": {
      "text/plain": [
       "(61, 52)"
      ]
     },
     "execution_count": 371,
     "metadata": {},
     "output_type": "execute_result"
    }
   ],
   "source": [
    "df.dropna().shape"
   ]
  },
  {
   "cell_type": "markdown",
   "metadata": {},
   "source": [
    "**¡Eliminar todas las filas con columnas nulas es inviable!**\n"
   ]
  },
  {
   "cell_type": "code",
   "execution_count": 372,
   "metadata": {},
   "outputs": [
    {
     "data": {
      "image/png": "[encoded data removed]",
      "text/plain": [
       "<Figure size 640x480 with 1 Axes>"
      ]
     },
     "metadata": {},
     "output_type": "display_data"
    }
   ],
   "source": [
    "def year_frequency_plot(df, column_name):\n",
    "    # Set the theme\n",
    "    sns.set_style(\"ticks\")\n",
    "\n",
    "    # Calculate the year frequency\n",
    "    year_frequency = df[column_name].value_counts().sort_index()\n",
    "    year_frequency.index = year_frequency.index.astype(int)\n",
    "    # Create a bar plot\n",
    "    sns.barplot(x=year_frequency.index, y=year_frequency.values, color='b')\n",
    "\n",
    "    # Calculate the mean of the year frequency\n",
    "    mean_year = year_frequency.mean()\n",
    "\n",
    "    # Add a horizontal line for the mean\n",
    "    plt.axhline(mean_year, color='grey', linestyle='--')\n",
    "\n",
    "    # Add a text label for the mean\n",
    "    plt.text(3, mean_year + 2000, f'Mean: {mean_year:.2f}', color='black')\n",
    "\n",
    "    # Improve the plot appearance\n",
    "    plt.xlabel('Year of Emission')\n",
    "    plt.ylabel('Frequency')\n",
    "    plt.title('Year Frequency')\n",
    "    plt.xticks(rotation=90)\n",
    "    sns.despine()\n",
    "\n",
    "    # Show the plot\n",
    "    plt.show()\n",
    "\n",
    "\n",
    "year_frequency_plot(df, 'ANO_EMISION')"
   ]
  },
  {
   "cell_type": "markdown",
   "metadata": {},
   "source": [
    "Nota: Vemos que tenemos una cantidad considerable de datos para cada año. Todo bien.\n"
   ]
  },
  {
   "cell_type": "markdown",
   "metadata": {},
   "source": [
    "De forma arbitraria podemos remover los valores nulos de las columnas que no impactan significativamente.\n"
   ]
  },
  {
   "cell_type": "code",
   "execution_count": 373,
   "metadata": {},
   "outputs": [],
   "source": [
    "REMOVE_NULLS_OVER = [\n",
    "    'TOTAL_HIJOS',\n",
    "    'NUM_HIJ_HOM',\n",
    "    'NUM_HIJ_MUJ',\n",
    "    'VIC_ALFAB',\n",
    "    'VIC_ESCOLARIDAD',\n",
    "    'VIC_EST_CIV',\n",
    "    'VIC_TRABAJA',\n",
    "    'AGR_EST_CIV',\n",
    "]\n",
    "# Remove the rows with nulls in the specified columns\n",
    "df = df.dropna(subset=REMOVE_NULLS_OVER)"
   ]
  },
  {
   "cell_type": "code",
   "execution_count": 374,
   "metadata": {},
   "outputs": [
    {
     "data": {
      "text/plain": [
       "(326203, 52)"
      ]
     },
     "execution_count": 374,
     "metadata": {},
     "output_type": "execute_result"
    }
   ],
   "source": [
    "df.shape"
   ]
  },
  {
   "cell_type": "code",
   "execution_count": 375,
   "metadata": {},
   "outputs": [
    {
     "data": {
      "image/png": "[encoded data removed]",
      "text/plain": [
       "<Figure size 640x480 with 1 Axes>"
      ]
     },
     "metadata": {},
     "output_type": "display_data"
    }
   ],
   "source": [
    "year_frequency_plot(df, 'ANO_EMISION')"
   ]
  },
  {
   "cell_type": "code",
   "execution_count": 376,
   "metadata": {},
   "outputs": [
    {
     "data": {
      "text/plain": [
       "ANO_EMISION                   0\n",
       "MES_EMISION                   0\n",
       "DIA_EMISION                   0\n",
       "DEPTO_MCPIO                   0\n",
       "QUIEN_REPORTA                 0\n",
       "VIC_SEXO                      0\n",
       "VIC_EDAD                      0\n",
       "TOTAL_HIJOS                   0\n",
       "NUM_HIJ_HOM                   0\n",
       "NUM_HIJ_MUJ                   0\n",
       "VIC_ALFAB                     0\n",
       "VIC_ESCOLARIDAD               0\n",
       "VIC_EST_CIV                   0\n",
       "VIC_GRUPET                    0\n",
       "VIC_NACIONAL                  0\n",
       "VIC_TRABAJA                   0\n",
       "VIC_OCUP                 216213\n",
       "VIC_DEDICA               110354\n",
       "VIC_DISC                      0\n",
       "TIPO_DISCAQ              318926\n",
       "VIC_REL_AGR                   0\n",
       "OTRAS_VICTIMAS                0\n",
       "VIC_OTRAS_HOM                 0\n",
       "VIC_OTRAS_MUJ                 0\n",
       "VIC_OTRAS_N_OS                0\n",
       "VIC_OTRAS_N_AS                0\n",
       "HEC_DIA                       0\n",
       "HEC_MES                       0\n",
       "HEC_ANO                     426\n",
       "HEC_DEPTOMCPIO                0\n",
       "HEC_AREA                      0\n",
       "HEC_TIPAGRE                   0\n",
       "HEC_RECUR_DENUN               0\n",
       "INST_DONDE_DENUNCIO      285784\n",
       "AGR_SEXO                      0\n",
       "AGR_EDAD                      0\n",
       "AGR_ALFAB                     0\n",
       "AGR_ESCOLARIDAD               0\n",
       "AGR_EST_CIV                   0\n",
       "AGR_GRUPET                    0\n",
       "AGR_NACIONAL                  0\n",
       "AGR_TRABAJA                   0\n",
       "AGR_OCUP                  68984\n",
       "AGR_DEDICA               256832\n",
       "AGRESORES_OTROS_TOTAL         0\n",
       "AGR_OTROS_HOM                 0\n",
       "AGR_OTRAS_MUJ                 0\n",
       "AGR_OTROS_N_OS                0\n",
       "AGR_OTRAS_N_AS                0\n",
       "INST_DENUN_HECHO              0\n",
       "MEDIDAS_SEGURIDAD        147317\n",
       "LEY_APLICABLE            146020\n",
       "dtype: int64"
      ]
     },
     "execution_count": 376,
     "metadata": {},
     "output_type": "execute_result"
    }
   ],
   "source": [
    "df.isnull().sum()"
   ]
  },
  {
   "cell_type": "code",
   "execution_count": 377,
   "metadata": {},
   "outputs": [],
   "source": [
    "# Remove columns\n",
    "\n",
    "COLUMNS_TO_REMOVE = [\n",
    "    'TIPO_DISCAQ',\n",
    "    'INST_DONDE_DENUNCIO',\n",
    "    'MEDIDAS_SEGURIDAD'\n",
    "]\n",
    "\n",
    "\n",
    "df = df.drop(columns=COLUMNS_TO_REMOVE)"
   ]
  },
  {
   "cell_type": "code",
   "execution_count": 378,
   "metadata": {},
   "outputs": [
    {
     "data": {
      "text/plain": [
       "ANO_EMISION               0.000000\n",
       "MES_EMISION               0.000000\n",
       "DIA_EMISION               0.000000\n",
       "DEPTO_MCPIO               0.000000\n",
       "QUIEN_REPORTA             0.000000\n",
       "VIC_SEXO                  0.000000\n",
       "VIC_EDAD                  0.000000\n",
       "TOTAL_HIJOS               0.000000\n",
       "NUM_HIJ_HOM               0.000000\n",
       "NUM_HIJ_MUJ               0.000000\n",
       "VIC_ALFAB                 0.000000\n",
       "VIC_ESCOLARIDAD           0.000000\n",
       "VIC_EST_CIV               0.000000\n",
       "VIC_GRUPET                0.000000\n",
       "VIC_NACIONAL              0.000000\n",
       "VIC_TRABAJA               0.000000\n",
       "VIC_OCUP                 66.281733\n",
       "VIC_DEDICA               33.829854\n",
       "VIC_DISC                  0.000000\n",
       "VIC_REL_AGR               0.000000\n",
       "OTRAS_VICTIMAS            0.000000\n",
       "VIC_OTRAS_HOM             0.000000\n",
       "VIC_OTRAS_MUJ             0.000000\n",
       "VIC_OTRAS_N_OS            0.000000\n",
       "VIC_OTRAS_N_AS            0.000000\n",
       "HEC_DIA                   0.000000\n",
       "HEC_MES                   0.000000\n",
       "HEC_ANO                   0.130594\n",
       "HEC_DEPTOMCPIO            0.000000\n",
       "HEC_AREA                  0.000000\n",
       "HEC_TIPAGRE               0.000000\n",
       "HEC_RECUR_DENUN           0.000000\n",
       "AGR_SEXO                  0.000000\n",
       "AGR_EDAD                  0.000000\n",
       "AGR_ALFAB                 0.000000\n",
       "AGR_ESCOLARIDAD           0.000000\n",
       "AGR_EST_CIV               0.000000\n",
       "AGR_GRUPET                0.000000\n",
       "AGR_NACIONAL              0.000000\n",
       "AGR_TRABAJA               0.000000\n",
       "AGR_OCUP                 21.147568\n",
       "AGR_DEDICA               78.733795\n",
       "AGRESORES_OTROS_TOTAL     0.000000\n",
       "AGR_OTROS_HOM             0.000000\n",
       "AGR_OTRAS_MUJ             0.000000\n",
       "AGR_OTROS_N_OS            0.000000\n",
       "AGR_OTRAS_N_AS            0.000000\n",
       "INST_DENUN_HECHO          0.000000\n",
       "LEY_APLICABLE            44.763537\n",
       "dtype: float64"
      ]
     },
     "execution_count": 378,
     "metadata": {},
     "output_type": "execute_result"
    }
   ],
   "source": [
    "missing_data_percentage = df.isnull().mean() * 100  # missing data percentage\n",
    "missing_data_percentage"
   ]
  },
  {
   "cell_type": "code",
   "execution_count": 379,
   "metadata": {},
   "outputs": [],
   "source": [
    "# Joining two columns AGR_DEDICA and AGR_OCUP\n",
    "# Create a new column with the joined values\n",
    "# When some columns is missing the value is replaced by the other column\n",
    "df['AGR_DEDICA'] = df['AGR_DEDICA'].fillna('') + df['AGR_OCUP'].fillna('')\n",
    "df['VIC_DEDICA'] = df['VIC_DEDICA'].fillna('') + df['VIC_OCUP'].fillna('')\n",
    "\n",
    "# Drop the original columns\n",
    "df = df.drop(columns=['AGR_OCUP', 'VIC_OCUP'])"
   ]
  },
  {
   "cell_type": "code",
   "execution_count": 380,
   "metadata": {},
   "outputs": [
    {
     "data": {
      "text/plain": [
       "ANO_EMISION               0.000000\n",
       "MES_EMISION               0.000000\n",
       "DIA_EMISION               0.000000\n",
       "DEPTO_MCPIO               0.000000\n",
       "QUIEN_REPORTA             0.000000\n",
       "VIC_SEXO                  0.000000\n",
       "VIC_EDAD                  0.000000\n",
       "TOTAL_HIJOS               0.000000\n",
       "NUM_HIJ_HOM               0.000000\n",
       "NUM_HIJ_MUJ               0.000000\n",
       "VIC_ALFAB                 0.000000\n",
       "VIC_ESCOLARIDAD           0.000000\n",
       "VIC_EST_CIV               0.000000\n",
       "VIC_GRUPET                0.000000\n",
       "VIC_NACIONAL              0.000000\n",
       "VIC_TRABAJA               0.000000\n",
       "VIC_DEDICA                0.000000\n",
       "VIC_DISC                  0.000000\n",
       "VIC_REL_AGR               0.000000\n",
       "OTRAS_VICTIMAS            0.000000\n",
       "VIC_OTRAS_HOM             0.000000\n",
       "VIC_OTRAS_MUJ             0.000000\n",
       "VIC_OTRAS_N_OS            0.000000\n",
       "VIC_OTRAS_N_AS            0.000000\n",
       "HEC_DIA                   0.000000\n",
       "HEC_MES                   0.000000\n",
       "HEC_ANO                   0.130594\n",
       "HEC_DEPTOMCPIO            0.000000\n",
       "HEC_AREA                  0.000000\n",
       "HEC_TIPAGRE               0.000000\n",
       "HEC_RECUR_DENUN           0.000000\n",
       "AGR_SEXO                  0.000000\n",
       "AGR_EDAD                  0.000000\n",
       "AGR_ALFAB                 0.000000\n",
       "AGR_ESCOLARIDAD           0.000000\n",
       "AGR_EST_CIV               0.000000\n",
       "AGR_GRUPET                0.000000\n",
       "AGR_NACIONAL              0.000000\n",
       "AGR_TRABAJA               0.000000\n",
       "AGR_DEDICA                0.000000\n",
       "AGRESORES_OTROS_TOTAL     0.000000\n",
       "AGR_OTROS_HOM             0.000000\n",
       "AGR_OTRAS_MUJ             0.000000\n",
       "AGR_OTROS_N_OS            0.000000\n",
       "AGR_OTRAS_N_AS            0.000000\n",
       "INST_DENUN_HECHO          0.000000\n",
       "LEY_APLICABLE            44.763537\n",
       "dtype: float64"
      ]
     },
     "execution_count": 380,
     "metadata": {},
     "output_type": "execute_result"
    }
   ],
   "source": [
    "missing_data_percentage = df.isnull().mean() * 100  # missing data percentage\n",
    "missing_data_percentage"
   ]
  },
  {
   "cell_type": "code",
   "execution_count": 381,
   "metadata": {},
   "outputs": [
    {
     "data": {
      "text/plain": [
       "(326203, 47)"
      ]
     },
     "execution_count": 381,
     "metadata": {},
     "output_type": "execute_result"
    }
   ],
   "source": [
    "df.shape"
   ]
  },
  {
   "cell_type": "code",
   "execution_count": 382,
   "metadata": {},
   "outputs": [],
   "source": [
    "# Remove any VIC_DEDICA and AGR_DEDICA with length 0 after stripping\n",
    "df = df[df['VIC_DEDICA'].str.strip().astype(bool)]\n",
    "df = df[df['AGR_DEDICA'].str.strip().astype(bool)]"
   ]
  },
  {
   "cell_type": "code",
   "execution_count": 383,
   "metadata": {},
   "outputs": [
    {
     "data": {
      "text/plain": [
       "ANO_EMISION               0.000000\n",
       "MES_EMISION               0.000000\n",
       "DIA_EMISION               0.000000\n",
       "DEPTO_MCPIO               0.000000\n",
       "QUIEN_REPORTA             0.000000\n",
       "VIC_SEXO                  0.000000\n",
       "VIC_EDAD                  0.000000\n",
       "TOTAL_HIJOS               0.000000\n",
       "NUM_HIJ_HOM               0.000000\n",
       "NUM_HIJ_MUJ               0.000000\n",
       "VIC_ALFAB                 0.000000\n",
       "VIC_ESCOLARIDAD           0.000000\n",
       "VIC_EST_CIV               0.000000\n",
       "VIC_GRUPET                0.000000\n",
       "VIC_NACIONAL              0.000000\n",
       "VIC_TRABAJA               0.000000\n",
       "VIC_DEDICA                0.000000\n",
       "VIC_DISC                  0.000000\n",
       "VIC_REL_AGR               0.000000\n",
       "OTRAS_VICTIMAS            0.000000\n",
       "VIC_OTRAS_HOM             0.000000\n",
       "VIC_OTRAS_MUJ             0.000000\n",
       "VIC_OTRAS_N_OS            0.000000\n",
       "VIC_OTRAS_N_AS            0.000000\n",
       "HEC_DIA                   0.000000\n",
       "HEC_MES                   0.000000\n",
       "HEC_ANO                   0.115705\n",
       "HEC_DEPTOMCPIO            0.000000\n",
       "HEC_AREA                  0.000000\n",
       "HEC_TIPAGRE               0.000000\n",
       "HEC_RECUR_DENUN           0.000000\n",
       "AGR_SEXO                  0.000000\n",
       "AGR_EDAD                  0.000000\n",
       "AGR_ALFAB                 0.000000\n",
       "AGR_ESCOLARIDAD           0.000000\n",
       "AGR_EST_CIV               0.000000\n",
       "AGR_GRUPET                0.000000\n",
       "AGR_NACIONAL              0.000000\n",
       "AGR_TRABAJA               0.000000\n",
       "AGR_DEDICA                0.000000\n",
       "AGRESORES_OTROS_TOTAL     0.000000\n",
       "AGR_OTROS_HOM             0.000000\n",
       "AGR_OTRAS_MUJ             0.000000\n",
       "AGR_OTROS_N_OS            0.000000\n",
       "AGR_OTRAS_N_AS            0.000000\n",
       "INST_DENUN_HECHO          0.000000\n",
       "LEY_APLICABLE            44.852992\n",
       "dtype: float64"
      ]
     },
     "execution_count": 383,
     "metadata": {},
     "output_type": "execute_result"
    }
   ],
   "source": [
    "missing_data_percentage = df.isnull().mean() * 100  # missing data percentage\n",
    "missing_data_percentage"
   ]
  },
  {
   "cell_type": "code",
   "execution_count": 384,
   "metadata": {},
   "outputs": [
    {
     "data": {
      "text/plain": [
       "(319778, 47)"
      ]
     },
     "execution_count": 384,
     "metadata": {},
     "output_type": "execute_result"
    }
   ],
   "source": [
    "df.shape"
   ]
  },
  {
   "cell_type": "code",
   "execution_count": 385,
   "metadata": {},
   "outputs": [
    {
     "name": "stdout",
     "output_type": "stream",
     "text": [
      "<class 'pandas.core.frame.DataFrame'>\n",
      "Index: 319778 entries, 0 to 327780\n",
      "Data columns (total 47 columns):\n",
      " #   Column                 Non-Null Count   Dtype  \n",
      "---  ------                 --------------   -----  \n",
      " 0   ANO_EMISION            319778 non-null  float64\n",
      " 1   MES_EMISION            319778 non-null  object \n",
      " 2   DIA_EMISION            319778 non-null  float64\n",
      " 3   DEPTO_MCPIO            319778 non-null  object \n",
      " 4   QUIEN_REPORTA          319778 non-null  object \n",
      " 5   VIC_SEXO               319778 non-null  object \n",
      " 6   VIC_EDAD               319778 non-null  float64\n",
      " 7   TOTAL_HIJOS            319778 non-null  object \n",
      " 8   NUM_HIJ_HOM            319778 non-null  object \n",
      " 9   NUM_HIJ_MUJ            319778 non-null  object \n",
      " 10  VIC_ALFAB              319778 non-null  object \n",
      " 11  VIC_ESCOLARIDAD        319778 non-null  float64\n",
      " 12  VIC_EST_CIV            319778 non-null  object \n",
      " 13  VIC_GRUPET             319778 non-null  object \n",
      " 14  VIC_NACIONAL           319778 non-null  object \n",
      " 15  VIC_TRABAJA            319778 non-null  object \n",
      " 16  VIC_DEDICA             319778 non-null  object \n",
      " 17  VIC_DISC               319778 non-null  object \n",
      " 18  VIC_REL_AGR            319778 non-null  object \n",
      " 19  OTRAS_VICTIMAS         319778 non-null  object \n",
      " 20  VIC_OTRAS_HOM          319778 non-null  object \n",
      " 21  VIC_OTRAS_MUJ          319778 non-null  object \n",
      " 22  VIC_OTRAS_N_OS         319778 non-null  object \n",
      " 23  VIC_OTRAS_N_AS         319778 non-null  object \n",
      " 24  HEC_DIA                319778 non-null  float64\n",
      " 25  HEC_MES                319778 non-null  object \n",
      " 26  HEC_ANO                319408 non-null  float64\n",
      " 27  HEC_DEPTOMCPIO         319778 non-null  object \n",
      " 28  HEC_AREA               319778 non-null  object \n",
      " 29  HEC_TIPAGRE            319778 non-null  object \n",
      " 30  HEC_RECUR_DENUN        319778 non-null  object \n",
      " 31  AGR_SEXO               319778 non-null  object \n",
      " 32  AGR_EDAD               319778 non-null  float64\n",
      " 33  AGR_ALFAB              319778 non-null  object \n",
      " 34  AGR_ESCOLARIDAD        319778 non-null  float64\n",
      " 35  AGR_EST_CIV            319778 non-null  object \n",
      " 36  AGR_GRUPET             319778 non-null  object \n",
      " 37  AGR_NACIONAL           319778 non-null  object \n",
      " 38  AGR_TRABAJA            319778 non-null  object \n",
      " 39  AGR_DEDICA             319778 non-null  object \n",
      " 40  AGRESORES_OTROS_TOTAL  319778 non-null  int64  \n",
      " 41  AGR_OTROS_HOM          319778 non-null  float64\n",
      " 42  AGR_OTRAS_MUJ          319778 non-null  float64\n",
      " 43  AGR_OTROS_N_OS         319778 non-null  float64\n",
      " 44  AGR_OTRAS_N_AS         319778 non-null  float64\n",
      " 45  INST_DENUN_HECHO       319778 non-null  object \n",
      " 46  LEY_APLICABLE          176348 non-null  object \n",
      "dtypes: float64(12), int64(1), object(34)\n",
      "memory usage: 117.1+ MB\n"
     ]
    }
   ],
   "source": [
    "df.info()"
   ]
  },
  {
   "cell_type": "code",
   "execution_count": 386,
   "metadata": {},
   "outputs": [],
   "source": [
    "# Save the cleaned data\n",
    "df.to_csv('data/gen/cleaned.csv', index=False)"
   ]
  }
 ],
 "metadata": {
  "kernelspec": {
   "display_name": "Python 3",
   "language": "python",
   "name": "python3"
  },
  "language_info": {
   "codemirror_mode": {
    "name": "ipython",
    "version": 3
   },
   "file_extension": ".py",
   "mimetype": "text/x-python",
   "name": "python",
   "nbconvert_exporter": "python",
   "pygments_lexer": "ipython3",
   "version": "3.10.2"
  }
 },
 "nbformat": 4,
 "nbformat_minor": 2
}
