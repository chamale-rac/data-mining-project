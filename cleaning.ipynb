{
 "cells": [
  {
   "cell_type": "markdown",
   "metadata": {},
   "source": [
    "# Cleaning the records\n",
    "\n",
    "In this Jupyter Notebook, we will execute a exploratory analysis.\n",
    "\n",
    "Instructions: To run this notebook is required to have a the data/gen/merged.csv file. Generate it using the merge.ipynb\n"
   ]
  },
  {
   "cell_type": "code",
   "execution_count": 243,
   "metadata": {},
   "outputs": [],
   "source": [
    "# Importing the libraries\n",
    "import pandas as pd\n",
    "import seaborn as sns  # Para visualización de datos mas avanzada\n",
    "%matplotlib inline\n",
    "import matplotlib.pyplot as plt # Para visualización de datos"
   ]
  },
  {
   "cell_type": "code",
   "execution_count": 244,
   "metadata": {},
   "outputs": [],
   "source": [
    "# Constants for the resources\n",
    "DATA_FILE = 'data/gen/merged.csv'\n",
    "LABELS_FILE = 'data/labels/labels.csv'"
   ]
  },
  {
   "cell_type": "code",
   "execution_count": 245,
   "metadata": {},
   "outputs": [],
   "source": [
    "df_labels = pd.read_csv(LABELS_FILE, delimiter='|')"
   ]
  },
  {
   "cell_type": "code",
   "execution_count": 246,
   "metadata": {},
   "outputs": [
    {
     "name": "stderr",
     "output_type": "stream",
     "text": [
      "C:\\Users\\chama\\AppData\\Local\\Temp\\ipykernel_7944\\947250292.py:2: DtypeWarning: Columns (3,6,26,28,29) have mixed types. Specify dtype option on import or set low_memory=False.\n",
      "  df = pd.read_csv(DATA_FILE)\n"
     ]
    },
    {
     "data": {
      "text/html": [
       "<div>\n",
       "<style scoped>\n",
       "    .dataframe tbody tr th:only-of-type {\n",
       "        vertical-align: middle;\n",
       "    }\n",
       "\n",
       "    .dataframe tbody tr th {\n",
       "        vertical-align: top;\n",
       "    }\n",
       "\n",
       "    .dataframe thead th {\n",
       "        text-align: right;\n",
       "    }\n",
       "</style>\n",
       "<table border=\"1\" class=\"dataframe\">\n",
       "  <thead>\n",
       "    <tr style=\"text-align: right;\">\n",
       "      <th></th>\n",
       "      <th>ANO_EMISION</th>\n",
       "      <th>MES_EMISION</th>\n",
       "      <th>DIA_EMISION</th>\n",
       "      <th>DEPTO_MCPIO</th>\n",
       "      <th>QUIEN_REPORTA</th>\n",
       "      <th>VIC_SEXO</th>\n",
       "      <th>VIC_EDAD</th>\n",
       "      <th>TOTAL_HIJOS</th>\n",
       "      <th>NUM_HIJ_HOM</th>\n",
       "      <th>NUM_HIJ_MUJ</th>\n",
       "      <th>...</th>\n",
       "      <th>AGR_OCUP</th>\n",
       "      <th>AGR_DEDICA</th>\n",
       "      <th>AGRESORES_OTROS_TOTAL</th>\n",
       "      <th>AGR_OTROS_HOM</th>\n",
       "      <th>AGR_OTRAS_MUJ</th>\n",
       "      <th>AGR_OTROS_N_OS</th>\n",
       "      <th>AGR_OTRAS_N_AS</th>\n",
       "      <th>INST_DENUN_HECHO</th>\n",
       "      <th>MEDIDAS_SEGURIDAD</th>\n",
       "      <th>LEY_APLICABLE</th>\n",
       "    </tr>\n",
       "  </thead>\n",
       "  <tbody>\n",
       "    <tr>\n",
       "      <th>0</th>\n",
       "      <td>2013.0</td>\n",
       "      <td>Enero</td>\n",
       "      <td>22.0</td>\n",
       "      <td>Guatemala</td>\n",
       "      <td>Víctima</td>\n",
       "      <td>Mujeres</td>\n",
       "      <td>38</td>\n",
       "      <td>02</td>\n",
       "      <td>01</td>\n",
       "      <td>01</td>\n",
       "      <td>...</td>\n",
       "      <td>Ocupaciones ignoradas</td>\n",
       "      <td>NaN</td>\n",
       "      <td>Ninguna</td>\n",
       "      <td>Ninguna</td>\n",
       "      <td>Ninguna</td>\n",
       "      <td>Ninguna</td>\n",
       "      <td>Ninguna</td>\n",
       "      <td>Organismo Judicial</td>\n",
       "      <td>Medidas otorgadas</td>\n",
       "      <td>Ambas leyes (VIF y VCM)</td>\n",
       "    </tr>\n",
       "    <tr>\n",
       "      <th>1</th>\n",
       "      <td>2013.0</td>\n",
       "      <td>Enero</td>\n",
       "      <td>24.0</td>\n",
       "      <td>Guatemala</td>\n",
       "      <td>Víctima</td>\n",
       "      <td>Mujeres</td>\n",
       "      <td>20</td>\n",
       "      <td>01</td>\n",
       "      <td>Ninguna</td>\n",
       "      <td>01</td>\n",
       "      <td>...</td>\n",
       "      <td>Trabajadores ambulantes de servicios y afines</td>\n",
       "      <td>NaN</td>\n",
       "      <td>Ignorado</td>\n",
       "      <td>99.0</td>\n",
       "      <td>99.0</td>\n",
       "      <td>99.0</td>\n",
       "      <td>99.0</td>\n",
       "      <td>Ministerio Público</td>\n",
       "      <td>NaN</td>\n",
       "      <td>NaN</td>\n",
       "    </tr>\n",
       "    <tr>\n",
       "      <th>2</th>\n",
       "      <td>2013.0</td>\n",
       "      <td>Enero</td>\n",
       "      <td>21.0</td>\n",
       "      <td>Guatemala</td>\n",
       "      <td>Víctima</td>\n",
       "      <td>Mujeres</td>\n",
       "      <td>21</td>\n",
       "      <td>02</td>\n",
       "      <td>01</td>\n",
       "      <td>01</td>\n",
       "      <td>...</td>\n",
       "      <td>Albañiles</td>\n",
       "      <td>NaN</td>\n",
       "      <td>Ignorado</td>\n",
       "      <td>99.0</td>\n",
       "      <td>99.0</td>\n",
       "      <td>99.0</td>\n",
       "      <td>99.0</td>\n",
       "      <td>Procuraduría de los Derechos Humanos</td>\n",
       "      <td>NaN</td>\n",
       "      <td>NaN</td>\n",
       "    </tr>\n",
       "    <tr>\n",
       "      <th>3</th>\n",
       "      <td>2013.0</td>\n",
       "      <td>Enero</td>\n",
       "      <td>2.0</td>\n",
       "      <td>Guatemala</td>\n",
       "      <td>Víctima</td>\n",
       "      <td>Hombres</td>\n",
       "      <td>70</td>\n",
       "      <td>Ninguna</td>\n",
       "      <td>Ninguna</td>\n",
       "      <td>Ninguna</td>\n",
       "      <td>...</td>\n",
       "      <td>NaN</td>\n",
       "      <td>Quehaceres del Hogar</td>\n",
       "      <td>Ignorado</td>\n",
       "      <td>99.0</td>\n",
       "      <td>99.0</td>\n",
       "      <td>99.0</td>\n",
       "      <td>99.0</td>\n",
       "      <td>Procuraduría de los Derechos Humanos</td>\n",
       "      <td>NaN</td>\n",
       "      <td>NaN</td>\n",
       "    </tr>\n",
       "    <tr>\n",
       "      <th>4</th>\n",
       "      <td>2013.0</td>\n",
       "      <td>Enero</td>\n",
       "      <td>10.0</td>\n",
       "      <td>Guatemala</td>\n",
       "      <td>Víctima</td>\n",
       "      <td>Mujeres</td>\n",
       "      <td>36</td>\n",
       "      <td>Ignorado</td>\n",
       "      <td>Ignorado</td>\n",
       "      <td>Ignorado</td>\n",
       "      <td>...</td>\n",
       "      <td>Ocupaciones no especificadas en las anteriores</td>\n",
       "      <td>NaN</td>\n",
       "      <td>Ignorado</td>\n",
       "      <td>99.0</td>\n",
       "      <td>99.0</td>\n",
       "      <td>99.0</td>\n",
       "      <td>99.0</td>\n",
       "      <td>Procuraduría de los Derechos Humanos</td>\n",
       "      <td>NaN</td>\n",
       "      <td>NaN</td>\n",
       "    </tr>\n",
       "  </tbody>\n",
       "</table>\n",
       "<p>5 rows × 52 columns</p>\n",
       "</div>"
      ],
      "text/plain": [
       "   ANO_EMISION MES_EMISION  DIA_EMISION DEPTO_MCPIO QUIEN_REPORTA VIC_SEXO  \\\n",
       "0       2013.0       Enero         22.0   Guatemala       Víctima  Mujeres   \n",
       "1       2013.0       Enero         24.0   Guatemala       Víctima  Mujeres   \n",
       "2       2013.0       Enero         21.0   Guatemala       Víctima  Mujeres   \n",
       "3       2013.0       Enero          2.0   Guatemala       Víctima  Hombres   \n",
       "4       2013.0       Enero         10.0   Guatemala       Víctima  Mujeres   \n",
       "\n",
       "  VIC_EDAD TOTAL_HIJOS NUM_HIJ_HOM NUM_HIJ_MUJ  ...  \\\n",
       "0       38          02          01          01  ...   \n",
       "1       20          01     Ninguna          01  ...   \n",
       "2       21          02          01          01  ...   \n",
       "3       70     Ninguna     Ninguna     Ninguna  ...   \n",
       "4       36    Ignorado    Ignorado    Ignorado  ...   \n",
       "\n",
       "                                         AGR_OCUP            AGR_DEDICA  \\\n",
       "0                           Ocupaciones ignoradas                   NaN   \n",
       "1   Trabajadores ambulantes de servicios y afines                   NaN   \n",
       "2                                       Albañiles                   NaN   \n",
       "3                                             NaN  Quehaceres del Hogar   \n",
       "4  Ocupaciones no especificadas en las anteriores                   NaN   \n",
       "\n",
       "  AGRESORES_OTROS_TOTAL AGR_OTROS_HOM AGR_OTRAS_MUJ AGR_OTROS_N_OS  \\\n",
       "0               Ninguna       Ninguna       Ninguna        Ninguna   \n",
       "1              Ignorado          99.0          99.0           99.0   \n",
       "2              Ignorado          99.0          99.0           99.0   \n",
       "3              Ignorado          99.0          99.0           99.0   \n",
       "4              Ignorado          99.0          99.0           99.0   \n",
       "\n",
       "  AGR_OTRAS_N_AS                      INST_DENUN_HECHO  MEDIDAS_SEGURIDAD  \\\n",
       "0        Ninguna                    Organismo Judicial  Medidas otorgadas   \n",
       "1           99.0                    Ministerio Público                NaN   \n",
       "2           99.0  Procuraduría de los Derechos Humanos                NaN   \n",
       "3           99.0  Procuraduría de los Derechos Humanos                NaN   \n",
       "4           99.0  Procuraduría de los Derechos Humanos                NaN   \n",
       "\n",
       "             LEY_APLICABLE  \n",
       "0  Ambas leyes (VIF y VCM)  \n",
       "1                      NaN  \n",
       "2                      NaN  \n",
       "3                      NaN  \n",
       "4                      NaN  \n",
       "\n",
       "[5 rows x 52 columns]"
      ]
     },
     "execution_count": 246,
     "metadata": {},
     "output_type": "execute_result"
    }
   ],
   "source": [
    "# Importing the dataset\n",
    "df = pd.read_csv(DATA_FILE)\n",
    "df.head()"
   ]
  },
  {
   "cell_type": "markdown",
   "metadata": {},
   "source": [
    "Nota: Vemos que tenemos columnas con tipos de datos irregulares. Columnas (3,6,26,28,29)\n"
   ]
  },
  {
   "cell_type": "code",
   "execution_count": 247,
   "metadata": {},
   "outputs": [
    {
     "data": {
      "text/plain": [
       "(327781, 52)"
      ]
     },
     "execution_count": 247,
     "metadata": {},
     "output_type": "execute_result"
    }
   ],
   "source": [
    "df.shape"
   ]
  },
  {
   "cell_type": "code",
   "execution_count": 248,
   "metadata": {},
   "outputs": [
    {
     "name": "stdout",
     "output_type": "stream",
     "text": [
      "<class 'pandas.core.frame.DataFrame'>\n",
      "RangeIndex: 327781 entries, 0 to 327780\n",
      "Data columns (total 52 columns):\n",
      " #   Column                 Non-Null Count   Dtype  \n",
      "---  ------                 --------------   -----  \n",
      " 0   ANO_EMISION            327781 non-null  float64\n",
      " 1   MES_EMISION            327781 non-null  object \n",
      " 2   DIA_EMISION            327781 non-null  float64\n",
      " 3   DEPTO_MCPIO            327781 non-null  object \n",
      " 4   QUIEN_REPORTA          327781 non-null  object \n",
      " 5   VIC_SEXO               327781 non-null  object \n",
      " 6   VIC_EDAD               327781 non-null  object \n",
      " 7   TOTAL_HIJOS            326215 non-null  object \n",
      " 8   NUM_HIJ_HOM            326215 non-null  object \n",
      " 9   NUM_HIJ_MUJ            326215 non-null  object \n",
      " 10  VIC_ALFAB              327144 non-null  object \n",
      " 11  VIC_ESCOLARIDAD        327144 non-null  object \n",
      " 12  VIC_EST_CIV            326215 non-null  object \n",
      " 13  VIC_GRUPET             327781 non-null  object \n",
      " 14  VIC_NACIONAL           327781 non-null  object \n",
      " 15  VIC_TRABAJA            327144 non-null  object \n",
      " 16  VIC_OCUP               110006 non-null  object \n",
      " 17  VIC_DEDICA             216771 non-null  object \n",
      " 18  VIC_DISC               327781 non-null  object \n",
      " 19  TIPO_DISCAQ            7313 non-null    object \n",
      " 20  VIC_REL_AGR            327781 non-null  object \n",
      " 21  OTRAS_VICTIMAS         327781 non-null  object \n",
      " 22  VIC_OTRAS_HOM          327781 non-null  object \n",
      " 23  VIC_OTRAS_MUJ          327781 non-null  object \n",
      " 24  VIC_OTRAS_N_OS         327781 non-null  object \n",
      " 25  VIC_OTRAS_N_AS         327781 non-null  object \n",
      " 26  HEC_DIA                327781 non-null  object \n",
      " 27  HEC_MES                327781 non-null  object \n",
      " 28  HEC_ANO                327781 non-null  object \n",
      " 29  HEC_DEPTOMCPIO         327781 non-null  object \n",
      " 30  HEC_AREA               327781 non-null  object \n",
      " 31  HEC_TIPAGRE            327781 non-null  object \n",
      " 32  HEC_RECUR_DENUN        327781 non-null  object \n",
      " 33  INST_DONDE_DENUNCIO    40531 non-null   object \n",
      " 34  AGR_SEXO               327781 non-null  object \n",
      " 35  AGR_EDAD               327781 non-null  object \n",
      " 36  AGR_ALFAB              327781 non-null  object \n",
      " 37  AGR_ESCOLARIDAD        327781 non-null  object \n",
      " 38  AGR_EST_CIV            327756 non-null  object \n",
      " 39  AGR_GRUPET             327781 non-null  object \n",
      " 40  AGR_NACIONAL           327781 non-null  object \n",
      " 41  AGR_TRABAJA            327781 non-null  object \n",
      " 42  AGR_OCUP               257981 non-null  object \n",
      " 43  AGR_DEDICA             70199 non-null   object \n",
      " 44  AGRESORES_OTROS_TOTAL  327781 non-null  object \n",
      " 45  AGR_OTROS_HOM          327781 non-null  object \n",
      " 46  AGR_OTRAS_MUJ          327781 non-null  object \n",
      " 47  AGR_OTROS_N_OS         327781 non-null  object \n",
      " 48  AGR_OTRAS_N_AS         327781 non-null  object \n",
      " 49  INST_DENUN_HECHO       327781 non-null  object \n",
      " 50  MEDIDAS_SEGURIDAD      179213 non-null  object \n",
      " 51  LEY_APLICABLE          180511 non-null  object \n",
      "dtypes: float64(2), object(50)\n",
      "memory usage: 130.0+ MB\n"
     ]
    }
   ],
   "source": [
    "df.info()"
   ]
  },
  {
   "cell_type": "code",
   "execution_count": 249,
   "metadata": {},
   "outputs": [
    {
     "data": {
      "text/plain": [
       "ANO_EMISION                   0\n",
       "MES_EMISION                   0\n",
       "DIA_EMISION                   0\n",
       "DEPTO_MCPIO                   0\n",
       "QUIEN_REPORTA                 0\n",
       "VIC_SEXO                      0\n",
       "VIC_EDAD                      0\n",
       "TOTAL_HIJOS                1566\n",
       "NUM_HIJ_HOM                1566\n",
       "NUM_HIJ_MUJ                1566\n",
       "VIC_ALFAB                   637\n",
       "VIC_ESCOLARIDAD             637\n",
       "VIC_EST_CIV                1566\n",
       "VIC_GRUPET                    0\n",
       "VIC_NACIONAL                  0\n",
       "VIC_TRABAJA                 637\n",
       "VIC_OCUP                 217775\n",
       "VIC_DEDICA               111010\n",
       "VIC_DISC                      0\n",
       "TIPO_DISCAQ              320468\n",
       "VIC_REL_AGR                   0\n",
       "OTRAS_VICTIMAS                0\n",
       "VIC_OTRAS_HOM                 0\n",
       "VIC_OTRAS_MUJ                 0\n",
       "VIC_OTRAS_N_OS                0\n",
       "VIC_OTRAS_N_AS                0\n",
       "HEC_DIA                       0\n",
       "HEC_MES                       0\n",
       "HEC_ANO                       0\n",
       "HEC_DEPTOMCPIO                0\n",
       "HEC_AREA                      0\n",
       "HEC_TIPAGRE                   0\n",
       "HEC_RECUR_DENUN               0\n",
       "INST_DONDE_DENUNCIO      287250\n",
       "AGR_SEXO                      0\n",
       "AGR_EDAD                      0\n",
       "AGR_ALFAB                     0\n",
       "AGR_ESCOLARIDAD               0\n",
       "AGR_EST_CIV                  25\n",
       "AGR_GRUPET                    0\n",
       "AGR_NACIONAL                  0\n",
       "AGR_TRABAJA                   0\n",
       "AGR_OCUP                  69800\n",
       "AGR_DEDICA               257582\n",
       "AGRESORES_OTROS_TOTAL         0\n",
       "AGR_OTROS_HOM                 0\n",
       "AGR_OTRAS_MUJ                 0\n",
       "AGR_OTROS_N_OS                0\n",
       "AGR_OTRAS_N_AS                0\n",
       "INST_DENUN_HECHO              0\n",
       "MEDIDAS_SEGURIDAD        148568\n",
       "LEY_APLICABLE            147270\n",
       "dtype: int64"
      ]
     },
     "execution_count": 249,
     "metadata": {},
     "output_type": "execute_result"
    }
   ],
   "source": [
    "df.isnull().sum()"
   ]
  },
  {
   "cell_type": "code",
   "execution_count": 250,
   "metadata": {},
   "outputs": [
    {
     "data": {
      "text/plain": [
       "ANO_EMISION               0.000000\n",
       "MES_EMISION               0.000000\n",
       "DIA_EMISION               0.000000\n",
       "DEPTO_MCPIO               0.000000\n",
       "QUIEN_REPORTA             0.000000\n",
       "VIC_SEXO                  0.000000\n",
       "VIC_EDAD                  0.000000\n",
       "TOTAL_HIJOS               0.477758\n",
       "NUM_HIJ_HOM               0.477758\n",
       "NUM_HIJ_MUJ               0.477758\n",
       "VIC_ALFAB                 0.194337\n",
       "VIC_ESCOLARIDAD           0.194337\n",
       "VIC_EST_CIV               0.477758\n",
       "VIC_GRUPET                0.000000\n",
       "VIC_NACIONAL              0.000000\n",
       "VIC_TRABAJA               0.194337\n",
       "VIC_OCUP                 66.439177\n",
       "VIC_DEDICA               33.867125\n",
       "VIC_DISC                  0.000000\n",
       "TIPO_DISCAQ              97.768937\n",
       "VIC_REL_AGR               0.000000\n",
       "OTRAS_VICTIMAS            0.000000\n",
       "VIC_OTRAS_HOM             0.000000\n",
       "VIC_OTRAS_MUJ             0.000000\n",
       "VIC_OTRAS_N_OS            0.000000\n",
       "VIC_OTRAS_N_AS            0.000000\n",
       "HEC_DIA                   0.000000\n",
       "HEC_MES                   0.000000\n",
       "HEC_ANO                   0.000000\n",
       "HEC_DEPTOMCPIO            0.000000\n",
       "HEC_AREA                  0.000000\n",
       "HEC_TIPAGRE               0.000000\n",
       "HEC_RECUR_DENUN           0.000000\n",
       "INST_DONDE_DENUNCIO      87.634732\n",
       "AGR_SEXO                  0.000000\n",
       "AGR_EDAD                  0.000000\n",
       "AGR_ALFAB                 0.000000\n",
       "AGR_ESCOLARIDAD           0.000000\n",
       "AGR_EST_CIV               0.007627\n",
       "AGR_GRUPET                0.000000\n",
       "AGR_NACIONAL              0.000000\n",
       "AGR_TRABAJA               0.000000\n",
       "AGR_OCUP                 21.294706\n",
       "AGR_DEDICA               78.583566\n",
       "AGRESORES_OTROS_TOTAL     0.000000\n",
       "AGR_OTROS_HOM             0.000000\n",
       "AGR_OTRAS_MUJ             0.000000\n",
       "AGR_OTROS_N_OS            0.000000\n",
       "AGR_OTRAS_N_AS            0.000000\n",
       "INST_DENUN_HECHO          0.000000\n",
       "MEDIDAS_SEGURIDAD        45.325385\n",
       "LEY_APLICABLE            44.929389\n",
       "dtype: float64"
      ]
     },
     "execution_count": 250,
     "metadata": {},
     "output_type": "execute_result"
    }
   ],
   "source": [
    "missing_data_percentage = df.isnull().mean() * 100  # missing data percentage\n",
    "missing_data_percentage"
   ]
  },
  {
   "cell_type": "markdown",
   "metadata": {},
   "source": [
    "## Eliminación de columnas difusas.\n"
   ]
  },
  {
   "cell_type": "code",
   "execution_count": 251,
   "metadata": {},
   "outputs": [],
   "source": [
    "# Remove columns\n",
    "\n",
    "COLUMNS_TO_REMOVE = [\n",
    "    'TIPO_DISCAQ',\n",
    "    'INST_DONDE_DENUNCIO',\n",
    "    'MEDIDAS_SEGURIDAD'\n",
    "]\n",
    "\n",
    "\n",
    "df = df.drop(columns=COLUMNS_TO_REMOVE)"
   ]
  },
  {
   "cell_type": "markdown",
   "metadata": {},
   "source": [
    "## Limpieza de valores pequeñas cantidades de valores nulos.\n"
   ]
  },
  {
   "cell_type": "code",
   "execution_count": 252,
   "metadata": {},
   "outputs": [],
   "source": [
    "REMOVE_NULLS_OVER = [\n",
    "    'TOTAL_HIJOS',\n",
    "    'NUM_HIJ_HOM',\n",
    "    'NUM_HIJ_MUJ',\n",
    "    'VIC_ALFAB',\n",
    "    'VIC_ESCOLARIDAD',\n",
    "    'VIC_EST_CIV',\n",
    "    'VIC_TRABAJA',\n",
    "    'AGR_EST_CIV',\n",
    "]\n",
    "# Remove the rows with nulls in the specified columns\n",
    "df = df.dropna(subset=REMOVE_NULLS_OVER)"
   ]
  },
  {
   "cell_type": "code",
   "execution_count": 270,
   "metadata": {},
   "outputs": [
    {
     "data": {
      "text/plain": [
       "TOTAL_HIJOS\n",
       "01          72480\n",
       "02          66540\n",
       "Ignorado    58921\n",
       "03          43416\n",
       "Ninguna     36333\n",
       "04          20211\n",
       "05          10491\n",
       "06           4919\n",
       "07           2888\n",
       "08           1672\n",
       "09            812\n",
       "10            556\n",
       "11            250\n",
       "12            181\n",
       "13             56\n",
       "14             25\n",
       "15             15\n",
       "16              7\n",
       "17              4\n",
       "19              1\n",
       "Name: count, dtype: int64"
      ]
     },
     "execution_count": 270,
     "metadata": {},
     "output_type": "execute_result"
    }
   ],
   "source": [
    "df['TOTAL_HIJOS'].value_counts()"
   ]
  },
  {
   "cell_type": "markdown",
   "metadata": {},
   "source": [
    "## Conversión de datos\n"
   ]
  },
  {
   "cell_type": "markdown",
   "metadata": {},
   "source": [
    "#### Convierte la columna `VIC_EDAD` de tipo numérico\n"
   ]
  },
  {
   "cell_type": "code",
   "execution_count": 253,
   "metadata": {},
   "outputs": [],
   "source": [
    "df['VIC_EDAD'] = pd.to_numeric(df['VIC_EDAD'], errors='coerce')\n",
    "df['VIC_EDAD'] = df['VIC_EDAD'].fillna(98)"
   ]
  },
  {
   "cell_type": "markdown",
   "metadata": {},
   "source": [
    "#### Hace la columna AGR_EDAD de tipo numérico\n"
   ]
  },
  {
   "cell_type": "code",
   "execution_count": 254,
   "metadata": {},
   "outputs": [],
   "source": [
    "df['AGR_EDAD'] = pd.to_numeric(df['AGR_EDAD'], errors='coerce')\n",
    "df['AGR_EDAD'] = df['AGR_EDAD'].fillna(98)"
   ]
  },
  {
   "cell_type": "markdown",
   "metadata": {},
   "source": [
    "#### Hacer la columna HEC_DIA de tipo numérico\n"
   ]
  },
  {
   "cell_type": "code",
   "execution_count": 255,
   "metadata": {},
   "outputs": [],
   "source": [
    "df['HEC_DIA'] = pd.to_numeric(df['HEC_DIA'], errors='coerce')\n",
    "df['HEC_DIA'] = df['HEC_DIA'].fillna(99)"
   ]
  },
  {
   "cell_type": "markdown",
   "metadata": {},
   "source": [
    "#### Hacer columna MES_EMISION a tipo numérico\n"
   ]
  },
  {
   "cell_type": "code",
   "execution_count": 256,
   "metadata": {},
   "outputs": [],
   "source": [
    "# Diccionario para convertir los nombres de los meses a números\n",
    "month_dict = {\n",
    "    'enero': 1, 'febrero': 2, 'marzo': 3, 'abril': 4, 'mayo': 5, 'junio': 6,\n",
    "    'julio': 7, 'agosto': 8, 'septiembre': 9, 'octubre': 10, 'noviembre': 11, 'diciembre': 12\n",
    "}\n",
    "\n",
    "# Reemplazar los nombres de los meses por números\n",
    "df['MES_EMISION'] = df['MES_EMISION'].str.lower().map(month_dict)"
   ]
  },
  {
   "cell_type": "markdown",
   "metadata": {},
   "source": [
    "## Estandarizar datos\n"
   ]
  },
  {
   "cell_type": "markdown",
   "metadata": {},
   "source": [
    "#### Unificamos las columnas `AGR_DEDICA` y `AGR_OCUP`\n"
   ]
  },
  {
   "cell_type": "code",
   "execution_count": 257,
   "metadata": {},
   "outputs": [],
   "source": [
    "\n",
    "df['AGR_DEDICA'] = df['AGR_DEDICA'].fillna('') + df['AGR_OCUP'].fillna('')\n",
    "df['VIC_DEDICA'] = df['VIC_DEDICA'].fillna('') + df['VIC_OCUP'].fillna('')\n",
    "\n",
    "# Eliminar las columnas que ya no necesitamos\n",
    "df = df.drop(columns=['AGR_OCUP', 'VIC_OCUP'])\n",
    "\n",
    "# Quitar los registros que no tienen información de ocupación\n",
    "df = df[df['VIC_DEDICA'].str.strip().astype(bool)]\n",
    "df = df[df['AGR_DEDICA'].str.strip().astype(bool)]"
   ]
  },
  {
   "cell_type": "markdown",
   "metadata": {},
   "source": [
    "#### Unifica `ANO_EMISION`, `MES_EMISION` y `DIA_EMISION` en una nueva columna.\n"
   ]
  },
  {
   "cell_type": "code",
   "execution_count": 258,
   "metadata": {},
   "outputs": [],
   "source": [
    "# Casteo de las columnas\n",
    "df['ANO_EMISION'] = df['ANO_EMISION'].astype(int)\n",
    "df['DIA_EMISION'] = df['DIA_EMISION'].astype(int)\n",
    "\n",
    "# Renombrar las columnas para que sean asignadas correctamente\n",
    "df_temp = df.rename(columns={'ANO_EMISION': 'year',\n",
    "                    'MES_EMISION': 'month', 'DIA_EMISION': 'day'})\n",
    "\n",
    "# Combina las columnas year, month, day en una sola columna\n",
    "df['FECHA_EMISION'] = pd.to_datetime(df_temp[['year', 'month', 'day']])"
   ]
  },
  {
   "cell_type": "markdown",
   "metadata": {},
   "source": [
    "#### Estandarizamos `DEPTO_MCPIO` para utilizar etiquetas y no identificadores.\n"
   ]
  },
  {
   "cell_type": "code",
   "execution_count": 259,
   "metadata": {},
   "outputs": [],
   "source": [
    "# Paso 1: Utilizando df_labels obtenemos las filas donde Código es ANO_EMISION\n",
    "df_util_labels = df_labels[df_labels['Código'] == 'DEPTO_MCPIO'].copy()\n",
    "# Paso 2: Para df 'DEPTO_MCPIO' casteamos a string, hacemos strip y todo a minúsculas\n",
    "df['DEPTO_MCPIO'] = df['DEPTO_MCPIO'].astype(str).str.strip().str.lower()\n",
    "\n",
    "# Paso 3: Para cualquier variable en 'DEPTO_MCPIO' que tenga '.' obtenemos solo el primer valor\n",
    "df['DEPTO_MCPIO'] = df['DEPTO_MCPIO'].str.split('.').str[0]\n",
    "\n",
    "# Paso 4: Utilizando df_util_labels, casteamos Valor y Etiqueta a string\n",
    "df_util_labels['Valor'] = df_util_labels['Valor'].astype(str)\n",
    "df_util_labels['Etiqueta'] = df_util_labels['Etiqueta'].astype(str)\n",
    "\n",
    "# Paso 5: Repetimos, para cualquier valor en 'Valor' que tenga '.' obtenemos solo el primer valor\n",
    "df_util_labels['Valor'] = df_util_labels['Valor'].str.split('.').str[0]\n",
    "\n",
    "# Paso 6: Dado que los DEPTO_MCPIO tiene valores mezclados de Valor y Etiqueta\n",
    "# Procedemos a estandarizar DEPTO_MCPIO solo con los valores de Etiqueta\n",
    "# Osea si en DEPTO_MCPIO encontramos un valor que está en Valor, lo reemplazamos por el valor de Etiqueta\n",
    "# Si no entonces dejamos el valor original\n",
    "\n",
    "# Crear un diccionario de mapeo de 'Valor' a 'Etiqueta'\n",
    "map_dict = df_util_labels.set_index('Valor')['Etiqueta'].to_dict()\n",
    "\n",
    "# Aplicar el mapeo a la columna 'DEPTO_MCPIO'. Si un valor no se encuentra en el diccionario, se deja como está.\n",
    "df['DEPTO_MCPIO'] = df['DEPTO_MCPIO'].map(lambda x: map_dict.get(x, x))"
   ]
  },
  {
   "cell_type": "code",
   "execution_count": 260,
   "metadata": {},
   "outputs": [
    {
     "data": {
      "text/plain": [
       "DEPTO_MCPIO\n",
       "Guatemala                   15220\n",
       "guatemala                   10381\n",
       "cobán                        6056\n",
       "Cobán                        5609\n",
       "Villa Nueva                  4920\n",
       "                            ...  \n",
       "Barillas                        3\n",
       "santiago chimaltenanango        2\n",
       "chiantla                        1\n",
       "san miguel uspantán             1\n",
       "Chiantla                        1\n",
       "Name: count, Length: 704, dtype: int64"
      ]
     },
     "execution_count": 260,
     "metadata": {},
     "output_type": "execute_result"
    }
   ],
   "source": [
    "df['DEPTO_MCPIO'].value_counts()"
   ]
  },
  {
   "cell_type": "markdown",
   "metadata": {},
   "source": [
    "Nota: Existen 340 departamentos distintos, vemos que obtuvimos 375 tipos. Esto podría ser causado por errores ortográficos.\n"
   ]
  },
  {
   "cell_type": "markdown",
   "metadata": {},
   "source": [
    "#### `VIC_ALFAB` y `AGR_ALFAB`\n"
   ]
  },
  {
   "cell_type": "code",
   "execution_count": 261,
   "metadata": {},
   "outputs": [],
   "source": [
    "df['VIC_ALFAB'].replace('Si', 'Alfabeta', inplace=True)\n",
    "df['VIC_ALFAB'].replace('No', 'Analfabeta', inplace=True)\n",
    "df['AGR_ALFAB'].replace('Si', 'Alfabeta', inplace=True)\n",
    "df['AGR_ALFAB'].replace('No', 'Analfabeta', inplace=True)"
   ]
  },
  {
   "cell_type": "markdown",
   "metadata": {},
   "source": [
    "#### `VIC_ESCOLARIDAD` y `AGR_ESCOLARIDAD`\n"
   ]
  },
  {
   "cell_type": "code",
   "execution_count": 262,
   "metadata": {},
   "outputs": [],
   "source": [
    "df['VIC_ESCOLARIDAD'].replace('Ninguna', 10)\n",
    "df['VIC_ESCOLARIDAD'].replace('Ignorado', 99)\n",
    "df['VIC_ESCOLARIDAD'] = pd.to_numeric(df['VIC_ESCOLARIDAD'], errors='coerce')\n",
    "df['VIC_ESCOLARIDAD'] = df['VIC_ESCOLARIDAD'].fillna(99)\n",
    "\n",
    "df['AGR_ESCOLARIDAD'].replace('Ninguna', 10)\n",
    "df['AGR_ESCOLARIDAD'].replace('Ignorado', 99)\n",
    "df['AGR_ESCOLARIDAD'] = pd.to_numeric(df['AGR_ESCOLARIDAD'], errors='coerce')\n",
    "df['AGR_ESCOLARIDAD'] = df['VIC_ESCOLARIDAD'].fillna(99)"
   ]
  },
  {
   "cell_type": "markdown",
   "metadata": {},
   "source": [
    "#### `TOTAL_HIJOS`\n"
   ]
  },
  {
   "cell_type": "code",
   "execution_count": 271,
   "metadata": {},
   "outputs": [],
   "source": [
    "df['TOTAL_HIJOS'].replace('Ignorado', 99)\n",
    "df['TOTAL_HIJOS'].replace('Ninguna', 0)\n",
    "# To numeric\n",
    "df['TOTAL_HIJOS'] = pd.to_numeric(df['TOTAL_HIJOS'], errors='coerce')\n",
    "df['TOTAL_HIJOS'] = df['TOTAL_HIJOS'].fillna(99)  # This means unknown"
   ]
  },
  {
   "cell_type": "markdown",
   "metadata": {},
   "source": [
    "#### `VIC_TRABAJA` y `AGR_TRABAJA`\n"
   ]
  },
  {
   "cell_type": "code",
   "execution_count": 263,
   "metadata": {},
   "outputs": [],
   "source": [
    "df['VIC_TRABAJA'].replace(\n",
    "    'Si', 'Si trabaja por un salario o ingreso', inplace=True)\n",
    "df['VIC_TRABAJA'].replace(\n",
    "    'No', 'No trabaja por un salario o ingreso', inplace=True)\n",
    "\n",
    "df['AGR_TRABAJA'].replace(\n",
    "    'Si', 'Si trabaja por un salario o ingreso', inplace=True)\n",
    "df['AGR_TRABAJA'].replace(\n",
    "    'No', 'No trabaja por un salario o ingreso', inplace=True)"
   ]
  },
  {
   "cell_type": "markdown",
   "metadata": {},
   "source": [
    "#### `HEC_ANO`\n"
   ]
  },
  {
   "cell_type": "code",
   "execution_count": 264,
   "metadata": {},
   "outputs": [],
   "source": [
    "df['HEC_ANO'].replace('Ignorado', 9999)\n",
    "df['HEC_ANO'] = pd.to_numeric(df['HEC_ANO'], errors='coerce')"
   ]
  },
  {
   "cell_type": "markdown",
   "metadata": {},
   "source": [
    "#### `AGRESORES_OTROS_TOTAL`\n"
   ]
  },
  {
   "cell_type": "code",
   "execution_count": 265,
   "metadata": {},
   "outputs": [],
   "source": [
    "df['AGRESORES_OTROS_TOTAL'].replace('Ignorado', 99, inplace=True)\n",
    "df['AGRESORES_OTROS_TOTAL'].replace('Ninguna', 0, inplace=True)\n",
    "df['AGRESORES_OTROS_TOTAL'] = pd.to_numeric(\n",
    "    df['AGRESORES_OTROS_TOTAL'], errors='coerce')"
   ]
  },
  {
   "cell_type": "markdown",
   "metadata": {},
   "source": [
    "#### `AGR_OTROS_HOM` y `AGR_OTRAS_MUJ` y `AGR_OTROS_N_OS` y `AGR_OTRAS_N_AS`\n"
   ]
  },
  {
   "cell_type": "code",
   "execution_count": 269,
   "metadata": {},
   "outputs": [],
   "source": [
    "df['AGR_OTROS_HOM'].replace('Ninguna', 0, inplace=True)\n",
    "df['AGR_OTROS_HOM'] = pd.to_numeric(df['AGR_OTROS_HOM'], errors='coerce')\n",
    "\n",
    "df['AGR_OTRAS_MUJ'].replace('Ninguna', 0, inplace=True)\n",
    "df['AGR_OTRAS_MUJ'] = pd.to_numeric(df['AGR_OTRAS_MUJ'], errors='coerce')\n",
    "\n",
    "df['AGR_OTROS_N_OS'].replace('Ninguna', 0, inplace=True)\n",
    "df['AGR_OTROS_N_OS'] = pd.to_numeric(df['AGR_OTROS_N_OS'], errors='coerce')\n",
    "\n",
    "df['AGR_OTRAS_N_AS'].replace('Ninguna', 0, inplace=True)\n",
    "df['AGR_OTRAS_N_AS'] = pd.to_numeric(df['AGR_OTRAS_N_AS'], errors='coerce')"
   ]
  },
  {
   "cell_type": "markdown",
   "metadata": {},
   "source": [
    "#### `LEY_APLICABLE`\n"
   ]
  },
  {
   "cell_type": "code",
   "execution_count": 267,
   "metadata": {},
   "outputs": [],
   "source": [
    "df['LEY_APLICABLE'].replace('IGNORADO', 'Ignorado', inplace=True)\n",
    "df['LEY_APLICABLE'].replace('AMBAS', 'AMBAS_LEYES_VIF/VCM', inplace=True)"
   ]
  },
  {
   "cell_type": "markdown",
   "metadata": {},
   "source": [
    "## Otros\n"
   ]
  },
  {
   "cell_type": "code",
   "execution_count": null,
   "metadata": {},
   "outputs": [
    {
     "data": {
      "image/png": "[encoded data removed]",
      "text/plain": [
       "<Figure size 640x480 with 1 Axes>"
      ]
     },
     "metadata": {},
     "output_type": "display_data"
    }
   ],
   "source": [
    "def year_frequency_plot(df, column_name):\n",
    "    # Set the theme\n",
    "    sns.set_style(\"ticks\")\n",
    "\n",
    "    # Calculate the year frequency\n",
    "    year_frequency = df[column_name].value_counts().sort_index()\n",
    "    year_frequency.index = year_frequency.index.astype(int)\n",
    "    # Create a bar plot\n",
    "    sns.barplot(x=year_frequency.index, y=year_frequency.values, color='b')\n",
    "\n",
    "    # Calculate the mean of the year frequency\n",
    "    mean_year = year_frequency.mean()\n",
    "\n",
    "    # Add a horizontal line for the mean\n",
    "    plt.axhline(mean_year, color='grey', linestyle='--')\n",
    "\n",
    "    # Add a text label for the mean\n",
    "    plt.text(3, mean_year + 2000, f'Mean: {mean_year:.2f}', color='black')\n",
    "\n",
    "    # Improve the plot appearance\n",
    "    plt.xlabel('Year of Emission')\n",
    "    plt.ylabel('Frequency')\n",
    "    plt.title('Year Frequency')\n",
    "    plt.xticks(rotation=90)\n",
    "    sns.despine()\n",
    "\n",
    "    # Show the plot\n",
    "    plt.show()\n",
    "\n",
    "\n",
    "year_frequency_plot(df, 'ANO_EMISION')"
   ]
  },
  {
   "cell_type": "code",
   "execution_count": null,
   "metadata": {},
   "outputs": [],
   "source": [
    "# Save the cleaned data\n",
    "df.to_csv('data/gen/cleaned.csv', index=False)"
   ]
  }
 ],
 "metadata": {
  "kernelspec": {
   "display_name": "Python 3",
   "language": "python",
   "name": "python3"
  },
  "language_info": {
   "codemirror_mode": {
    "name": "ipython",
    "version": 3
   },
   "file_extension": ".py",
   "mimetype": "text/x-python",
   "name": "python",
   "nbconvert_exporter": "python",
   "pygments_lexer": "ipython3",
   "version": "3.11.4"
  }
 },
 "nbformat": 4,
 "nbformat_minor": 2
}
