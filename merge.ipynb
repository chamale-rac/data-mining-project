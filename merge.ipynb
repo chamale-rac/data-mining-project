{
 "cells": [
  {
   "cell_type": "markdown",
   "metadata": {},
   "source": [
    "# Merge the records\n",
    "\n",
    "In this Jupyter Notebook, we will merge and consolidate data from multiple records using Python.\n",
    "\n",
    "Instructions: To run this notebook, please download the annual records from the official website of the National Institute of Statistics (https://www.ine.gob.gt/violencia-intrafamiliar/) spanning from the year 2013 to 2022 and place them on the data/raw directory.\n"
   ]
  },
  {
   "cell_type": "code",
   "execution_count": 1,
   "metadata": {},
   "outputs": [],
   "source": [
    "# Importing the libraries\n",
    "import pandas as pd"
   ]
  },
  {
   "cell_type": "code",
   "execution_count": 2,
   "metadata": {},
   "outputs": [],
   "source": [
    "# Constants for the resources\n",
    "DIR = 'data/raw/'\n",
    "\n",
    "FILES = ['2013.sav', '2014.sav', '2015.sav', '2016.sav',\n",
    "         '2017.sav', '2018.sav', '2019.sav', '2020.sav',\n",
    "         '2021.sav', '2022.sav']"
   ]
  },
  {
   "cell_type": "code",
   "execution_count": 3,
   "metadata": {},
   "outputs": [],
   "source": [
    "# Open the files\n",
    "data = []\n",
    "for file in FILES:\n",
    "    data.append(pd.read_spss(DIR + file))"
   ]
  },
  {
   "cell_type": "code",
   "execution_count": 4,
   "metadata": {},
   "outputs": [],
   "source": [
    "# Get the columns\n",
    "data_columns = [d.columns for d in data]"
   ]
  },
  {
   "cell_type": "code",
   "execution_count": 5,
   "metadata": {},
   "outputs": [
    {
     "name": "stdout",
     "output_type": "stream",
     "text": [
      "[52, 53, 53, 53, 73, 72, 72, 72, 73, 73]\n"
     ]
    }
   ],
   "source": [
    "# For each column count the length of columns\n",
    "columns_length = [len(c) for c in data_columns]\n",
    "print(columns_length)"
   ]
  },
  {
   "cell_type": "code",
   "execution_count": 6,
   "metadata": {},
   "outputs": [
    {
     "name": "stdout",
     "output_type": "stream",
     "text": [
      "Counter({'ANO_EMISION': 10, 'MES_EMISION': 10, 'DIA_EMISION': 10, 'DEPTO_MCPIO': 10, 'QUIEN_REPORTA': 10, 'VIC_SEXO': 10, 'VIC_EDAD': 10, 'TOTAL_HIJOS': 10, 'NUM_HIJ_HOM': 10, 'NUM_HIJ_MUJ': 10, 'VIC_ALFAB': 10, 'VIC_ESCOLARIDAD': 10, 'VIC_EST_CIV': 10, 'VIC_GRUPET': 10, 'VIC_NACIONAL': 10, 'VIC_TRABAJA': 10, 'VIC_OCUP': 10, 'VIC_DEDICA': 10, 'VIC_DISC': 10, 'TIPO_DISCAQ': 10, 'VIC_REL_AGR': 10, 'OTRAS_VICTIMAS': 10, 'VIC_OTRAS_HOM': 10, 'VIC_OTRAS_MUJ': 10, 'VIC_OTRAS_N_OS': 10, 'VIC_OTRAS_N_AS': 10, 'HEC_DIA': 10, 'HEC_MES': 10, 'HEC_ANO': 10, 'HEC_DEPTOMCPIO': 10, 'HEC_AREA': 10, 'HEC_TIPAGRE': 10, 'HEC_RECUR_DENUN': 10, 'INST_DONDE_DENUNCIO': 10, 'AGR_SEXO': 10, 'AGR_EDAD': 10, 'AGR_ALFAB': 10, 'AGR_ESCOLARIDAD': 10, 'AGR_EST_CIV': 10, 'AGR_GURPET': 10, 'AGR_NACIONAL': 10, 'AGR_TRABAJA': 10, 'AGR_OCUP': 10, 'AGR_DEDICA': 10, 'AGRESORES_OTROS_TOTAL': 10, 'AGR_OTROS_HOM': 10, 'AGR_OTRAS_MUJ': 10, 'AGR_OTROS_N_OS': 10, 'AGR_OTRAS_N_AS': 10, 'INST_DENUN_HECHO': 10, 'MEDIDAS_SEGURIDAD': 10, 'LEY_APLICABLE': 10, 'TIPO_MEDIDA': 9, 'ORGANISMO_JURISDICCIONAL': 6, 'CONDUCENTE': 6, 'ARTICULOVIF1': 6, 'ARTICULOVIF2': 6, 'ARTICULOVIF3': 6, 'ARTICULOVIF4': 6, 'ARTICULOVCM1': 6, 'ARTICULOVCM2': 6, 'ARTICULOVCM3': 6, 'ARTICULOVCM4': 6, 'ARTICULOCODPEN1': 6, 'ARTICULOCODPEN2': 6, 'ARTICULOCODPEN3': 6, 'ARTICULOCODPEN4': 6, 'ARTICULOTRAS1': 6, 'ARTICULOTRAS2': 6, 'ARTICULOTRAS3': 6, 'ARTICULOTRAS4': 6, 'ORGANISMO_REMITE': 6, 'NUMERO_BOLETA': 2, 'filter_$': 1})\n",
      "74\n"
     ]
    }
   ],
   "source": [
    "# Count the frequency of the columns\n",
    "from collections import Counter\n",
    "\n",
    "columns_freq = Counter(\n",
    "    column for columns in data_columns for column in columns)\n",
    "print(columns_freq)\n",
    "print(len(columns_freq))"
   ]
  },
  {
   "cell_type": "code",
   "execution_count": 7,
   "metadata": {},
   "outputs": [
    {
     "name": "stdout",
     "output_type": "stream",
     "text": [
      "['ANO_EMISION', 'MES_EMISION', 'DIA_EMISION', 'DEPTO_MCPIO', 'QUIEN_REPORTA', 'VIC_SEXO', 'VIC_EDAD', 'TOTAL_HIJOS', 'NUM_HIJ_HOM', 'NUM_HIJ_MUJ', 'VIC_ALFAB', 'VIC_ESCOLARIDAD', 'VIC_EST_CIV', 'VIC_GRUPET', 'VIC_NACIONAL', 'VIC_TRABAJA', 'VIC_OCUP', 'VIC_DEDICA', 'VIC_DISC', 'TIPO_DISCAQ', 'VIC_REL_AGR', 'OTRAS_VICTIMAS', 'VIC_OTRAS_HOM', 'VIC_OTRAS_MUJ', 'VIC_OTRAS_N_OS', 'VIC_OTRAS_N_AS', 'HEC_DIA', 'HEC_MES', 'HEC_ANO', 'HEC_DEPTOMCPIO', 'HEC_AREA', 'HEC_TIPAGRE', 'HEC_RECUR_DENUN', 'INST_DONDE_DENUNCIO', 'AGR_SEXO', 'AGR_EDAD', 'AGR_ALFAB', 'AGR_ESCOLARIDAD', 'AGR_EST_CIV', 'AGR_GURPET', 'AGR_NACIONAL', 'AGR_TRABAJA', 'AGR_OCUP', 'AGR_DEDICA', 'AGRESORES_OTROS_TOTAL', 'AGR_OTROS_HOM', 'AGR_OTRAS_MUJ', 'AGR_OTROS_N_OS', 'AGR_OTRAS_N_AS', 'INST_DENUN_HECHO', 'MEDIDAS_SEGURIDAD', 'LEY_APLICABLE']\n",
      "52\n"
     ]
    }
   ],
   "source": [
    "# Keep the columns that are present in all the dataframes\n",
    "common_columns = [column for column,\n",
    "                  freq in columns_freq.items() if freq == len(data)]\n",
    "print(common_columns)\n",
    "print(len(common_columns))"
   ]
  },
  {
   "cell_type": "code",
   "execution_count": 8,
   "metadata": {},
   "outputs": [],
   "source": [
    "# Modify the dataframes to keep only the common columns\n",
    "data = [d[common_columns] for d in data]"
   ]
  },
  {
   "cell_type": "code",
   "execution_count": 9,
   "metadata": {},
   "outputs": [],
   "source": [
    "# Concatenate the dataframes\n",
    "data = pd.concat(data, ignore_index=True)"
   ]
  },
  {
   "cell_type": "code",
   "execution_count": 10,
   "metadata": {},
   "outputs": [],
   "source": [
    "# Rename column AGR_GURPET to AGR_GRUPET\n",
    "data.rename(columns={'AGR_GURPET': 'AGR_GRUPET'}, inplace=True)"
   ]
  },
  {
   "cell_type": "code",
   "execution_count": 11,
   "metadata": {},
   "outputs": [],
   "source": [
    "# Save the data\n",
    "data.to_csv('data/gen/merged.csv', index=False)"
   ]
  }
 ],
 "metadata": {
  "kernelspec": {
   "display_name": "Python 3",
   "language": "python",
   "name": "python3"
  },
  "language_info": {
   "codemirror_mode": {
    "name": "ipython",
    "version": 3
   },
   "file_extension": ".py",
   "mimetype": "text/x-python",
   "name": "python",
   "nbconvert_exporter": "python",
   "pygments_lexer": "ipython3",
   "version": "3.11.7"
  }
 },
 "nbformat": 4,
 "nbformat_minor": 2
}
