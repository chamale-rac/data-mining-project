{
 "cells": [
  {
   "cell_type": "markdown",
   "metadata": {},
   "source": [
    "# Modelos\n",
    "1. CatBoost\n",
    "2. XGBoost\n",
    "3. Random Forest"
   ]
  },
  {
   "cell_type": "code",
   "execution_count": 78,
   "metadata": {},
   "outputs": [],
   "source": [
    "import numpy as np\n",
    "import pandas as pd\n",
    "from sklearn.compose import ColumnTransformer\n",
    "from sklearn.model_selection import train_test_split, GridSearchCV, cross_val_score\n",
    "from sklearn.metrics import confusion_matrix, accuracy_score\n",
    "from sklearn.preprocessing import StandardScaler, OneHotEncoder, OrdinalEncoder\n",
    "from xgboost import XGBClassifier\n",
    "from catboost import CatBoostClassifier\n",
    "from sklearn.ensemble import RandomForestClassifier"
   ]
  },
  {
   "cell_type": "markdown",
   "metadata": {},
   "source": [
    "## Paso 1: Cargar los datos"
   ]
  },
  {
   "cell_type": "code",
   "execution_count": 5,
   "metadata": {},
   "outputs": [],
   "source": [
    "file_path = 'data/gen/combined_with_clusters.csv'"
   ]
  },
  {
   "cell_type": "code",
   "execution_count": 6,
   "metadata": {},
   "outputs": [],
   "source": [
    "data = pd.read_csv(file_path)"
   ]
  },
  {
   "cell_type": "code",
   "execution_count": 7,
   "metadata": {},
   "outputs": [
    {
     "name": "stdout",
     "output_type": "stream",
     "text": [
      "Index(['ANO_EMISION', 'MES_EMISION', 'DIA_EMISION', 'REG_MCPIO',\n",
      "       'QUIEN_REPORTA', 'VIC_SEXO', 'VIC_EDAD', 'TOTAL_HIJOS', 'NUM_HIJ_HOM',\n",
      "       'NUM_HIJ_MUJ', 'VIC_ALFAB', 'VIC_ESCOLARIDAD', 'VIC_EST_CIV',\n",
      "       'VIC_GRUPET', 'VIC_NACIONAL', 'VIC_TRABAJA', 'VIC_DEDICA', 'VIC_DISC',\n",
      "       'VIC_REL_AGR', 'OTRAS_VICTIMAS', 'VIC_OTRAS_HOM', 'VIC_OTRAS_MUJ',\n",
      "       'VIC_OTRAS_N_OS', 'VIC_OTRAS_N_AS', 'HEC_DIA', 'HEC_MES', 'HEC_ANO',\n",
      "       'HEC_MCPIO', 'HEC_AREA', 'HEC_TIPAGRE', 'HEC_RECUR_DENUN', 'AGR_SEXO',\n",
      "       'AGR_EDAD', 'AGR_ALFAB', 'AGR_ESCOLARIDAD', 'AGR_EST_CIV', 'AGR_GRUPET',\n",
      "       'AGR_NACIONAL', 'AGR_TRABAJA', 'AGR_DEDICA', 'AGRESORES_OTROS_TOTAL',\n",
      "       'AGR_OTROS_HOM', 'AGR_OTRAS_MUJ', 'AGR_OTROS_N_OS', 'AGR_OTRAS_N_AS',\n",
      "       'INST_DENUN_HECHO', 'LEY_APLICABLE', 'FECHA_EMISION', 'FECHA_HECHO',\n",
      "       'REG_DPTO', 'HEC_DPTO', 'MEDIDAS_SEGURIDAD', 'CONTEXTO_DE_VIC',\n",
      "       'FECHA_ENTRE_EMISION_HECHO', 'HAY_HIJOS', 'HAY_HIJOS_HOM',\n",
      "       'HAY_HIJOS_MUJ', 'HAY_OTRAS_VIC', 'HAY_OTRAS_VIC_HOM_MENORES',\n",
      "       'HAY_OTRAS_VIC_MUJ_MENORES', 'HAY_OTROS_AGR', 'VIC_REL_AGR.1',\n",
      "       'CONTEXTO_DE_VIC.1', 'MEDIDAS_SEGURIDAD.1',\n",
      "       'FECHA_ENTRE_EMISION_HECHO.1', 'HEC_RECUR_DENUN.1', 'TipoAgre_física',\n",
      "       'TipoAgre_patrimonial', 'TipoAgre_psicológica', 'TipoAgre_sexual',\n",
      "       'Gauge Cluster', 'HEC_TIPAGRE.1', 'GAUGE_CLUSTER'],\n",
      "      dtype='object')\n"
     ]
    }
   ],
   "source": [
    "# Inspeccionar datos\n",
    "print(data.columns)"
   ]
  },
  {
   "cell_type": "code",
   "execution_count": 8,
   "metadata": {},
   "outputs": [
    {
     "data": {
      "text/plain": [
       "GAUGE_CLUSTER\n",
       "0    175179\n",
       "1     89032\n",
       "2     55567\n",
       "Name: count, dtype: int64"
      ]
     },
     "execution_count": 8,
     "metadata": {},
     "output_type": "execute_result"
    }
   ],
   "source": [
    "data['GAUGE_CLUSTER'].value_counts()"
   ]
  },
  {
   "cell_type": "code",
   "execution_count": 9,
   "metadata": {},
   "outputs": [
    {
     "data": {
      "text/plain": [
       "<Axes: xlabel='GAUGE_CLUSTER'>"
      ]
     },
     "execution_count": 9,
     "metadata": {},
     "output_type": "execute_result"
    },
    {
     "data": {
      "image/png": "[encoded data removed]",
      "text/plain": [
       "<Figure size 640x480 with 1 Axes>"
      ]
     },
     "metadata": {},
     "output_type": "display_data"
    }
   ],
   "source": [
    "data['GAUGE_CLUSTER'].value_counts().plot(kind='bar')"
   ]
  },
  {
   "cell_type": "markdown",
   "metadata": {},
   "source": [
    "## Paso 2: Balancear el conjunto"
   ]
  },
  {
   "cell_type": "code",
   "execution_count": 10,
   "metadata": {},
   "outputs": [
    {
     "data": {
      "text/plain": [
       "55567"
      ]
     },
     "execution_count": 10,
     "metadata": {},
     "output_type": "execute_result"
    }
   ],
   "source": [
    "min_samples = data['GAUGE_CLUSTER'].value_counts().min()\n",
    "min_samples"
   ]
  },
  {
   "cell_type": "code",
   "execution_count": 11,
   "metadata": {},
   "outputs": [],
   "source": [
    "balanced_data = data.groupby('Gauge Cluster').apply(\n",
    "    lambda x: x.sample(min_samples)).reset_index(drop=True)"
   ]
  },
  {
   "cell_type": "code",
   "execution_count": 12,
   "metadata": {},
   "outputs": [
    {
     "data": {
      "text/plain": [
       "GAUGE_CLUSTER\n",
       "0    55567\n",
       "1    55567\n",
       "2    55567\n",
       "Name: count, dtype: int64"
      ]
     },
     "execution_count": 12,
     "metadata": {},
     "output_type": "execute_result"
    }
   ],
   "source": [
    "# Verificar que se haya balanceado\n",
    "balanced_data['GAUGE_CLUSTER'].value_counts()"
   ]
  },
  {
   "cell_type": "markdown",
   "metadata": {},
   "source": [
    "## Paso 3: Division de datos de entrenamiento y de prueba"
   ]
  },
  {
   "cell_type": "code",
   "execution_count": 57,
   "metadata": {},
   "outputs": [],
   "source": [
    "selected_features = ['VIC_EDAD', 'VIC_SEXO', 'VIC_EST_CIV', 'VIC_TRABAJA',\n",
    "                     'HAY_OTRAS_VIC', 'HEC_DIA', 'HEC_MES', 'HEC_ANO',\n",
    "                     'AGR_SEXO', 'AGR_EDAD', 'TipoAgre_física', 'TipoAgre_psicológica',\n",
    "                     'TipoAgre_sexual', 'TipoAgre_patrimonial', 'HAY_HIJOS', 'VIC_ALFAB', 'VIC_GRUPET', 'HEC_RECUR_DENUN']"
   ]
  },
  {
   "cell_type": "code",
   "execution_count": 58,
   "metadata": {},
   "outputs": [],
   "source": [
    "X = balanced_data[selected_features]"
   ]
  },
  {
   "cell_type": "code",
   "execution_count": 59,
   "metadata": {},
   "outputs": [
    {
     "data": {
      "text/html": [
       "<div>\n",
       "<style scoped>\n",
       "    .dataframe tbody tr th:only-of-type {\n",
       "        vertical-align: middle;\n",
       "    }\n",
       "\n",
       "    .dataframe tbody tr th {\n",
       "        vertical-align: top;\n",
       "    }\n",
       "\n",
       "    .dataframe thead th {\n",
       "        text-align: right;\n",
       "    }\n",
       "</style>\n",
       "<table border=\"1\" class=\"dataframe\">\n",
       "  <thead>\n",
       "    <tr style=\"text-align: right;\">\n",
       "      <th></th>\n",
       "      <th>VIC_EDAD</th>\n",
       "      <th>VIC_SEXO</th>\n",
       "      <th>VIC_EST_CIV</th>\n",
       "      <th>VIC_TRABAJA</th>\n",
       "      <th>HAY_OTRAS_VIC</th>\n",
       "      <th>HEC_DIA</th>\n",
       "      <th>HEC_MES</th>\n",
       "      <th>HEC_ANO</th>\n",
       "      <th>AGR_SEXO</th>\n",
       "      <th>AGR_EDAD</th>\n",
       "      <th>TipoAgre_física</th>\n",
       "      <th>TipoAgre_psicológica</th>\n",
       "      <th>TipoAgre_sexual</th>\n",
       "      <th>TipoAgre_patrimonial</th>\n",
       "      <th>HAY_HIJOS</th>\n",
       "      <th>VIC_ALFAB</th>\n",
       "      <th>VIC_GRUPET</th>\n",
       "      <th>HEC_RECUR_DENUN</th>\n",
       "    </tr>\n",
       "  </thead>\n",
       "  <tbody>\n",
       "    <tr>\n",
       "      <th>0</th>\n",
       "      <td>29.0</td>\n",
       "      <td>Mujeres</td>\n",
       "      <td>Casados(as)</td>\n",
       "      <td>No</td>\n",
       "      <td>Si</td>\n",
       "      <td>26</td>\n",
       "      <td>2</td>\n",
       "      <td>2021</td>\n",
       "      <td>Hombres</td>\n",
       "      <td>31.0</td>\n",
       "      <td>False</td>\n",
       "      <td>True</td>\n",
       "      <td>False</td>\n",
       "      <td>False</td>\n",
       "      <td>Si</td>\n",
       "      <td>Si</td>\n",
       "      <td>Ladinos(as)</td>\n",
       "      <td>No</td>\n",
       "    </tr>\n",
       "    <tr>\n",
       "      <th>1</th>\n",
       "      <td>34.0</td>\n",
       "      <td>Mujeres</td>\n",
       "      <td>Casados(as)</td>\n",
       "      <td>No</td>\n",
       "      <td>Si</td>\n",
       "      <td>11</td>\n",
       "      <td>2</td>\n",
       "      <td>2018</td>\n",
       "      <td>Hombres</td>\n",
       "      <td>31.0</td>\n",
       "      <td>True</td>\n",
       "      <td>True</td>\n",
       "      <td>False</td>\n",
       "      <td>False</td>\n",
       "      <td>Si</td>\n",
       "      <td>Si</td>\n",
       "      <td>Ladinos(as)</td>\n",
       "      <td>No</td>\n",
       "    </tr>\n",
       "    <tr>\n",
       "      <th>2</th>\n",
       "      <td>30.0</td>\n",
       "      <td>Mujeres</td>\n",
       "      <td>Casados(as)</td>\n",
       "      <td>No</td>\n",
       "      <td>Si</td>\n",
       "      <td>6</td>\n",
       "      <td>11</td>\n",
       "      <td>2021</td>\n",
       "      <td>Mujeres</td>\n",
       "      <td>59.0</td>\n",
       "      <td>False</td>\n",
       "      <td>True</td>\n",
       "      <td>False</td>\n",
       "      <td>False</td>\n",
       "      <td>No</td>\n",
       "      <td>Si</td>\n",
       "      <td>Maya</td>\n",
       "      <td>No</td>\n",
       "    </tr>\n",
       "    <tr>\n",
       "      <th>3</th>\n",
       "      <td>41.0</td>\n",
       "      <td>Mujeres</td>\n",
       "      <td>Unidos(as)</td>\n",
       "      <td>Si</td>\n",
       "      <td>No</td>\n",
       "      <td>17</td>\n",
       "      <td>3</td>\n",
       "      <td>2020</td>\n",
       "      <td>Mujeres</td>\n",
       "      <td>44.0</td>\n",
       "      <td>False</td>\n",
       "      <td>True</td>\n",
       "      <td>False</td>\n",
       "      <td>False</td>\n",
       "      <td>No</td>\n",
       "      <td>Si</td>\n",
       "      <td>Ladinos(as)</td>\n",
       "      <td>No</td>\n",
       "    </tr>\n",
       "    <tr>\n",
       "      <th>4</th>\n",
       "      <td>28.0</td>\n",
       "      <td>Mujeres</td>\n",
       "      <td>Unidos(as)</td>\n",
       "      <td>No</td>\n",
       "      <td>Si</td>\n",
       "      <td>17</td>\n",
       "      <td>2</td>\n",
       "      <td>2020</td>\n",
       "      <td>Hombres</td>\n",
       "      <td>29.0</td>\n",
       "      <td>True</td>\n",
       "      <td>True</td>\n",
       "      <td>False</td>\n",
       "      <td>False</td>\n",
       "      <td>No</td>\n",
       "      <td>Si</td>\n",
       "      <td>Ladinos(as)</td>\n",
       "      <td>No</td>\n",
       "    </tr>\n",
       "  </tbody>\n",
       "</table>\n",
       "</div>"
      ],
      "text/plain": [
       "   VIC_EDAD VIC_SEXO  VIC_EST_CIV VIC_TRABAJA HAY_OTRAS_VIC  HEC_DIA  HEC_MES  \\\n",
       "0      29.0  Mujeres  Casados(as)          No            Si       26        2   \n",
       "1      34.0  Mujeres  Casados(as)          No            Si       11        2   \n",
       "2      30.0  Mujeres  Casados(as)          No            Si        6       11   \n",
       "3      41.0  Mujeres   Unidos(as)          Si            No       17        3   \n",
       "4      28.0  Mujeres   Unidos(as)          No            Si       17        2   \n",
       "\n",
       "   HEC_ANO AGR_SEXO  AGR_EDAD  TipoAgre_física  TipoAgre_psicológica  \\\n",
       "0     2021  Hombres      31.0            False                  True   \n",
       "1     2018  Hombres      31.0             True                  True   \n",
       "2     2021  Mujeres      59.0            False                  True   \n",
       "3     2020  Mujeres      44.0            False                  True   \n",
       "4     2020  Hombres      29.0             True                  True   \n",
       "\n",
       "   TipoAgre_sexual  TipoAgre_patrimonial HAY_HIJOS VIC_ALFAB   VIC_GRUPET  \\\n",
       "0            False                 False        Si        Si  Ladinos(as)   \n",
       "1            False                 False        Si        Si  Ladinos(as)   \n",
       "2            False                 False        No        Si         Maya   \n",
       "3            False                 False        No        Si  Ladinos(as)   \n",
       "4            False                 False        No        Si  Ladinos(as)   \n",
       "\n",
       "  HEC_RECUR_DENUN  \n",
       "0              No  \n",
       "1              No  \n",
       "2              No  \n",
       "3              No  \n",
       "4              No  "
      ]
     },
     "execution_count": 59,
     "metadata": {},
     "output_type": "execute_result"
    }
   ],
   "source": [
    "X.head()"
   ]
  },
  {
   "cell_type": "code",
   "execution_count": 72,
   "metadata": {},
   "outputs": [
    {
     "name": "stdout",
     "output_type": "stream",
     "text": [
      "(166701, 18)\n"
     ]
    }
   ],
   "source": [
    "# Dimensiones de los datos\n",
    "print(X.shape)"
   ]
  },
  {
   "cell_type": "markdown",
   "metadata": {},
   "source": [
    "### Preprocesando las variables"
   ]
  },
  {
   "cell_type": "code",
   "execution_count": 60,
   "metadata": {},
   "outputs": [],
   "source": [
    "categorical_features = ['VIC_SEXO', 'VIC_EST_CIV',\n",
    "                        'VIC_TRABAJA', 'AGR_SEXO', 'HAY_HIJOS', 'HAY_OTRAS_VIC', 'VIC_GRUPET', 'VIC_ALFAB', 'HEC_RECUR_DENUN']\n",
    "numerical_features = ['VIC_EDAD', 'AGR_EDAD']\n",
    "binary_features = ['TipoAgre_física',\n",
    "                   'TipoAgre_psicológica', 'TipoAgre_sexual', 'TipoAgre_patrimonial']\n",
    "temporal_features = ['HEC_DIA', 'HEC_MES', 'HEC_ANO']"
   ]
  },
  {
   "cell_type": "code",
   "execution_count": 64,
   "metadata": {},
   "outputs": [],
   "source": [
    "preprocessor = ColumnTransformer(\n",
    "    transformers=[\n",
    "        ('num', StandardScaler(), numerical_features),\n",
    "        ('cat', OneHotEncoder(), categorical_features),\n",
    "        ('bin', OrdinalEncoder(), binary_features),\n",
    "        ('tem', 'passthrough', temporal_features)\n",
    "    ])\n",
    "X_preprocessed = preprocessor.fit_transform(X)"
   ]
  },
  {
   "cell_type": "code",
   "execution_count": 65,
   "metadata": {},
   "outputs": [],
   "source": [
    "y = balanced_data['GAUGE_CLUSTER']"
   ]
  },
  {
   "cell_type": "code",
   "execution_count": 67,
   "metadata": {},
   "outputs": [],
   "source": [
    "# Dividir en train y test\n",
    "X_train, X_test, y_train, y_test = train_test_split(\n",
    "    X_preprocessed, y, test_size=0.3, random_state=42, stratify=y)"
   ]
  },
  {
   "cell_type": "markdown",
   "metadata": {},
   "source": [
    "## Paso 4: Entrenamiento y Evaluación"
   ]
  },
  {
   "cell_type": "code",
   "execution_count": 69,
   "metadata": {},
   "outputs": [],
   "source": [
    "# Función para evaluar modelos\n",
    "def evaluate_model(model, X_train, X_test, y_train, y_test):\n",
    "    model.fit(X_train, y_train)\n",
    "    y_pred = model.predict(X_test)\n",
    "    print(confusion_matrix(y_test, y_pred))\n",
    "    print(f\"Accuracy: {accuracy_score(y_test, y_pred)}\")\n",
    "    scores = cross_val_score(model, X_train, y_train, cv=5)\n",
    "    print(f\"Cross-Validation Scores: {scores}\")\n",
    "    print(f\"Mean CV Score: {scores.mean()}\")\n",
    "    print(f\"Std CV Score: {scores.std()}\")"
   ]
  },
  {
   "cell_type": "markdown",
   "metadata": {},
   "source": [
    "### XGBoost"
   ]
  },
  {
   "cell_type": "code",
   "execution_count": 70,
   "metadata": {},
   "outputs": [
    {
     "name": "stdout",
     "output_type": "stream",
     "text": [
      "Evaluating XGBoost Classifier with GridSearchCV...\n",
      "Fitting 5 folds for each of 27 candidates, totalling 135 fits\n",
      "Best parameters: {'learning_rate': 0.1, 'max_depth': 5, 'n_estimators': 100}\n",
      "[[15710   689   271]\n",
      " [ 1443 15227     0]\n",
      " [  211     0 16460]]\n",
      "Accuracy: 0.9477314990702046\n",
      "Cross-Validation Scores: [0.94699632 0.94656783 0.94721056 0.94746765 0.94896735]\n",
      "Mean CV Score: 0.947441940183392\n",
      "Std CV Score: 0.0008177681335562679\n"
     ]
    }
   ],
   "source": [
    "# XGBoost con GridSearchCV\n",
    "print(\"Evaluating XGBoost Classifier with GridSearchCV...\")\n",
    "\n",
    "xgb_params = {\n",
    "    'n_estimators': [100, 200, 300],\n",
    "    'learning_rate': [0.01, 0.1, 0.2],\n",
    "    'max_depth': [3, 4, 5]\n",
    "}\n",
    "\n",
    "xgb_model = XGBClassifier(use_label_encoder=False, eval_metric='mlogloss')\n",
    "xgb_grid = GridSearchCV(xgb_model, xgb_params, cv=5,\n",
    "                        scoring='accuracy', verbose=1)\n",
    "xgb_grid.fit(X_train, y_train)\n",
    "print(f\"Best parameters: {xgb_grid.best_params_}\")\n",
    "evaluate_model(xgb_grid.best_estimator_, X_train, X_test, y_train, y_test)"
   ]
  },
  {
   "cell_type": "markdown",
   "metadata": {},
   "source": [
    "### CatBoost"
   ]
  },
  {
   "cell_type": "code",
   "execution_count": 73,
   "metadata": {},
   "outputs": [
    {
     "name": "stdout",
     "output_type": "stream",
     "text": [
      "Evaluating CatBoost Classifier with GridSearchCV...\n",
      "Fitting 5 folds for each of 27 candidates, totalling 135 fits\n",
      "Best parameters: {'depth': 4, 'iterations': 100, 'learning_rate': 0.2}\n",
      "[[15688   708   274]\n",
      " [ 1433 15237     0]\n",
      " [  214     0 16457]]\n",
      "Accuracy: 0.9474315650556877\n",
      "Cross-Validation Scores: [0.94682492 0.94712486 0.94789614 0.94703916 0.9489245 ]\n",
      "Mean CV Score: 0.9475619161881909\n",
      "Std CV Score: 0.0007714647311630512\n"
     ]
    }
   ],
   "source": [
    "print(\"Evaluating CatBoost Classifier with GridSearchCV...\")\n",
    "\n",
    "catboost_params = {\n",
    "    'iterations': [100, 200, 300],\n",
    "    'learning_rate': [0.01, 0.1, 0.2],\n",
    "    'depth': [3, 4, 5]\n",
    "}\n",
    "\n",
    "catboost_model = CatBoostClassifier(verbose=0)\n",
    "catboost_grid = GridSearchCV(\n",
    "    catboost_model, catboost_params, cv=5, scoring='accuracy', verbose=1)\n",
    "catboost_grid.fit(X_train, y_train)\n",
    "print(f\"Best parameters: {catboost_grid.best_params_}\")\n",
    "evaluate_model(catboost_grid.best_estimator_, X_train, X_test, y_train, y_test)"
   ]
  },
  {
   "cell_type": "markdown",
   "metadata": {},
   "source": [
    "### Random Forest"
   ]
  },
  {
   "cell_type": "code",
   "execution_count": 79,
   "metadata": {},
   "outputs": [
    {
     "name": "stdout",
     "output_type": "stream",
     "text": [
      "Evaluating Random Forest Classifier with GridSearchCV...\n",
      "Fitting 5 folds for each of 54 candidates, totalling 270 fits\n"
     ]
    },
    {
     "name": "stderr",
     "output_type": "stream",
     "text": [
      "c:\\Users\\chama\\AppData\\Local\\Programs\\Python\\Python311\\Lib\\site-packages\\sklearn\\model_selection\\_validation.py:540: FitFailedWarning: \n",
      "90 fits failed out of a total of 270.\n",
      "The score on these train-test partitions for these parameters will be set to nan.\n",
      "If these failures are not expected, you can try to debug them by setting error_score='raise'.\n",
      "\n",
      "Below are more details about the failures:\n",
      "--------------------------------------------------------------------------------\n",
      "90 fits failed with the following error:\n",
      "Traceback (most recent call last):\n",
      "  File \"c:\\Users\\chama\\AppData\\Local\\Programs\\Python\\Python311\\Lib\\site-packages\\sklearn\\model_selection\\_validation.py\", line 888, in _fit_and_score\n",
      "    estimator.fit(X_train, y_train, **fit_params)\n",
      "  File \"c:\\Users\\chama\\AppData\\Local\\Programs\\Python\\Python311\\Lib\\site-packages\\sklearn\\base.py\", line 1466, in wrapper\n",
      "    estimator._validate_params()\n",
      "  File \"c:\\Users\\chama\\AppData\\Local\\Programs\\Python\\Python311\\Lib\\site-packages\\sklearn\\base.py\", line 666, in _validate_params\n",
      "    validate_parameter_constraints(\n",
      "  File \"c:\\Users\\chama\\AppData\\Local\\Programs\\Python\\Python311\\Lib\\site-packages\\sklearn\\utils\\_param_validation.py\", line 95, in validate_parameter_constraints\n",
      "    raise InvalidParameterError(\n",
      "sklearn.utils._param_validation.InvalidParameterError: The 'max_features' parameter of RandomForestClassifier must be an int in the range [1, inf), a float in the range (0.0, 1.0], a str among {'log2', 'sqrt'} or None. Got 'auto' instead.\n",
      "\n",
      "  warnings.warn(some_fits_failed_message, FitFailedWarning)\n",
      "c:\\Users\\chama\\AppData\\Local\\Programs\\Python\\Python311\\Lib\\site-packages\\sklearn\\model_selection\\_search.py:1052: UserWarning: One or more of the test scores are non-finite: [       nan        nan        nan 0.92538349 0.92165567 0.92330105\n",
      " 0.92309538 0.92457794 0.92697746        nan        nan        nan\n",
      " 0.93685834 0.93413317 0.93487874 0.93963493 0.9365584  0.93624989\n",
      "        nan        nan        nan 0.94379981 0.94360271 0.94362842\n",
      " 0.94248865 0.94200874 0.94201731        nan        nan        nan\n",
      " 0.9230611  0.92142429 0.92384095 0.9234296  0.92496358 0.9284086\n",
      "        nan        nan        nan 0.93559859 0.93409032 0.93461308\n",
      " 0.93973777 0.93759534 0.93741537        nan        nan        nan\n",
      " 0.94426258 0.94383409 0.94387694 0.94317422 0.94155455 0.94252292]\n",
      "  warnings.warn(\n"
     ]
    },
    {
     "name": "stdout",
     "output_type": "stream",
     "text": [
      "Best parameters: {'criterion': 'entropy', 'max_depth': 8, 'max_features': 'sqrt', 'n_estimators': 100}\n",
      "[[15935   399   336]\n",
      " [ 1933 14737     0]\n",
      " [  171     0 16500]]\n",
      "Accuracy: 0.9432324888524525\n",
      "Cross-Validation Scores: [0.94228297 0.94515383 0.94558231 0.94468249 0.94361128]\n",
      "Mean CV Score: 0.9442625760562173\n",
      "Std CV Score: 0.001187887338661276\n"
     ]
    }
   ],
   "source": [
    "print(\"Evaluating Random Forest Classifier with GridSearchCV...\")\n",
    "\n",
    "rf_params = {\n",
    "    'n_estimators': [100, 200, 300],\n",
    "    'max_features': ['auto', 'sqrt', 'log2'],\n",
    "    'max_depth': [4, 6, 8],\n",
    "    'criterion': ['gini', 'entropy']\n",
    "}\n",
    "\n",
    "rf_model = RandomForestClassifier(random_state=42)\n",
    "rf_grid = GridSearchCV(rf_model, rf_params, cv=5,\n",
    "                       scoring='accuracy', verbose=1)\n",
    "rf_grid.fit(X_train, y_train)\n",
    "print(f\"Best parameters: {rf_grid.best_params_}\")\n",
    "evaluate_model(rf_grid.best_estimator_, X_train, X_test, y_train, y_test)"
   ]
  },
  {
   "cell_type": "markdown",
   "metadata": {},
   "source": [
    "# Guardar los modelos"
   ]
  },
  {
   "cell_type": "code",
   "execution_count": 81,
   "metadata": {},
   "outputs": [],
   "source": [
    "import pickle\n",
    "\n",
    "\n",
    "def save_model(model, filename):\n",
    "    with open(filename, 'wb') as file:\n",
    "        pickle.dump(model, file)\n",
    "    print(f\"Model saved to {filename}\")"
   ]
  },
  {
   "cell_type": "code",
   "execution_count": 83,
   "metadata": {},
   "outputs": [
    {
     "name": "stdout",
     "output_type": "stream",
     "text": [
      "Model saved to ./models/best_xgboost_model.pkl\n",
      "Model saved to ./models/best_catboost_model.pkl\n",
      "Model saved to ./models/best_random_forest_model.pkl\n"
     ]
    }
   ],
   "source": [
    "# Save the best XGBoost model\n",
    "save_model(xgb_grid.best_estimator_, './models/best_xgboost_model.pkl')\n",
    "\n",
    "# Save the best CatBoost model\n",
    "save_model(catboost_grid.best_estimator_, './models/best_catboost_model.pkl')\n",
    "\n",
    "# Save the best Random Forest model\n",
    "save_model(rf_grid.best_estimator_, './models/best_random_forest_model.pkl')"
   ]
  },
  {
   "cell_type": "code",
   "execution_count": null,
   "metadata": {},
   "outputs": [],
   "source": [
    "# def load_model(filename):\n",
    "#     with open(filename, 'rb') as file:\n",
    "#         model = pickle.load(file)\n",
    "#     print(f\"Model loaded from {filename}\")\n",
    "#     return model\n",
    "\n",
    "# loaded_xgb_model = load_model('best_xgboost_model.pkl')\n",
    "# loaded_catboost_model = load_model('best_catboost_model.pkl')\n",
    "# loaded_rf_model = load_model('best_random_forest_model.pkl')\n",
    "\n",
    "# You can now use the loaded models for predictions\n",
    "# Example:\n",
    "# y_pred_xgb = loaded_xgb_model.predict(X_test)\n",
    "# y_pred_catboost = loaded_catboost_model.predict(X_test)\n",
    "# y_pred_rf = loaded_rf_model.predict(X_test)"
   ]
  }
 ],
 "metadata": {
  "kernelspec": {
   "display_name": "Python 3",
   "language": "python",
   "name": "python3"
  },
  "language_info": {
   "codemirror_mode": {
    "name": "ipython",
    "version": 3
   },
   "file_extension": ".py",
   "mimetype": "text/x-python",
   "name": "python",
   "nbconvert_exporter": "python",
   "pygments_lexer": "ipython3",
   "version": "3.11.4"
  }
 },
 "nbformat": 4,
 "nbformat_minor": 2
}
