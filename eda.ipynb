{
 "cells": [
  {
   "cell_type": "markdown",
   "metadata": {},
   "source": [
    "# EDA (Exploratory Data Analysis)\n",
    "\n",
    "In this Jupyter Notebook, we will execute a exploratory analysis.\n",
    "\n",
    "Instructions: To run this notebook is required to have a the data/gen/merged.csv file. Generate it using the merge.ipynb\n"
   ]
  },
  {
   "cell_type": "code",
   "execution_count": 23,
   "metadata": {},
   "outputs": [],
   "source": [
    "# Importing the libraries\n",
    "import pandas as pd\n",
    "import seaborn as sns  # Para visualización de datos mas avanzada\n",
    "%matplotlib inline\n",
    "import matplotlib.pyplot as plt # Para visualización de datos"
   ]
  },
  {
   "cell_type": "code",
   "execution_count": 2,
   "metadata": {},
   "outputs": [],
   "source": [
    "# Constants for the resources\n",
    "DATA_FILE = 'data/gen/merged.csv'"
   ]
  },
  {
   "cell_type": "code",
   "execution_count": 6,
   "metadata": {},
   "outputs": [
    {
     "name": "stderr",
     "output_type": "stream",
     "text": [
      "C:\\Users\\chama\\AppData\\Local\\Temp\\ipykernel_28620\\947250292.py:2: DtypeWarning: Columns (3,6,26,28,29) have mixed types. Specify dtype option on import or set low_memory=False.\n",
      "  df = pd.read_csv(DATA_FILE)\n"
     ]
    },
    {
     "data": {
      "text/html": [
       "<div>\n",
       "<style scoped>\n",
       "    .dataframe tbody tr th:only-of-type {\n",
       "        vertical-align: middle;\n",
       "    }\n",
       "\n",
       "    .dataframe tbody tr th {\n",
       "        vertical-align: top;\n",
       "    }\n",
       "\n",
       "    .dataframe thead th {\n",
       "        text-align: right;\n",
       "    }\n",
       "</style>\n",
       "<table border=\"1\" class=\"dataframe\">\n",
       "  <thead>\n",
       "    <tr style=\"text-align: right;\">\n",
       "      <th></th>\n",
       "      <th>ANO_EMISION</th>\n",
       "      <th>MES_EMISION</th>\n",
       "      <th>DIA_EMISION</th>\n",
       "      <th>DEPTO_MCPIO</th>\n",
       "      <th>QUIEN_REPORTA</th>\n",
       "      <th>VIC_SEXO</th>\n",
       "      <th>VIC_EDAD</th>\n",
       "      <th>TOTAL_HIJOS</th>\n",
       "      <th>NUM_HIJ_HOM</th>\n",
       "      <th>NUM_HIJ_MUJ</th>\n",
       "      <th>...</th>\n",
       "      <th>AGR_OCUP</th>\n",
       "      <th>AGR_DEDICA</th>\n",
       "      <th>AGRESORES_OTROS_TOTAL</th>\n",
       "      <th>AGR_OTROS_HOM</th>\n",
       "      <th>AGR_OTRAS_MUJ</th>\n",
       "      <th>AGR_OTROS_N_OS</th>\n",
       "      <th>AGR_OTRAS_N_AS</th>\n",
       "      <th>INST_DENUN_HECHO</th>\n",
       "      <th>MEDIDAS_SEGURIDAD</th>\n",
       "      <th>LEY_APLICABLE</th>\n",
       "    </tr>\n",
       "  </thead>\n",
       "  <tbody>\n",
       "    <tr>\n",
       "      <th>0</th>\n",
       "      <td>2013.0</td>\n",
       "      <td>Enero</td>\n",
       "      <td>22.0</td>\n",
       "      <td>Guatemala</td>\n",
       "      <td>Víctima</td>\n",
       "      <td>Mujeres</td>\n",
       "      <td>38</td>\n",
       "      <td>02</td>\n",
       "      <td>01</td>\n",
       "      <td>01</td>\n",
       "      <td>...</td>\n",
       "      <td>Ocupaciones ignoradas</td>\n",
       "      <td>NaN</td>\n",
       "      <td>Ninguna</td>\n",
       "      <td>Ninguna</td>\n",
       "      <td>Ninguna</td>\n",
       "      <td>Ninguna</td>\n",
       "      <td>Ninguna</td>\n",
       "      <td>Organismo Judicial</td>\n",
       "      <td>Medidas otorgadas</td>\n",
       "      <td>Ambas leyes (VIF y VCM)</td>\n",
       "    </tr>\n",
       "    <tr>\n",
       "      <th>1</th>\n",
       "      <td>2013.0</td>\n",
       "      <td>Enero</td>\n",
       "      <td>24.0</td>\n",
       "      <td>Guatemala</td>\n",
       "      <td>Víctima</td>\n",
       "      <td>Mujeres</td>\n",
       "      <td>20</td>\n",
       "      <td>01</td>\n",
       "      <td>Ninguna</td>\n",
       "      <td>01</td>\n",
       "      <td>...</td>\n",
       "      <td>Trabajadores ambulantes de servicios y afines</td>\n",
       "      <td>NaN</td>\n",
       "      <td>Ignorado</td>\n",
       "      <td>99.0</td>\n",
       "      <td>99.0</td>\n",
       "      <td>99.0</td>\n",
       "      <td>99.0</td>\n",
       "      <td>Ministerio Público</td>\n",
       "      <td>NaN</td>\n",
       "      <td>NaN</td>\n",
       "    </tr>\n",
       "    <tr>\n",
       "      <th>2</th>\n",
       "      <td>2013.0</td>\n",
       "      <td>Enero</td>\n",
       "      <td>21.0</td>\n",
       "      <td>Guatemala</td>\n",
       "      <td>Víctima</td>\n",
       "      <td>Mujeres</td>\n",
       "      <td>21</td>\n",
       "      <td>02</td>\n",
       "      <td>01</td>\n",
       "      <td>01</td>\n",
       "      <td>...</td>\n",
       "      <td>Albañiles</td>\n",
       "      <td>NaN</td>\n",
       "      <td>Ignorado</td>\n",
       "      <td>99.0</td>\n",
       "      <td>99.0</td>\n",
       "      <td>99.0</td>\n",
       "      <td>99.0</td>\n",
       "      <td>Procuraduría de los Derechos Humanos</td>\n",
       "      <td>NaN</td>\n",
       "      <td>NaN</td>\n",
       "    </tr>\n",
       "    <tr>\n",
       "      <th>3</th>\n",
       "      <td>2013.0</td>\n",
       "      <td>Enero</td>\n",
       "      <td>2.0</td>\n",
       "      <td>Guatemala</td>\n",
       "      <td>Víctima</td>\n",
       "      <td>Hombres</td>\n",
       "      <td>70</td>\n",
       "      <td>Ninguna</td>\n",
       "      <td>Ninguna</td>\n",
       "      <td>Ninguna</td>\n",
       "      <td>...</td>\n",
       "      <td>NaN</td>\n",
       "      <td>Quehaceres del Hogar</td>\n",
       "      <td>Ignorado</td>\n",
       "      <td>99.0</td>\n",
       "      <td>99.0</td>\n",
       "      <td>99.0</td>\n",
       "      <td>99.0</td>\n",
       "      <td>Procuraduría de los Derechos Humanos</td>\n",
       "      <td>NaN</td>\n",
       "      <td>NaN</td>\n",
       "    </tr>\n",
       "    <tr>\n",
       "      <th>4</th>\n",
       "      <td>2013.0</td>\n",
       "      <td>Enero</td>\n",
       "      <td>10.0</td>\n",
       "      <td>Guatemala</td>\n",
       "      <td>Víctima</td>\n",
       "      <td>Mujeres</td>\n",
       "      <td>36</td>\n",
       "      <td>Ignorado</td>\n",
       "      <td>Ignorado</td>\n",
       "      <td>Ignorado</td>\n",
       "      <td>...</td>\n",
       "      <td>Ocupaciones no especificadas en las anteriores</td>\n",
       "      <td>NaN</td>\n",
       "      <td>Ignorado</td>\n",
       "      <td>99.0</td>\n",
       "      <td>99.0</td>\n",
       "      <td>99.0</td>\n",
       "      <td>99.0</td>\n",
       "      <td>Procuraduría de los Derechos Humanos</td>\n",
       "      <td>NaN</td>\n",
       "      <td>NaN</td>\n",
       "    </tr>\n",
       "  </tbody>\n",
       "</table>\n",
       "<p>5 rows × 52 columns</p>\n",
       "</div>"
      ],
      "text/plain": [
       "   ANO_EMISION MES_EMISION  DIA_EMISION DEPTO_MCPIO QUIEN_REPORTA VIC_SEXO  \\\n",
       "0       2013.0       Enero         22.0   Guatemala       Víctima  Mujeres   \n",
       "1       2013.0       Enero         24.0   Guatemala       Víctima  Mujeres   \n",
       "2       2013.0       Enero         21.0   Guatemala       Víctima  Mujeres   \n",
       "3       2013.0       Enero          2.0   Guatemala       Víctima  Hombres   \n",
       "4       2013.0       Enero         10.0   Guatemala       Víctima  Mujeres   \n",
       "\n",
       "  VIC_EDAD TOTAL_HIJOS NUM_HIJ_HOM NUM_HIJ_MUJ  ...  \\\n",
       "0       38          02          01          01  ...   \n",
       "1       20          01     Ninguna          01  ...   \n",
       "2       21          02          01          01  ...   \n",
       "3       70     Ninguna     Ninguna     Ninguna  ...   \n",
       "4       36    Ignorado    Ignorado    Ignorado  ...   \n",
       "\n",
       "                                         AGR_OCUP            AGR_DEDICA  \\\n",
       "0                           Ocupaciones ignoradas                   NaN   \n",
       "1   Trabajadores ambulantes de servicios y afines                   NaN   \n",
       "2                                       Albañiles                   NaN   \n",
       "3                                             NaN  Quehaceres del Hogar   \n",
       "4  Ocupaciones no especificadas en las anteriores                   NaN   \n",
       "\n",
       "  AGRESORES_OTROS_TOTAL AGR_OTROS_HOM AGR_OTRAS_MUJ AGR_OTROS_N_OS  \\\n",
       "0               Ninguna       Ninguna       Ninguna        Ninguna   \n",
       "1              Ignorado          99.0          99.0           99.0   \n",
       "2              Ignorado          99.0          99.0           99.0   \n",
       "3              Ignorado          99.0          99.0           99.0   \n",
       "4              Ignorado          99.0          99.0           99.0   \n",
       "\n",
       "  AGR_OTRAS_N_AS                      INST_DENUN_HECHO  MEDIDAS_SEGURIDAD  \\\n",
       "0        Ninguna                    Organismo Judicial  Medidas otorgadas   \n",
       "1           99.0                    Ministerio Público                NaN   \n",
       "2           99.0  Procuraduría de los Derechos Humanos                NaN   \n",
       "3           99.0  Procuraduría de los Derechos Humanos                NaN   \n",
       "4           99.0  Procuraduría de los Derechos Humanos                NaN   \n",
       "\n",
       "             LEY_APLICABLE  \n",
       "0  Ambas leyes (VIF y VCM)  \n",
       "1                      NaN  \n",
       "2                      NaN  \n",
       "3                      NaN  \n",
       "4                      NaN  \n",
       "\n",
       "[5 rows x 52 columns]"
      ]
     },
     "execution_count": 6,
     "metadata": {},
     "output_type": "execute_result"
    }
   ],
   "source": [
    "# Importing the dataset\n",
    "df = pd.read_csv(DATA_FILE)\n",
    "df.head()"
   ]
  },
  {
   "cell_type": "markdown",
   "metadata": {},
   "source": [
    "Nota: Vemos que tenemos columnas con tipos de datos irregulares. Columnas (3,6,26,28,29)\n"
   ]
  },
  {
   "cell_type": "markdown",
   "metadata": {},
   "source": [
    "### Análisis básico manual\n"
   ]
  },
  {
   "cell_type": "code",
   "execution_count": 7,
   "metadata": {},
   "outputs": [
    {
     "data": {
      "text/plain": [
       "(328520, 52)"
      ]
     },
     "execution_count": 7,
     "metadata": {},
     "output_type": "execute_result"
    }
   ],
   "source": [
    "df.shape"
   ]
  },
  {
   "cell_type": "code",
   "execution_count": 8,
   "metadata": {},
   "outputs": [
    {
     "name": "stdout",
     "output_type": "stream",
     "text": [
      "<class 'pandas.core.frame.DataFrame'>\n",
      "RangeIndex: 328520 entries, 0 to 328519\n",
      "Data columns (total 52 columns):\n",
      " #   Column                 Non-Null Count   Dtype  \n",
      "---  ------                 --------------   -----  \n",
      " 0   ANO_EMISION            328520 non-null  float64\n",
      " 1   MES_EMISION            328520 non-null  object \n",
      " 2   DIA_EMISION            328520 non-null  float64\n",
      " 3   DEPTO_MCPIO            328520 non-null  object \n",
      " 4   QUIEN_REPORTA          328520 non-null  object \n",
      " 5   VIC_SEXO               328520 non-null  object \n",
      " 6   VIC_EDAD               328520 non-null  object \n",
      " 7   TOTAL_HIJOS            326949 non-null  object \n",
      " 8   NUM_HIJ_HOM            326949 non-null  object \n",
      " 9   NUM_HIJ_MUJ            326949 non-null  object \n",
      " 10  VIC_ALFAB              327881 non-null  object \n",
      " 11  VIC_ESCOLARIDAD        327881 non-null  object \n",
      " 12  VIC_EST_CIV            326949 non-null  object \n",
      " 13  VIC_GRUPET             328520 non-null  object \n",
      " 14  VIC_NACIONAL           328520 non-null  object \n",
      " 15  VIC_TRABAJA            327881 non-null  object \n",
      " 16  VIC_OCUP               110317 non-null  object \n",
      " 17  VIC_DEDICA             217236 non-null  object \n",
      " 18  VIC_DISC               328520 non-null  object \n",
      " 19  TIPO_DISCAQ            7318 non-null    object \n",
      " 20  VIC_REL_AGR            328520 non-null  object \n",
      " 21  OTRAS_VICTIMAS         328520 non-null  object \n",
      " 22  VIC_OTRAS_HOM          328520 non-null  object \n",
      " 23  VIC_OTRAS_MUJ          328520 non-null  object \n",
      " 24  VIC_OTRAS_N_OS         328520 non-null  object \n",
      " 25  VIC_OTRAS_N_AS         328520 non-null  object \n",
      " 26  HEC_DIA                328520 non-null  object \n",
      " 27  HEC_MES                328520 non-null  object \n",
      " 28  HEC_ANO                328520 non-null  object \n",
      " 29  HEC_DEPTOMCPIO         328520 non-null  object \n",
      " 30  HEC_AREA               328520 non-null  object \n",
      " 31  HEC_TIPAGRE            328520 non-null  object \n",
      " 32  HEC_RECUR_DENUN        328520 non-null  object \n",
      " 33  INST_DONDE_DENUNCIO    40633 non-null   object \n",
      " 34  AGR_SEXO               328520 non-null  object \n",
      " 35  AGR_EDAD               328520 non-null  object \n",
      " 36  AGR_ALFAB              328520 non-null  object \n",
      " 37  AGR_ESCOLARIDAD        328520 non-null  object \n",
      " 38  AGR_EST_CIV            328495 non-null  object \n",
      " 39  AGR_GRUPET             328520 non-null  object \n",
      " 40  AGR_NACIONAL           328520 non-null  object \n",
      " 41  AGR_TRABAJA            328520 non-null  object \n",
      " 42  AGR_OCUP               258932 non-null  object \n",
      " 43  AGR_DEDICA             70290 non-null   object \n",
      " 44  AGRESORES_OTROS_TOTAL  328520 non-null  object \n",
      " 45  AGR_OTROS_HOM          328520 non-null  object \n",
      " 46  AGR_OTRAS_MUJ          328520 non-null  object \n",
      " 47  AGR_OTROS_N_OS         328520 non-null  object \n",
      " 48  AGR_OTRAS_N_AS         328520 non-null  object \n",
      " 49  INST_DENUN_HECHO       328520 non-null  object \n",
      " 50  MEDIDAS_SEGURIDAD      179645 non-null  object \n",
      " 51  LEY_APLICABLE          180941 non-null  object \n",
      "dtypes: float64(2), object(50)\n",
      "memory usage: 130.3+ MB\n"
     ]
    }
   ],
   "source": [
    "df.info()"
   ]
  },
  {
   "cell_type": "markdown",
   "metadata": {},
   "source": [
    "Nota: Vemos que tenemos alrededor de 130.3 MB de data. Podríamos considerar realizar un sampling.\n"
   ]
  },
  {
   "cell_type": "code",
   "execution_count": 9,
   "metadata": {},
   "outputs": [
    {
     "data": {
      "text/plain": [
       "ANO_EMISION                   0\n",
       "MES_EMISION                   0\n",
       "DIA_EMISION                   0\n",
       "DEPTO_MCPIO                   0\n",
       "QUIEN_REPORTA                 0\n",
       "VIC_SEXO                      0\n",
       "VIC_EDAD                      0\n",
       "TOTAL_HIJOS                1571\n",
       "NUM_HIJ_HOM                1571\n",
       "NUM_HIJ_MUJ                1571\n",
       "VIC_ALFAB                   639\n",
       "VIC_ESCOLARIDAD             639\n",
       "VIC_EST_CIV                1571\n",
       "VIC_GRUPET                    0\n",
       "VIC_NACIONAL                  0\n",
       "VIC_TRABAJA                 639\n",
       "VIC_OCUP                 218203\n",
       "VIC_DEDICA               111284\n",
       "VIC_DISC                      0\n",
       "TIPO_DISCAQ              321202\n",
       "VIC_REL_AGR                   0\n",
       "OTRAS_VICTIMAS                0\n",
       "VIC_OTRAS_HOM                 0\n",
       "VIC_OTRAS_MUJ                 0\n",
       "VIC_OTRAS_N_OS                0\n",
       "VIC_OTRAS_N_AS                0\n",
       "HEC_DIA                       0\n",
       "HEC_MES                       0\n",
       "HEC_ANO                       0\n",
       "HEC_DEPTOMCPIO                0\n",
       "HEC_AREA                      0\n",
       "HEC_TIPAGRE                   0\n",
       "HEC_RECUR_DENUN               0\n",
       "INST_DONDE_DENUNCIO      287887\n",
       "AGR_SEXO                      0\n",
       "AGR_EDAD                      0\n",
       "AGR_ALFAB                     0\n",
       "AGR_ESCOLARIDAD               0\n",
       "AGR_EST_CIV                  25\n",
       "AGR_GRUPET                    0\n",
       "AGR_NACIONAL                  0\n",
       "AGR_TRABAJA                   0\n",
       "AGR_OCUP                  69588\n",
       "AGR_DEDICA               258230\n",
       "AGRESORES_OTROS_TOTAL         0\n",
       "AGR_OTROS_HOM                 0\n",
       "AGR_OTRAS_MUJ                 0\n",
       "AGR_OTROS_N_OS                0\n",
       "AGR_OTRAS_N_AS                0\n",
       "INST_DENUN_HECHO              0\n",
       "MEDIDAS_SEGURIDAD        148875\n",
       "LEY_APLICABLE            147579\n",
       "dtype: int64"
      ]
     },
     "execution_count": 9,
     "metadata": {},
     "output_type": "execute_result"
    }
   ],
   "source": [
    "df.isnull().sum()"
   ]
  },
  {
   "cell_type": "markdown",
   "metadata": {},
   "source": [
    "Nota: Algunas características poseen demasiados valores nulos.\n"
   ]
  },
  {
   "cell_type": "code",
   "execution_count": 10,
   "metadata": {},
   "outputs": [
    {
     "data": {
      "text/plain": [
       "ANO_EMISION               0.000000\n",
       "MES_EMISION               0.000000\n",
       "DIA_EMISION               0.000000\n",
       "DEPTO_MCPIO               0.000000\n",
       "QUIEN_REPORTA             0.000000\n",
       "VIC_SEXO                  0.000000\n",
       "VIC_EDAD                  0.000000\n",
       "TOTAL_HIJOS               0.478205\n",
       "NUM_HIJ_HOM               0.478205\n",
       "NUM_HIJ_MUJ               0.478205\n",
       "VIC_ALFAB                 0.194509\n",
       "VIC_ESCOLARIDAD           0.194509\n",
       "VIC_EST_CIV               0.478205\n",
       "VIC_GRUPET                0.000000\n",
       "VIC_NACIONAL              0.000000\n",
       "VIC_TRABAJA               0.194509\n",
       "VIC_OCUP                 66.420005\n",
       "VIC_DEDICA               33.874346\n",
       "VIC_DISC                  0.000000\n",
       "TIPO_DISCAQ              97.772434\n",
       "VIC_REL_AGR               0.000000\n",
       "OTRAS_VICTIMAS            0.000000\n",
       "VIC_OTRAS_HOM             0.000000\n",
       "VIC_OTRAS_MUJ             0.000000\n",
       "VIC_OTRAS_N_OS            0.000000\n",
       "VIC_OTRAS_N_AS            0.000000\n",
       "HEC_DIA                   0.000000\n",
       "HEC_MES                   0.000000\n",
       "HEC_ANO                   0.000000\n",
       "HEC_DEPTOMCPIO            0.000000\n",
       "HEC_AREA                  0.000000\n",
       "HEC_TIPAGRE               0.000000\n",
       "HEC_RECUR_DENUN           0.000000\n",
       "INST_DONDE_DENUNCIO      87.631499\n",
       "AGR_SEXO                  0.000000\n",
       "AGR_EDAD                  0.000000\n",
       "AGR_ALFAB                 0.000000\n",
       "AGR_ESCOLARIDAD           0.000000\n",
       "AGR_EST_CIV               0.007610\n",
       "AGR_GRUPET                0.000000\n",
       "AGR_NACIONAL              0.000000\n",
       "AGR_TRABAJA               0.000000\n",
       "AGR_OCUP                 21.182272\n",
       "AGR_DEDICA               78.604042\n",
       "AGRESORES_OTROS_TOTAL     0.000000\n",
       "AGR_OTROS_HOM             0.000000\n",
       "AGR_OTRAS_MUJ             0.000000\n",
       "AGR_OTROS_N_OS            0.000000\n",
       "AGR_OTRAS_N_AS            0.000000\n",
       "INST_DENUN_HECHO          0.000000\n",
       "MEDIDAS_SEGURIDAD        45.316876\n",
       "LEY_APLICABLE            44.922379\n",
       "dtype: float64"
      ]
     },
     "execution_count": 10,
     "metadata": {},
     "output_type": "execute_result"
    }
   ],
   "source": [
    "missing_data_percentage = df.isnull().mean() * 100  # missing data percentage\n",
    "missing_data_percentage"
   ]
  },
  {
   "cell_type": "markdown",
   "metadata": {},
   "source": [
    "Nota: Podríamos descartar algunas columnas que tengan un porcentaje demasiado alto.\n"
   ]
  },
  {
   "cell_type": "markdown",
   "metadata": {},
   "source": [
    "Nota: Dado que tenemos un set grande de datos podemos considerar quedarnos con los no valores nulos de algunas columnas. Sin embargo, debemos tomar en cuenta que esto podría disminuir el intervalo de tiempo de los datos.\n"
   ]
  },
  {
   "cell_type": "code",
   "execution_count": 15,
   "metadata": {},
   "outputs": [
    {
     "data": {
      "text/plain": [
       "(61, 52)"
      ]
     },
     "execution_count": 15,
     "metadata": {},
     "output_type": "execute_result"
    }
   ],
   "source": [
    "df.dropna().shape"
   ]
  },
  {
   "cell_type": "markdown",
   "metadata": {},
   "source": [
    "**¡Eliminar todas las filas con columnas nulas es inviable!**\n"
   ]
  },
  {
   "cell_type": "code",
   "execution_count": 51,
   "metadata": {},
   "outputs": [
    {
     "data": {
      "image/png": "[encoded data removed]",
      "text/plain": [
       "<Figure size 640x480 with 1 Axes>"
      ]
     },
     "metadata": {},
     "output_type": "display_data"
    }
   ],
   "source": [
    "def year_frequency_plot(df, column_name):\n",
    "    # Set the theme\n",
    "    sns.set_style(\"ticks\")\n",
    "\n",
    "    # Calculate the year frequency\n",
    "    year_frequency = df[column_name].value_counts().sort_index()\n",
    "    year_frequency.index = year_frequency.index.astype(int)\n",
    "    # Create a bar plot\n",
    "    sns.barplot(x=year_frequency.index, y=year_frequency.values, color='b')\n",
    "\n",
    "    # Calculate the mean of the year frequency\n",
    "    mean_year = year_frequency.mean()\n",
    "\n",
    "    # Add a horizontal line for the mean\n",
    "    plt.axhline(mean_year, color='grey', linestyle='--')\n",
    "\n",
    "    # Add a text label for the mean\n",
    "    plt.text(3, mean_year + 2000, f'Mean: {mean_year:.2f}', color='black')\n",
    "\n",
    "    # Improve the plot appearance\n",
    "    plt.xlabel('Year of Emission')\n",
    "    plt.ylabel('Frequency')\n",
    "    plt.title('Year Frequency')\n",
    "    plt.xticks(rotation=90)\n",
    "    sns.despine()\n",
    "\n",
    "    # Show the plot\n",
    "    plt.show()\n",
    "\n",
    "\n",
    "year_frequency_plot(df, 'ANO_EMISION')"
   ]
  },
  {
   "cell_type": "markdown",
   "metadata": {},
   "source": [
    "Nota: Vemos que tenemos una cantidad considerable de datos para cada año. Todo bien.\n"
   ]
  },
  {
   "cell_type": "markdown",
   "metadata": {},
   "source": [
    "De forma arbitraria podemos remover los valores nulos de las columnas que no impactan significativamente.\n"
   ]
  },
  {
   "cell_type": "code",
   "execution_count": 53,
   "metadata": {},
   "outputs": [],
   "source": [
    "REMOVE_NULLS_OVER = [\n",
    "    'TOTAL_HIJOS',\n",
    "    'NUM_HIJ_HOM',\n",
    "    'NUM_HIJ_MUJ',\n",
    "    'VIC_ALFAB',\n",
    "    'VIC_ESCOLARIDAD',\n",
    "    'VIC_EST_CIV',\n",
    "    'VIC_TRABAJA',\n",
    "    'AGR_EST_CIV'\n",
    "]\n",
    "# Remove the rows with nulls in the specified columns\n",
    "df = df.dropna(subset=REMOVE_NULLS_OVER)"
   ]
  },
  {
   "cell_type": "code",
   "execution_count": 54,
   "metadata": {},
   "outputs": [
    {
     "data": {
      "text/plain": [
       "(326935, 52)"
      ]
     },
     "execution_count": 54,
     "metadata": {},
     "output_type": "execute_result"
    }
   ],
   "source": [
    "df.shape"
   ]
  },
  {
   "cell_type": "code",
   "execution_count": 55,
   "metadata": {},
   "outputs": [
    {
     "data": {
      "text/plain": [
       "ANO_EMISION                   0\n",
       "MES_EMISION                   0\n",
       "DIA_EMISION                   0\n",
       "DEPTO_MCPIO                   0\n",
       "QUIEN_REPORTA                 0\n",
       "VIC_SEXO                      0\n",
       "VIC_EDAD                      0\n",
       "TOTAL_HIJOS                   0\n",
       "NUM_HIJ_HOM                   0\n",
       "NUM_HIJ_MUJ                   0\n",
       "VIC_ALFAB                     0\n",
       "VIC_ESCOLARIDAD               0\n",
       "VIC_EST_CIV                   0\n",
       "VIC_GRUPET                    0\n",
       "VIC_NACIONAL                  0\n",
       "VIC_TRABAJA                   0\n",
       "VIC_OCUP                 216635\n",
       "VIC_DEDICA               110627\n",
       "VIC_DISC                      0\n",
       "TIPO_DISCAQ              319650\n",
       "VIC_REL_AGR                   0\n",
       "OTRAS_VICTIMAS                0\n",
       "VIC_OTRAS_HOM                 0\n",
       "VIC_OTRAS_MUJ                 0\n",
       "VIC_OTRAS_N_OS                0\n",
       "VIC_OTRAS_N_AS                0\n",
       "HEC_DIA                       0\n",
       "HEC_MES                       0\n",
       "HEC_ANO                       0\n",
       "HEC_DEPTOMCPIO                0\n",
       "HEC_AREA                      0\n",
       "HEC_TIPAGRE                   0\n",
       "HEC_RECUR_DENUN               0\n",
       "INST_DONDE_DENUNCIO      286410\n",
       "AGR_SEXO                      0\n",
       "AGR_EDAD                      0\n",
       "AGR_ALFAB                     0\n",
       "AGR_ESCOLARIDAD               0\n",
       "AGR_EST_CIV                   0\n",
       "AGR_GRUPET                    0\n",
       "AGR_NACIONAL                  0\n",
       "AGR_TRABAJA                   0\n",
       "AGR_OCUP                  68754\n",
       "AGR_DEDICA               257495\n",
       "AGRESORES_OTROS_TOTAL         0\n",
       "AGR_OTROS_HOM                 0\n",
       "AGR_OTRAS_MUJ                 0\n",
       "AGR_OTROS_N_OS                0\n",
       "AGR_OTRAS_N_AS                0\n",
       "INST_DENUN_HECHO              0\n",
       "MEDIDAS_SEGURIDAD        147614\n",
       "LEY_APLICABLE            146319\n",
       "dtype: int64"
      ]
     },
     "execution_count": 55,
     "metadata": {},
     "output_type": "execute_result"
    }
   ],
   "source": [
    "df.isnull().sum()"
   ]
  }
 ],
 "metadata": {
  "kernelspec": {
   "display_name": "Python 3",
   "language": "python",
   "name": "python3"
  },
  "language_info": {
   "codemirror_mode": {
    "name": "ipython",
    "version": 3
   },
   "file_extension": ".py",
   "mimetype": "text/x-python",
   "name": "python",
   "nbconvert_exporter": "python",
   "pygments_lexer": "ipython3",
   "version": "3.11.4"
  }
 },
 "nbformat": 4,
 "nbformat_minor": 2
}
