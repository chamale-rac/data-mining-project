{
 "cells": [
  {
   "cell_type": "markdown",
   "metadata": {},
   "source": [
    "# Visualización de Mapa\n"
   ]
  },
  {
   "cell_type": "code",
   "execution_count": 57,
   "metadata": {},
   "outputs": [],
   "source": [
    "dptoDict = {\n",
    "    'guatemala': [14.639788003038683, -90.51421192347037],\n",
    "    'el progreso': [14.88846558034191, -90.09440187162627],\n",
    "    'sacatepéquez': [14.554420344932474, -90.7465858784179],\n",
    "    'chimaltenango': [14.663531937760325, -90.8243380548989],\n",
    "    'escuintla': [14.178873256124566, -90.99525382989177],\n",
    "    'santa rosa': [14.167209701151515, -90.37761235627983],\n",
    "    'sololá': [14.76514949567497, -91.18100902540884],\n",
    "    'totonicapán': [14.91584067194991, -91.36148934132461],\n",
    "    'quetzaltenango': [14.851348204496961, -91.52597659085522],\n",
    "    'suchitepéquez': [14.49425922294234, -91.41249310491362],\n",
    "    'retalhuleu': [14.538264510999534, -91.69614337980022],\n",
    "    'san marcos': [15.06589053351376, -91.96206338444526],\n",
    "    'huehuetenango': [15.326206184921684, -91.49537917828538],\n",
    "    'quiché': [15.588507515628088, -90.9688768336286],\n",
    "    'baja verapaz': [15.057896636808197, -90.43625531659339],\n",
    "    'alta verapaz': [15.706451596046026, -90.12260413652844],\n",
    "    'petén': [16.953062721265628, -90.08915074367579],\n",
    "    'izabal': [15.385710411665839, -89.22723213709669],\n",
    "    'zacapa': [14.967568812097642, -89.5342064225304],\n",
    "    'chiquimula': [14.791028254837709, -89.54455335182057],\n",
    "    'jalapa': [14.638150123271346, -89.99467850857566],\n",
    "    'jutiapa': [14.28937046612785, -89.88155451133409]\n",
    "}"
   ]
  },
  {
   "cell_type": "code",
   "execution_count": 58,
   "metadata": {},
   "outputs": [],
   "source": [
    "import pandas as pd  # Para manipulación de datos\n",
    "import warnings as wr  # Para evitar warnings\n",
    "wr.filterwarnings('ignore')"
   ]
  },
  {
   "cell_type": "code",
   "execution_count": 59,
   "metadata": {},
   "outputs": [],
   "source": [
    "DATA_FILE = 'data/gen/cleaned.csv'"
   ]
  },
  {
   "cell_type": "code",
   "execution_count": 60,
   "metadata": {},
   "outputs": [],
   "source": [
    "df = pd.read_csv(DATA_FILE)"
   ]
  },
  {
   "cell_type": "code",
   "execution_count": 87,
   "metadata": {},
   "outputs": [],
   "source": [
    "# Create a count per 'REG_DPTO'\n",
    "reg_dpto = df['REG_DPTO'].value_counts().reset_index()\n",
    "\n",
    "# Now based\n",
    "reg_dpto['Latitude'] = reg_dpto['REG_DPTO'].map(\n",
    "    lambda x: dptoDict.get(x.lower(), [None, None])[0])\n",
    "reg_dpto['Longitude'] = reg_dpto['REG_DPTO'].map(\n",
    "    lambda x: dptoDict.get(x.lower(), [None, None])[1])\n",
    "\n",
    "# For all add a Country column where all have Guatemala\n",
    "reg_dpto['Country'] = 'Guatemala'\n",
    "reg_dpto['iso_alpha'] = 'GTM'\n",
    "\n",
    "# Capitalize 'REG_DPTO' column\n",
    "reg_dpto['REG_DPTO'] = reg_dpto['REG_DPTO'].str.capitalize()\n",
    "# Rename REG_DPTO to Department\n",
    "reg_dpto.rename(columns={'REG_DPTO': 'Department'}, inplace=True)"
   ]
  },
  {
   "cell_type": "code",
   "execution_count": 75,
   "metadata": {},
   "outputs": [
    {
     "data": {
      "text/html": [
       "<div>\n",
       "<style scoped>\n",
       "    .dataframe tbody tr th:only-of-type {\n",
       "        vertical-align: middle;\n",
       "    }\n",
       "\n",
       "    .dataframe tbody tr th {\n",
       "        vertical-align: top;\n",
       "    }\n",
       "\n",
       "    .dataframe thead th {\n",
       "        text-align: right;\n",
       "    }\n",
       "</style>\n",
       "<table border=\"1\" class=\"dataframe\">\n",
       "  <thead>\n",
       "    <tr style=\"text-align: right;\">\n",
       "      <th></th>\n",
       "      <th>Department</th>\n",
       "      <th>count</th>\n",
       "      <th>Latitude</th>\n",
       "      <th>Longitude</th>\n",
       "      <th>Country</th>\n",
       "    </tr>\n",
       "  </thead>\n",
       "  <tbody>\n",
       "    <tr>\n",
       "      <th>0</th>\n",
       "      <td>Guatemala</td>\n",
       "      <td>59136</td>\n",
       "      <td>14.639788</td>\n",
       "      <td>-90.514212</td>\n",
       "      <td>Guatemala</td>\n",
       "    </tr>\n",
       "    <tr>\n",
       "      <th>1</th>\n",
       "      <td>Alta verapaz</td>\n",
       "      <td>38411</td>\n",
       "      <td>15.706452</td>\n",
       "      <td>-90.122604</td>\n",
       "      <td>Guatemala</td>\n",
       "    </tr>\n",
       "    <tr>\n",
       "      <th>2</th>\n",
       "      <td>San marcos</td>\n",
       "      <td>19615</td>\n",
       "      <td>15.065891</td>\n",
       "      <td>-91.962063</td>\n",
       "      <td>Guatemala</td>\n",
       "    </tr>\n",
       "    <tr>\n",
       "      <th>3</th>\n",
       "      <td>Suchitepéquez</td>\n",
       "      <td>19428</td>\n",
       "      <td>14.494259</td>\n",
       "      <td>-91.412493</td>\n",
       "      <td>Guatemala</td>\n",
       "    </tr>\n",
       "    <tr>\n",
       "      <th>4</th>\n",
       "      <td>Chimaltenango</td>\n",
       "      <td>18367</td>\n",
       "      <td>14.663532</td>\n",
       "      <td>-90.824338</td>\n",
       "      <td>Guatemala</td>\n",
       "    </tr>\n",
       "    <tr>\n",
       "      <th>5</th>\n",
       "      <td>Quetzaltenango</td>\n",
       "      <td>17777</td>\n",
       "      <td>14.851348</td>\n",
       "      <td>-91.525977</td>\n",
       "      <td>Guatemala</td>\n",
       "    </tr>\n",
       "    <tr>\n",
       "      <th>6</th>\n",
       "      <td>Retalhuleu</td>\n",
       "      <td>15641</td>\n",
       "      <td>14.538265</td>\n",
       "      <td>-91.696143</td>\n",
       "      <td>Guatemala</td>\n",
       "    </tr>\n",
       "    <tr>\n",
       "      <th>7</th>\n",
       "      <td>Sacatepéquez</td>\n",
       "      <td>15286</td>\n",
       "      <td>14.554420</td>\n",
       "      <td>-90.746586</td>\n",
       "      <td>Guatemala</td>\n",
       "    </tr>\n",
       "    <tr>\n",
       "      <th>8</th>\n",
       "      <td>Santa rosa</td>\n",
       "      <td>12254</td>\n",
       "      <td>14.167210</td>\n",
       "      <td>-90.377612</td>\n",
       "      <td>Guatemala</td>\n",
       "    </tr>\n",
       "    <tr>\n",
       "      <th>9</th>\n",
       "      <td>Huehuetenango</td>\n",
       "      <td>12033</td>\n",
       "      <td>15.326206</td>\n",
       "      <td>-91.495379</td>\n",
       "      <td>Guatemala</td>\n",
       "    </tr>\n",
       "    <tr>\n",
       "      <th>10</th>\n",
       "      <td>Petén</td>\n",
       "      <td>11707</td>\n",
       "      <td>16.953063</td>\n",
       "      <td>-90.089151</td>\n",
       "      <td>Guatemala</td>\n",
       "    </tr>\n",
       "    <tr>\n",
       "      <th>11</th>\n",
       "      <td>Jutiapa</td>\n",
       "      <td>11432</td>\n",
       "      <td>14.289370</td>\n",
       "      <td>-89.881555</td>\n",
       "      <td>Guatemala</td>\n",
       "    </tr>\n",
       "    <tr>\n",
       "      <th>12</th>\n",
       "      <td>El progreso</td>\n",
       "      <td>9814</td>\n",
       "      <td>14.888466</td>\n",
       "      <td>-90.094402</td>\n",
       "      <td>Guatemala</td>\n",
       "    </tr>\n",
       "    <tr>\n",
       "      <th>13</th>\n",
       "      <td>Baja verapaz</td>\n",
       "      <td>8932</td>\n",
       "      <td>15.057897</td>\n",
       "      <td>-90.436255</td>\n",
       "      <td>Guatemala</td>\n",
       "    </tr>\n",
       "    <tr>\n",
       "      <th>14</th>\n",
       "      <td>Zacapa</td>\n",
       "      <td>7612</td>\n",
       "      <td>14.967569</td>\n",
       "      <td>-89.534206</td>\n",
       "      <td>Guatemala</td>\n",
       "    </tr>\n",
       "    <tr>\n",
       "      <th>15</th>\n",
       "      <td>Quiché</td>\n",
       "      <td>7548</td>\n",
       "      <td>15.588508</td>\n",
       "      <td>-90.968877</td>\n",
       "      <td>Guatemala</td>\n",
       "    </tr>\n",
       "    <tr>\n",
       "      <th>16</th>\n",
       "      <td>Izabal</td>\n",
       "      <td>7252</td>\n",
       "      <td>15.385710</td>\n",
       "      <td>-89.227232</td>\n",
       "      <td>Guatemala</td>\n",
       "    </tr>\n",
       "    <tr>\n",
       "      <th>17</th>\n",
       "      <td>Escuintla</td>\n",
       "      <td>7196</td>\n",
       "      <td>14.178873</td>\n",
       "      <td>-90.995254</td>\n",
       "      <td>Guatemala</td>\n",
       "    </tr>\n",
       "    <tr>\n",
       "      <th>18</th>\n",
       "      <td>Jalapa</td>\n",
       "      <td>5924</td>\n",
       "      <td>14.638150</td>\n",
       "      <td>-89.994679</td>\n",
       "      <td>Guatemala</td>\n",
       "    </tr>\n",
       "    <tr>\n",
       "      <th>19</th>\n",
       "      <td>Sololá</td>\n",
       "      <td>5751</td>\n",
       "      <td>14.765149</td>\n",
       "      <td>-91.181009</td>\n",
       "      <td>Guatemala</td>\n",
       "    </tr>\n",
       "    <tr>\n",
       "      <th>20</th>\n",
       "      <td>Totonicapán</td>\n",
       "      <td>4896</td>\n",
       "      <td>14.915841</td>\n",
       "      <td>-91.361489</td>\n",
       "      <td>Guatemala</td>\n",
       "    </tr>\n",
       "    <tr>\n",
       "      <th>21</th>\n",
       "      <td>Chiquimula</td>\n",
       "      <td>4688</td>\n",
       "      <td>14.791028</td>\n",
       "      <td>-89.544553</td>\n",
       "      <td>Guatemala</td>\n",
       "    </tr>\n",
       "  </tbody>\n",
       "</table>\n",
       "</div>"
      ],
      "text/plain": [
       "        Department  count   Latitude  Longitude    Country\n",
       "0        Guatemala  59136  14.639788 -90.514212  Guatemala\n",
       "1     Alta verapaz  38411  15.706452 -90.122604  Guatemala\n",
       "2       San marcos  19615  15.065891 -91.962063  Guatemala\n",
       "3    Suchitepéquez  19428  14.494259 -91.412493  Guatemala\n",
       "4    Chimaltenango  18367  14.663532 -90.824338  Guatemala\n",
       "5   Quetzaltenango  17777  14.851348 -91.525977  Guatemala\n",
       "6       Retalhuleu  15641  14.538265 -91.696143  Guatemala\n",
       "7     Sacatepéquez  15286  14.554420 -90.746586  Guatemala\n",
       "8       Santa rosa  12254  14.167210 -90.377612  Guatemala\n",
       "9    Huehuetenango  12033  15.326206 -91.495379  Guatemala\n",
       "10           Petén  11707  16.953063 -90.089151  Guatemala\n",
       "11         Jutiapa  11432  14.289370 -89.881555  Guatemala\n",
       "12     El progreso   9814  14.888466 -90.094402  Guatemala\n",
       "13    Baja verapaz   8932  15.057897 -90.436255  Guatemala\n",
       "14          Zacapa   7612  14.967569 -89.534206  Guatemala\n",
       "15          Quiché   7548  15.588508 -90.968877  Guatemala\n",
       "16          Izabal   7252  15.385710 -89.227232  Guatemala\n",
       "17       Escuintla   7196  14.178873 -90.995254  Guatemala\n",
       "18          Jalapa   5924  14.638150 -89.994679  Guatemala\n",
       "19          Sololá   5751  14.765149 -91.181009  Guatemala\n",
       "20     Totonicapán   4896  14.915841 -91.361489  Guatemala\n",
       "21      Chiquimula   4688  14.791028 -89.544553  Guatemala"
      ]
     },
     "execution_count": 75,
     "metadata": {},
     "output_type": "execute_result"
    }
   ],
   "source": [
    "reg_dpto"
   ]
  },
  {
   "cell_type": "code",
   "execution_count": 113,
   "metadata": {},
   "outputs": [
    {
     "data": {
      "application/vnd.plotly.v1+json": {
       "config": {
        "plotlyServerURL": "https://plot.ly"
       },
       "data": [
        {
         "geo": "geo",
         "hovertemplate": "<b>%{hovertext}</b><br><br>Latitude=%{lat}<br>Longitude=%{lon}<br>count=%{marker.color}<extra></extra>",
         "hovertext": [
          "Guatemala",
          "Alta verapaz",
          "San marcos",
          "Suchitepéquez",
          "Chimaltenango",
          "Quetzaltenango",
          "Retalhuleu",
          "Sacatepéquez",
          "Santa rosa",
          "Huehuetenango",
          "Petén",
          "Jutiapa",
          "El progreso",
          "Baja verapaz",
          "Zacapa",
          "Quiché",
          "Izabal",
          "Escuintla",
          "Jalapa",
          "Sololá",
          "Totonicapán",
          "Chiquimula"
         ],
         "lat": [
          14.639788003038683,
          15.706451596046026,
          15.06589053351376,
          14.49425922294234,
          14.663531937760325,
          14.851348204496961,
          14.538264510999534,
          14.554420344932474,
          14.167209701151515,
          15.326206184921684,
          16.953062721265628,
          14.28937046612785,
          14.88846558034191,
          15.057896636808197,
          14.967568812097642,
          15.588507515628088,
          15.385710411665839,
          14.178873256124566,
          14.638150123271346,
          14.76514949567497,
          14.91584067194991,
          14.791028254837709
         ],
         "legendgroup": "",
         "lon": [
          -90.51421192347037,
          -90.12260413652844,
          -91.96206338444526,
          -91.41249310491362,
          -90.8243380548989,
          -91.52597659085522,
          -91.69614337980022,
          -90.7465858784179,
          -90.37761235627983,
          -91.49537917828538,
          -90.08915074367579,
          -89.88155451133409,
          -90.09440187162627,
          -90.43625531659339,
          -89.5342064225304,
          -90.9688768336286,
          -89.22723213709669,
          -90.99525382989177,
          -89.99467850857566,
          -91.18100902540884,
          -91.36148934132461,
          -89.54455335182057
         ],
         "marker": {
          "color": [
           59136,
           38411,
           19615,
           19428,
           18367,
           17777,
           15641,
           15286,
           12254,
           12033,
           11707,
           11432,
           9814,
           8932,
           7612,
           7548,
           7252,
           7196,
           5924,
           5751,
           4896,
           4688
          ],
          "coloraxis": "coloraxis",
          "symbol": "circle"
         },
         "mode": "markers",
         "name": "",
         "showlegend": false,
         "type": "scattergeo"
        }
       ],
       "layout": {
        "coloraxis": {
         "colorbar": {
          "title": {
           "text": "count"
          }
         },
         "colorscale": [
          [
           0,
           "#0d0887"
          ],
          [
           0.1111111111111111,
           "#46039f"
          ],
          [
           0.2222222222222222,
           "#7201a8"
          ],
          [
           0.3333333333333333,
           "#9c179e"
          ],
          [
           0.4444444444444444,
           "#bd3786"
          ],
          [
           0.5555555555555556,
           "#d8576b"
          ],
          [
           0.6666666666666666,
           "#ed7953"
          ],
          [
           0.7777777777777778,
           "#fb9f3a"
          ],
          [
           0.8888888888888888,
           "#fdca26"
          ],
          [
           1,
           "#f0f921"
          ]
         ]
        },
        "geo": {
         "center": {},
         "domain": {
          "x": [
           0,
           1
          ],
          "y": [
           0,
           1
          ]
         },
         "fitbounds": "locations",
         "projection": {
          "type": "natural earth"
         },
         "showcoastlines": true,
         "showcountries": true,
         "showland": true
        },
        "legend": {
         "tracegroupgap": 0
        },
        "margin": {
         "t": 60
        },
        "template": {
         "data": {
          "bar": [
           {
            "error_x": {
             "color": "#2a3f5f"
            },
            "error_y": {
             "color": "#2a3f5f"
            },
            "marker": {
             "line": {
              "color": "#E5ECF6",
              "width": 0.5
             },
             "pattern": {
              "fillmode": "overlay",
              "size": 10,
              "solidity": 0.2
             }
            },
            "type": "bar"
           }
          ],
          "barpolar": [
           {
            "marker": {
             "line": {
              "color": "#E5ECF6",
              "width": 0.5
             },
             "pattern": {
              "fillmode": "overlay",
              "size": 10,
              "solidity": 0.2
             }
            },
            "type": "barpolar"
           }
          ],
          "carpet": [
           {
            "aaxis": {
             "endlinecolor": "#2a3f5f",
             "gridcolor": "white",
             "linecolor": "white",
             "minorgridcolor": "white",
             "startlinecolor": "#2a3f5f"
            },
            "baxis": {
             "endlinecolor": "#2a3f5f",
             "gridcolor": "white",
             "linecolor": "white",
             "minorgridcolor": "white",
             "startlinecolor": "#2a3f5f"
            },
            "type": "carpet"
           }
          ],
          "choropleth": [
           {
            "colorbar": {
             "outlinewidth": 0,
             "ticks": ""
            },
            "type": "choropleth"
           }
          ],
          "contour": [
           {
            "colorbar": {
             "outlinewidth": 0,
             "ticks": ""
            },
            "colorscale": [
             [
              0,
              "#0d0887"
             ],
             [
              0.1111111111111111,
              "#46039f"
             ],
             [
              0.2222222222222222,
              "#7201a8"
             ],
             [
              0.3333333333333333,
              "#9c179e"
             ],
             [
              0.4444444444444444,
              "#bd3786"
             ],
             [
              0.5555555555555556,
              "#d8576b"
             ],
             [
              0.6666666666666666,
              "#ed7953"
             ],
             [
              0.7777777777777778,
              "#fb9f3a"
             ],
             [
              0.8888888888888888,
              "#fdca26"
             ],
             [
              1,
              "#f0f921"
             ]
            ],
            "type": "contour"
           }
          ],
          "contourcarpet": [
           {
            "colorbar": {
             "outlinewidth": 0,
             "ticks": ""
            },
            "type": "contourcarpet"
           }
          ],
          "heatmap": [
           {
            "colorbar": {
             "outlinewidth": 0,
             "ticks": ""
            },
            "colorscale": [
             [
              0,
              "#0d0887"
             ],
             [
              0.1111111111111111,
              "#46039f"
             ],
             [
              0.2222222222222222,
              "#7201a8"
             ],
             [
              0.3333333333333333,
              "#9c179e"
             ],
             [
              0.4444444444444444,
              "#bd3786"
             ],
             [
              0.5555555555555556,
              "#d8576b"
             ],
             [
              0.6666666666666666,
              "#ed7953"
             ],
             [
              0.7777777777777778,
              "#fb9f3a"
             ],
             [
              0.8888888888888888,
              "#fdca26"
             ],
             [
              1,
              "#f0f921"
             ]
            ],
            "type": "heatmap"
           }
          ],
          "heatmapgl": [
           {
            "colorbar": {
             "outlinewidth": 0,
             "ticks": ""
            },
            "colorscale": [
             [
              0,
              "#0d0887"
             ],
             [
              0.1111111111111111,
              "#46039f"
             ],
             [
              0.2222222222222222,
              "#7201a8"
             ],
             [
              0.3333333333333333,
              "#9c179e"
             ],
             [
              0.4444444444444444,
              "#bd3786"
             ],
             [
              0.5555555555555556,
              "#d8576b"
             ],
             [
              0.6666666666666666,
              "#ed7953"
             ],
             [
              0.7777777777777778,
              "#fb9f3a"
             ],
             [
              0.8888888888888888,
              "#fdca26"
             ],
             [
              1,
              "#f0f921"
             ]
            ],
            "type": "heatmapgl"
           }
          ],
          "histogram": [
           {
            "marker": {
             "pattern": {
              "fillmode": "overlay",
              "size": 10,
              "solidity": 0.2
             }
            },
            "type": "histogram"
           }
          ],
          "histogram2d": [
           {
            "colorbar": {
             "outlinewidth": 0,
             "ticks": ""
            },
            "colorscale": [
             [
              0,
              "#0d0887"
             ],
             [
              0.1111111111111111,
              "#46039f"
             ],
             [
              0.2222222222222222,
              "#7201a8"
             ],
             [
              0.3333333333333333,
              "#9c179e"
             ],
             [
              0.4444444444444444,
              "#bd3786"
             ],
             [
              0.5555555555555556,
              "#d8576b"
             ],
             [
              0.6666666666666666,
              "#ed7953"
             ],
             [
              0.7777777777777778,
              "#fb9f3a"
             ],
             [
              0.8888888888888888,
              "#fdca26"
             ],
             [
              1,
              "#f0f921"
             ]
            ],
            "type": "histogram2d"
           }
          ],
          "histogram2dcontour": [
           {
            "colorbar": {
             "outlinewidth": 0,
             "ticks": ""
            },
            "colorscale": [
             [
              0,
              "#0d0887"
             ],
             [
              0.1111111111111111,
              "#46039f"
             ],
             [
              0.2222222222222222,
              "#7201a8"
             ],
             [
              0.3333333333333333,
              "#9c179e"
             ],
             [
              0.4444444444444444,
              "#bd3786"
             ],
             [
              0.5555555555555556,
              "#d8576b"
             ],
             [
              0.6666666666666666,
              "#ed7953"
             ],
             [
              0.7777777777777778,
              "#fb9f3a"
             ],
             [
              0.8888888888888888,
              "#fdca26"
             ],
             [
              1,
              "#f0f921"
             ]
            ],
            "type": "histogram2dcontour"
           }
          ],
          "mesh3d": [
           {
            "colorbar": {
             "outlinewidth": 0,
             "ticks": ""
            },
            "type": "mesh3d"
           }
          ],
          "parcoords": [
           {
            "line": {
             "colorbar": {
              "outlinewidth": 0,
              "ticks": ""
             }
            },
            "type": "parcoords"
           }
          ],
          "pie": [
           {
            "automargin": true,
            "type": "pie"
           }
          ],
          "scatter": [
           {
            "fillpattern": {
             "fillmode": "overlay",
             "size": 10,
             "solidity": 0.2
            },
            "type": "scatter"
           }
          ],
          "scatter3d": [
           {
            "line": {
             "colorbar": {
              "outlinewidth": 0,
              "ticks": ""
             }
            },
            "marker": {
             "colorbar": {
              "outlinewidth": 0,
              "ticks": ""
             }
            },
            "type": "scatter3d"
           }
          ],
          "scattercarpet": [
           {
            "marker": {
             "colorbar": {
              "outlinewidth": 0,
              "ticks": ""
             }
            },
            "type": "scattercarpet"
           }
          ],
          "scattergeo": [
           {
            "marker": {
             "colorbar": {
              "outlinewidth": 0,
              "ticks": ""
             }
            },
            "type": "scattergeo"
           }
          ],
          "scattergl": [
           {
            "marker": {
             "colorbar": {
              "outlinewidth": 0,
              "ticks": ""
             }
            },
            "type": "scattergl"
           }
          ],
          "scattermapbox": [
           {
            "marker": {
             "colorbar": {
              "outlinewidth": 0,
              "ticks": ""
             }
            },
            "type": "scattermapbox"
           }
          ],
          "scatterpolar": [
           {
            "marker": {
             "colorbar": {
              "outlinewidth": 0,
              "ticks": ""
             }
            },
            "type": "scatterpolar"
           }
          ],
          "scatterpolargl": [
           {
            "marker": {
             "colorbar": {
              "outlinewidth": 0,
              "ticks": ""
             }
            },
            "type": "scatterpolargl"
           }
          ],
          "scatterternary": [
           {
            "marker": {
             "colorbar": {
              "outlinewidth": 0,
              "ticks": ""
             }
            },
            "type": "scatterternary"
           }
          ],
          "surface": [
           {
            "colorbar": {
             "outlinewidth": 0,
             "ticks": ""
            },
            "colorscale": [
             [
              0,
              "#0d0887"
             ],
             [
              0.1111111111111111,
              "#46039f"
             ],
             [
              0.2222222222222222,
              "#7201a8"
             ],
             [
              0.3333333333333333,
              "#9c179e"
             ],
             [
              0.4444444444444444,
              "#bd3786"
             ],
             [
              0.5555555555555556,
              "#d8576b"
             ],
             [
              0.6666666666666666,
              "#ed7953"
             ],
             [
              0.7777777777777778,
              "#fb9f3a"
             ],
             [
              0.8888888888888888,
              "#fdca26"
             ],
             [
              1,
              "#f0f921"
             ]
            ],
            "type": "surface"
           }
          ],
          "table": [
           {
            "cells": {
             "fill": {
              "color": "#EBF0F8"
             },
             "line": {
              "color": "white"
             }
            },
            "header": {
             "fill": {
              "color": "#C8D4E3"
             },
             "line": {
              "color": "white"
             }
            },
            "type": "table"
           }
          ]
         },
         "layout": {
          "annotationdefaults": {
           "arrowcolor": "#2a3f5f",
           "arrowhead": 0,
           "arrowwidth": 1
          },
          "autotypenumbers": "strict",
          "coloraxis": {
           "colorbar": {
            "outlinewidth": 0,
            "ticks": ""
           }
          },
          "colorscale": {
           "diverging": [
            [
             0,
             "#8e0152"
            ],
            [
             0.1,
             "#c51b7d"
            ],
            [
             0.2,
             "#de77ae"
            ],
            [
             0.3,
             "#f1b6da"
            ],
            [
             0.4,
             "#fde0ef"
            ],
            [
             0.5,
             "#f7f7f7"
            ],
            [
             0.6,
             "#e6f5d0"
            ],
            [
             0.7,
             "#b8e186"
            ],
            [
             0.8,
             "#7fbc41"
            ],
            [
             0.9,
             "#4d9221"
            ],
            [
             1,
             "#276419"
            ]
           ],
           "sequential": [
            [
             0,
             "#0d0887"
            ],
            [
             0.1111111111111111,
             "#46039f"
            ],
            [
             0.2222222222222222,
             "#7201a8"
            ],
            [
             0.3333333333333333,
             "#9c179e"
            ],
            [
             0.4444444444444444,
             "#bd3786"
            ],
            [
             0.5555555555555556,
             "#d8576b"
            ],
            [
             0.6666666666666666,
             "#ed7953"
            ],
            [
             0.7777777777777778,
             "#fb9f3a"
            ],
            [
             0.8888888888888888,
             "#fdca26"
            ],
            [
             1,
             "#f0f921"
            ]
           ],
           "sequentialminus": [
            [
             0,
             "#0d0887"
            ],
            [
             0.1111111111111111,
             "#46039f"
            ],
            [
             0.2222222222222222,
             "#7201a8"
            ],
            [
             0.3333333333333333,
             "#9c179e"
            ],
            [
             0.4444444444444444,
             "#bd3786"
            ],
            [
             0.5555555555555556,
             "#d8576b"
            ],
            [
             0.6666666666666666,
             "#ed7953"
            ],
            [
             0.7777777777777778,
             "#fb9f3a"
            ],
            [
             0.8888888888888888,
             "#fdca26"
            ],
            [
             1,
             "#f0f921"
            ]
           ]
          },
          "colorway": [
           "#636efa",
           "#EF553B",
           "#00cc96",
           "#ab63fa",
           "#FFA15A",
           "#19d3f3",
           "#FF6692",
           "#B6E880",
           "#FF97FF",
           "#FECB52"
          ],
          "font": {
           "color": "#2a3f5f"
          },
          "geo": {
           "bgcolor": "white",
           "lakecolor": "white",
           "landcolor": "#E5ECF6",
           "showlakes": true,
           "showland": true,
           "subunitcolor": "white"
          },
          "hoverlabel": {
           "align": "left"
          },
          "hovermode": "closest",
          "mapbox": {
           "style": "light"
          },
          "paper_bgcolor": "white",
          "plot_bgcolor": "#E5ECF6",
          "polar": {
           "angularaxis": {
            "gridcolor": "white",
            "linecolor": "white",
            "ticks": ""
           },
           "bgcolor": "#E5ECF6",
           "radialaxis": {
            "gridcolor": "white",
            "linecolor": "white",
            "ticks": ""
           }
          },
          "scene": {
           "xaxis": {
            "backgroundcolor": "#E5ECF6",
            "gridcolor": "white",
            "gridwidth": 2,
            "linecolor": "white",
            "showbackground": true,
            "ticks": "",
            "zerolinecolor": "white"
           },
           "yaxis": {
            "backgroundcolor": "#E5ECF6",
            "gridcolor": "white",
            "gridwidth": 2,
            "linecolor": "white",
            "showbackground": true,
            "ticks": "",
            "zerolinecolor": "white"
           },
           "zaxis": {
            "backgroundcolor": "#E5ECF6",
            "gridcolor": "white",
            "gridwidth": 2,
            "linecolor": "white",
            "showbackground": true,
            "ticks": "",
            "zerolinecolor": "white"
           }
          },
          "shapedefaults": {
           "line": {
            "color": "#2a3f5f"
           }
          },
          "ternary": {
           "aaxis": {
            "gridcolor": "white",
            "linecolor": "white",
            "ticks": ""
           },
           "baxis": {
            "gridcolor": "white",
            "linecolor": "white",
            "ticks": ""
           },
           "bgcolor": "#E5ECF6",
           "caxis": {
            "gridcolor": "white",
            "linecolor": "white",
            "ticks": ""
           }
          },
          "title": {
           "x": 0.05
          },
          "xaxis": {
           "automargin": true,
           "gridcolor": "white",
           "linecolor": "white",
           "ticks": "",
           "title": {
            "standoff": 15
           },
           "zerolinecolor": "white",
           "zerolinewidth": 2
          },
          "yaxis": {
           "automargin": true,
           "gridcolor": "white",
           "linecolor": "white",
           "ticks": "",
           "title": {
            "standoff": 15
           },
           "zerolinecolor": "white",
           "zerolinewidth": 2
          }
         }
        }
       }
      }
     },
     "metadata": {},
     "output_type": "display_data"
    }
   ],
   "source": [
    "\n",
    "import plotly.express as px\n",
    "\n",
    "fig = px.scatter_geo(reg_dpto,\n",
    "                     lon=\"Longitude\",\n",
    "                     lat=\"Latitude\",\n",
    "                     color=\"count\",\n",
    "                     hover_name='Department',\n",
    "                     projection=\"natural earth\")\n",
    "\n",
    "fig.update_geos(showcountries=True, showcoastlines=True,\n",
    "                showland=True, fitbounds=\"locations\")\n",
    "\n",
    "fig.show()"
   ]
  }
 ],
 "metadata": {
  "kernelspec": {
   "display_name": "Python 3",
   "language": "python",
   "name": "python3"
  },
  "language_info": {
   "codemirror_mode": {
    "name": "ipython",
    "version": 3
   },
   "file_extension": ".py",
   "mimetype": "text/x-python",
   "name": "python",
   "nbconvert_exporter": "python",
   "pygments_lexer": "ipython3",
   "version": "3.11.4"
  }
 },
 "nbformat": 4,
 "nbformat_minor": 2
}
