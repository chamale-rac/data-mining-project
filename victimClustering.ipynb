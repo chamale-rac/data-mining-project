{
 "cells": [
  {
   "cell_type": "markdown",
   "metadata": {},
   "source": [
    "# Liberías"
   ]
  },
  {
   "cell_type": "code",
   "execution_count": 2,
   "metadata": {},
   "outputs": [],
   "source": [
    "import pandas as pd\n",
    "from sklearn.preprocessing import StandardScaler, OneHotEncoder\n",
    "from sklearn.compose import ColumnTransformer\n",
    "from sklearn.cluster import KMeans\n",
    "import matplotlib.pyplot as plt\n",
    "from sklearn.decomposition import TruncatedSVD\n",
    "import plotly.express as px\n",
    "from kneed import KneeLocator\n",
    "from sklearn.metrics import silhouette_score"
   ]
  },
  {
   "cell_type": "markdown",
   "metadata": {},
   "source": [
    "# Carga de datos"
   ]
  },
  {
   "cell_type": "code",
   "execution_count": 35,
   "metadata": {},
   "outputs": [
    {
     "data": {
      "text/html": [
       "<div>\n",
       "<style scoped>\n",
       "    .dataframe tbody tr th:only-of-type {\n",
       "        vertical-align: middle;\n",
       "    }\n",
       "\n",
       "    .dataframe tbody tr th {\n",
       "        vertical-align: top;\n",
       "    }\n",
       "\n",
       "    .dataframe thead th {\n",
       "        text-align: right;\n",
       "    }\n",
       "</style>\n",
       "<table border=\"1\" class=\"dataframe\">\n",
       "  <thead>\n",
       "    <tr style=\"text-align: right;\">\n",
       "      <th></th>\n",
       "      <th>ANO_EMISION</th>\n",
       "      <th>MES_EMISION</th>\n",
       "      <th>DIA_EMISION</th>\n",
       "      <th>REG_MCPIO</th>\n",
       "      <th>QUIEN_REPORTA</th>\n",
       "      <th>VIC_SEXO</th>\n",
       "      <th>VIC_EDAD</th>\n",
       "      <th>TOTAL_HIJOS</th>\n",
       "      <th>NUM_HIJ_HOM</th>\n",
       "      <th>NUM_HIJ_MUJ</th>\n",
       "      <th>...</th>\n",
       "      <th>AGR_OTROS_N_OS</th>\n",
       "      <th>AGR_OTRAS_N_AS</th>\n",
       "      <th>INST_DENUN_HECHO</th>\n",
       "      <th>LEY_APLICABLE</th>\n",
       "      <th>FECHA_EMISION</th>\n",
       "      <th>FECHA_HECHO</th>\n",
       "      <th>REG_DPTO</th>\n",
       "      <th>HEC_DPTO</th>\n",
       "      <th>MEDIDAS_SEGURIDAD</th>\n",
       "      <th>CONTEXTO_DE_VIC</th>\n",
       "    </tr>\n",
       "  </thead>\n",
       "  <tbody>\n",
       "    <tr>\n",
       "      <th>0</th>\n",
       "      <td>2013</td>\n",
       "      <td>1</td>\n",
       "      <td>22</td>\n",
       "      <td>guatemala</td>\n",
       "      <td>Víctima</td>\n",
       "      <td>Mujeres</td>\n",
       "      <td>38.0</td>\n",
       "      <td>2</td>\n",
       "      <td>1</td>\n",
       "      <td>1</td>\n",
       "      <td>...</td>\n",
       "      <td>0.0</td>\n",
       "      <td>0.0</td>\n",
       "      <td>Organismo Judicial</td>\n",
       "      <td>Ambas leyes (VIF y VCM)</td>\n",
       "      <td>2013-01-22</td>\n",
       "      <td>2013-01-19</td>\n",
       "      <td>guatemala</td>\n",
       "      <td>guatemala</td>\n",
       "      <td>Dto. 22-2008</td>\n",
       "      <td>2</td>\n",
       "    </tr>\n",
       "    <tr>\n",
       "      <th>1</th>\n",
       "      <td>2013</td>\n",
       "      <td>1</td>\n",
       "      <td>24</td>\n",
       "      <td>guatemala</td>\n",
       "      <td>Víctima</td>\n",
       "      <td>Mujeres</td>\n",
       "      <td>20.0</td>\n",
       "      <td>1</td>\n",
       "      <td>0</td>\n",
       "      <td>1</td>\n",
       "      <td>...</td>\n",
       "      <td>99.0</td>\n",
       "      <td>99.0</td>\n",
       "      <td>Ministerio Público</td>\n",
       "      <td>NaN</td>\n",
       "      <td>2013-01-24</td>\n",
       "      <td>2013-01-23</td>\n",
       "      <td>guatemala</td>\n",
       "      <td>guatemala</td>\n",
       "      <td>Dto. 22-2008</td>\n",
       "      <td>2</td>\n",
       "    </tr>\n",
       "    <tr>\n",
       "      <th>2</th>\n",
       "      <td>2013</td>\n",
       "      <td>1</td>\n",
       "      <td>21</td>\n",
       "      <td>guatemala</td>\n",
       "      <td>Víctima</td>\n",
       "      <td>Mujeres</td>\n",
       "      <td>21.0</td>\n",
       "      <td>2</td>\n",
       "      <td>1</td>\n",
       "      <td>1</td>\n",
       "      <td>...</td>\n",
       "      <td>99.0</td>\n",
       "      <td>99.0</td>\n",
       "      <td>Procuraduría de los Derechos Humanos</td>\n",
       "      <td>NaN</td>\n",
       "      <td>2013-01-21</td>\n",
       "      <td>2013-01-21</td>\n",
       "      <td>guatemala</td>\n",
       "      <td>guatemala</td>\n",
       "      <td>Dto. 22-2008</td>\n",
       "      <td>1</td>\n",
       "    </tr>\n",
       "    <tr>\n",
       "      <th>3</th>\n",
       "      <td>2013</td>\n",
       "      <td>1</td>\n",
       "      <td>2</td>\n",
       "      <td>guatemala</td>\n",
       "      <td>Víctima</td>\n",
       "      <td>Hombres</td>\n",
       "      <td>70.0</td>\n",
       "      <td>0</td>\n",
       "      <td>0</td>\n",
       "      <td>0</td>\n",
       "      <td>...</td>\n",
       "      <td>99.0</td>\n",
       "      <td>99.0</td>\n",
       "      <td>Procuraduría de los Derechos Humanos</td>\n",
       "      <td>NaN</td>\n",
       "      <td>2013-01-02</td>\n",
       "      <td>2013-01-02</td>\n",
       "      <td>guatemala</td>\n",
       "      <td>guatemala</td>\n",
       "      <td>Dto. 97-96</td>\n",
       "      <td>2</td>\n",
       "    </tr>\n",
       "    <tr>\n",
       "      <th>4</th>\n",
       "      <td>2013</td>\n",
       "      <td>1</td>\n",
       "      <td>10</td>\n",
       "      <td>guatemala</td>\n",
       "      <td>Víctima</td>\n",
       "      <td>Mujeres</td>\n",
       "      <td>36.0</td>\n",
       "      <td>99</td>\n",
       "      <td>99</td>\n",
       "      <td>99</td>\n",
       "      <td>...</td>\n",
       "      <td>99.0</td>\n",
       "      <td>99.0</td>\n",
       "      <td>Procuraduría de los Derechos Humanos</td>\n",
       "      <td>NaN</td>\n",
       "      <td>2013-01-10</td>\n",
       "      <td>2013-01-10</td>\n",
       "      <td>guatemala</td>\n",
       "      <td>guatemala</td>\n",
       "      <td>Dto. 22-2008</td>\n",
       "      <td>2</td>\n",
       "    </tr>\n",
       "  </tbody>\n",
       "</table>\n",
       "<p>5 rows × 53 columns</p>\n",
       "</div>"
      ],
      "text/plain": [
       "   ANO_EMISION  MES_EMISION  DIA_EMISION  REG_MCPIO QUIEN_REPORTA VIC_SEXO  \\\n",
       "0         2013            1           22  guatemala       Víctima  Mujeres   \n",
       "1         2013            1           24  guatemala       Víctima  Mujeres   \n",
       "2         2013            1           21  guatemala       Víctima  Mujeres   \n",
       "3         2013            1            2  guatemala       Víctima  Hombres   \n",
       "4         2013            1           10  guatemala       Víctima  Mujeres   \n",
       "\n",
       "   VIC_EDAD  TOTAL_HIJOS  NUM_HIJ_HOM  NUM_HIJ_MUJ  ... AGR_OTROS_N_OS  \\\n",
       "0      38.0            2            1            1  ...            0.0   \n",
       "1      20.0            1            0            1  ...           99.0   \n",
       "2      21.0            2            1            1  ...           99.0   \n",
       "3      70.0            0            0            0  ...           99.0   \n",
       "4      36.0           99           99           99  ...           99.0   \n",
       "\n",
       "   AGR_OTRAS_N_AS                      INST_DENUN_HECHO  \\\n",
       "0             0.0                    Organismo Judicial   \n",
       "1            99.0                    Ministerio Público   \n",
       "2            99.0  Procuraduría de los Derechos Humanos   \n",
       "3            99.0  Procuraduría de los Derechos Humanos   \n",
       "4            99.0  Procuraduría de los Derechos Humanos   \n",
       "\n",
       "             LEY_APLICABLE FECHA_EMISION FECHA_HECHO   REG_DPTO   HEC_DPTO  \\\n",
       "0  Ambas leyes (VIF y VCM)    2013-01-22  2013-01-19  guatemala  guatemala   \n",
       "1                      NaN    2013-01-24  2013-01-23  guatemala  guatemala   \n",
       "2                      NaN    2013-01-21  2013-01-21  guatemala  guatemala   \n",
       "3                      NaN    2013-01-02  2013-01-02  guatemala  guatemala   \n",
       "4                      NaN    2013-01-10  2013-01-10  guatemala  guatemala   \n",
       "\n",
       "  MEDIDAS_SEGURIDAD  CONTEXTO_DE_VIC  \n",
       "0      Dto. 22-2008                2  \n",
       "1      Dto. 22-2008                2  \n",
       "2      Dto. 22-2008                1  \n",
       "3        Dto. 97-96                2  \n",
       "4      Dto. 22-2008                2  \n",
       "\n",
       "[5 rows x 53 columns]"
      ]
     },
     "execution_count": 35,
     "metadata": {},
     "output_type": "execute_result"
    }
   ],
   "source": [
    "archivo = \"data/gen/cleaned.csv\"\n",
    "df = pd.read_csv(archivo)\n",
    "df.head()"
   ]
  },
  {
   "cell_type": "markdown",
   "metadata": {},
   "source": [
    "# Variables de interés"
   ]
  },
  {
   "cell_type": "code",
   "execution_count": 36,
   "metadata": {},
   "outputs": [
    {
     "data": {
      "text/html": [
       "<div>\n",
       "<style scoped>\n",
       "    .dataframe tbody tr th:only-of-type {\n",
       "        vertical-align: middle;\n",
       "    }\n",
       "\n",
       "    .dataframe tbody tr th {\n",
       "        vertical-align: top;\n",
       "    }\n",
       "\n",
       "    .dataframe thead th {\n",
       "        text-align: right;\n",
       "    }\n",
       "</style>\n",
       "<table border=\"1\" class=\"dataframe\">\n",
       "  <thead>\n",
       "    <tr style=\"text-align: right;\">\n",
       "      <th></th>\n",
       "      <th>QUIEN_REPORTA</th>\n",
       "      <th>VIC_SEXO</th>\n",
       "      <th>VIC_EDAD</th>\n",
       "      <th>TOTAL_HIJOS</th>\n",
       "      <th>VIC_ALFAB</th>\n",
       "      <th>VIC_ESCOLARIDAD</th>\n",
       "      <th>VIC_EST_CIV</th>\n",
       "      <th>VIC_GRUPET</th>\n",
       "      <th>VIC_TRABAJA</th>\n",
       "      <th>VIC_DEDICA</th>\n",
       "      <th>VIC_DISC</th>\n",
       "    </tr>\n",
       "  </thead>\n",
       "  <tbody>\n",
       "    <tr>\n",
       "      <th>0</th>\n",
       "      <td>Víctima</td>\n",
       "      <td>Mujeres</td>\n",
       "      <td>38.0</td>\n",
       "      <td>2</td>\n",
       "      <td>Si</td>\n",
       "      <td>49.0</td>\n",
       "      <td>Casados(as)</td>\n",
       "      <td>Ladinos(as)</td>\n",
       "      <td>Si</td>\n",
       "      <td>Secretarios (general)</td>\n",
       "      <td>No</td>\n",
       "    </tr>\n",
       "    <tr>\n",
       "      <th>1</th>\n",
       "      <td>Víctima</td>\n",
       "      <td>Mujeres</td>\n",
       "      <td>20.0</td>\n",
       "      <td>1</td>\n",
       "      <td>Si</td>\n",
       "      <td>31.0</td>\n",
       "      <td>Unidos(as)</td>\n",
       "      <td>Ladinos(as)</td>\n",
       "      <td>Si</td>\n",
       "      <td>Asistentes de venta de tiendas y almacenes</td>\n",
       "      <td>No</td>\n",
       "    </tr>\n",
       "    <tr>\n",
       "      <th>2</th>\n",
       "      <td>Víctima</td>\n",
       "      <td>Mujeres</td>\n",
       "      <td>21.0</td>\n",
       "      <td>2</td>\n",
       "      <td>Si</td>\n",
       "      <td>29.0</td>\n",
       "      <td>Solteros(as)</td>\n",
       "      <td>Maya</td>\n",
       "      <td>No</td>\n",
       "      <td>Quehaceres del hogar</td>\n",
       "      <td>No</td>\n",
       "    </tr>\n",
       "    <tr>\n",
       "      <th>3</th>\n",
       "      <td>Víctima</td>\n",
       "      <td>Hombres</td>\n",
       "      <td>70.0</td>\n",
       "      <td>0</td>\n",
       "      <td>Si</td>\n",
       "      <td>49.0</td>\n",
       "      <td>Casados(as)</td>\n",
       "      <td>Ladinos(as)</td>\n",
       "      <td>No</td>\n",
       "      <td>Vive de sus renta o jubilación</td>\n",
       "      <td>No</td>\n",
       "    </tr>\n",
       "    <tr>\n",
       "      <th>4</th>\n",
       "      <td>Víctima</td>\n",
       "      <td>Mujeres</td>\n",
       "      <td>36.0</td>\n",
       "      <td>99</td>\n",
       "      <td>Si</td>\n",
       "      <td>59.0</td>\n",
       "      <td>Casados(as)</td>\n",
       "      <td>Ladinos(as)</td>\n",
       "      <td>Si</td>\n",
       "      <td>Directores generales y gerentes generales</td>\n",
       "      <td>No</td>\n",
       "    </tr>\n",
       "  </tbody>\n",
       "</table>\n",
       "</div>"
      ],
      "text/plain": [
       "  QUIEN_REPORTA VIC_SEXO  VIC_EDAD  TOTAL_HIJOS VIC_ALFAB  VIC_ESCOLARIDAD  \\\n",
       "0       Víctima  Mujeres      38.0            2        Si             49.0   \n",
       "1       Víctima  Mujeres      20.0            1        Si             31.0   \n",
       "2       Víctima  Mujeres      21.0            2        Si             29.0   \n",
       "3       Víctima  Hombres      70.0            0        Si             49.0   \n",
       "4       Víctima  Mujeres      36.0           99        Si             59.0   \n",
       "\n",
       "    VIC_EST_CIV   VIC_GRUPET VIC_TRABAJA  \\\n",
       "0   Casados(as)  Ladinos(as)          Si   \n",
       "1    Unidos(as)  Ladinos(as)          Si   \n",
       "2  Solteros(as)         Maya          No   \n",
       "3   Casados(as)  Ladinos(as)          No   \n",
       "4   Casados(as)  Ladinos(as)          Si   \n",
       "\n",
       "                                   VIC_DEDICA VIC_DISC  \n",
       "0                       Secretarios (general)       No  \n",
       "1  Asistentes de venta de tiendas y almacenes       No  \n",
       "2                        Quehaceres del hogar       No  \n",
       "3              Vive de sus renta o jubilación       No  \n",
       "4   Directores generales y gerentes generales       No  "
      ]
     },
     "execution_count": 36,
     "metadata": {},
     "output_type": "execute_result"
    }
   ],
   "source": [
    "victimaDf = df[[\"QUIEN_REPORTA\",\"VIC_SEXO\", \"VIC_EDAD\", \"TOTAL_HIJOS\", \"VIC_ALFAB\", \"VIC_ESCOLARIDAD\", \"VIC_EST_CIV\", \"VIC_GRUPET\", \"VIC_TRABAJA\", \"VIC_DEDICA\" ,\"VIC_DISC\"]]\n",
    "victimaDf.head()"
   ]
  },
  {
   "cell_type": "markdown",
   "metadata": {},
   "source": [
    "# Preprocesamiento"
   ]
  },
  {
   "cell_type": "code",
   "execution_count": 37,
   "metadata": {},
   "outputs": [],
   "source": [
    "categorical_features = victimaDf.select_dtypes(exclude=['number']).columns\n",
    "numeric_features = victimaDf.select_dtypes(include=['number']).columns\n",
    "\n",
    "preprocessor = ColumnTransformer(\n",
    "    transformers=[\n",
    "        ('num', StandardScaler(), numeric_features),\n",
    "        ('cat', OneHotEncoder(), categorical_features)\n",
    "    ])\n",
    "\n",
    "victima_preprocessed = preprocessor.fit_transform(victimaDf)"
   ]
  },
  {
   "cell_type": "markdown",
   "metadata": {},
   "source": [
    "# Clustering"
   ]
  },
  {
   "cell_type": "code",
   "execution_count": 38,
   "metadata": {},
   "outputs": [
    {
     "name": "stderr",
     "output_type": "stream",
     "text": [
      "/var/folders/2s/j3vn9g1d48b630yqb51x1d740000gn/T/ipykernel_8321/4001160999.py:8: SettingWithCopyWarning:\n",
      "\n",
      "\n",
      "A value is trying to be set on a copy of a slice from a DataFrame.\n",
      "Try using .loc[row_indexer,col_indexer] = value instead\n",
      "\n",
      "See the caveats in the documentation: https://pandas.pydata.org/pandas-docs/stable/user_guide/indexing.html#returning-a-view-versus-a-copy\n",
      "\n"
     ]
    }
   ],
   "source": [
    "# Definir número de clústeres aleatorio (k)\n",
    "k = 4\n",
    "\n",
    "kmeans = KMeans(n_clusters=k, random_state=42)\n",
    "kmeans.fit(victima_preprocessed)\n",
    "clusters = kmeans.labels_\n",
    "\n",
    "victimaDf['cluster'] = clusters"
   ]
  },
  {
   "cell_type": "markdown",
   "metadata": {},
   "source": [
    "# Visualización con PCA"
   ]
  },
  {
   "cell_type": "code",
   "execution_count": 39,
   "metadata": {},
   "outputs": [
    {
     "data": {
      "image/png": "[encoded data removed]",
      "text/plain": [
       "<Figure size 800x600 with 2 Axes>"
      ]
     },
     "metadata": {},
     "output_type": "display_data"
    }
   ],
   "source": [
    "svd = TruncatedSVD(n_components=2)\n",
    "victima_2d = svd.fit_transform(victima_preprocessed)\n",
    "\n",
    "pca_df = pd.DataFrame(data=victima_2d, columns=['SVD1', 'SVD2'])\n",
    "pca_df['cluster'] = clusters\n",
    "\n",
    "plt.figure(figsize=(8, 6))\n",
    "plt.scatter(pca_df['SVD1'], pca_df['SVD2'], c=pca_df['cluster'], cmap='viridis')\n",
    "plt.xlabel('SVD1')\n",
    "plt.ylabel('SVD2')\n",
    "plt.title('Clústeres de Víctimas')\n",
    "plt.colorbar()\n",
    "plt.show()"
   ]
  },
  {
   "cell_type": "markdown",
   "metadata": {},
   "source": [
    "# Búsqueda del número óptimo de clusters"
   ]
  },
  {
   "cell_type": "markdown",
   "metadata": {},
   "source": [
    "## Método del codo"
   ]
  },
  {
   "cell_type": "code",
   "execution_count": 40,
   "metadata": {},
   "outputs": [
    {
     "data": {
      "application/vnd.plotly.v1+json": {
       "config": {
        "plotlyServerURL": "https://plot.ly"
       },
       "data": [
        {
         "hovertemplate": "K=%{x}<br>WCSS=%{y}<extra></extra>",
         "legendgroup": "",
         "line": {
          "color": "#636efa",
          "dash": "solid"
         },
         "marker": {
          "symbol": "circle"
         },
         "mode": "lines",
         "name": "",
         "orientation": "v",
         "showlegend": false,
         "type": "scatter",
         "x": [
          1,
          2,
          3,
          4,
          5,
          6,
          7,
          8,
          9,
          10
         ],
         "xaxis": "x",
         "y": [
          1917753.9647255356,
          1538748.7122567361,
          1284438.65740331,
          1126827.9894518692,
          1023184.3261273867,
          961557.9185372123,
          913460.899383081,
          879723.6619282869,
          851099.0287007823,
          818473.2763688345
         ],
         "yaxis": "y"
        }
       ],
       "layout": {
        "legend": {
         "tracegroupgap": 0
        },
        "margin": {
         "t": 60
        },
        "template": {
         "data": {
          "bar": [
           {
            "error_x": {
             "color": "#2a3f5f"
            },
            "error_y": {
             "color": "#2a3f5f"
            },
            "marker": {
             "line": {
              "color": "#E5ECF6",
              "width": 0.5
             },
             "pattern": {
              "fillmode": "overlay",
              "size": 10,
              "solidity": 0.2
             }
            },
            "type": "bar"
           }
          ],
          "barpolar": [
           {
            "marker": {
             "line": {
              "color": "#E5ECF6",
              "width": 0.5
             },
             "pattern": {
              "fillmode": "overlay",
              "size": 10,
              "solidity": 0.2
             }
            },
            "type": "barpolar"
           }
          ],
          "carpet": [
           {
            "aaxis": {
             "endlinecolor": "#2a3f5f",
             "gridcolor": "white",
             "linecolor": "white",
             "minorgridcolor": "white",
             "startlinecolor": "#2a3f5f"
            },
            "baxis": {
             "endlinecolor": "#2a3f5f",
             "gridcolor": "white",
             "linecolor": "white",
             "minorgridcolor": "white",
             "startlinecolor": "#2a3f5f"
            },
            "type": "carpet"
           }
          ],
          "choropleth": [
           {
            "colorbar": {
             "outlinewidth": 0,
             "ticks": ""
            },
            "type": "choropleth"
           }
          ],
          "contour": [
           {
            "colorbar": {
             "outlinewidth": 0,
             "ticks": ""
            },
            "colorscale": [
             [
              0,
              "#0d0887"
             ],
             [
              0.1111111111111111,
              "#46039f"
             ],
             [
              0.2222222222222222,
              "#7201a8"
             ],
             [
              0.3333333333333333,
              "#9c179e"
             ],
             [
              0.4444444444444444,
              "#bd3786"
             ],
             [
              0.5555555555555556,
              "#d8576b"
             ],
             [
              0.6666666666666666,
              "#ed7953"
             ],
             [
              0.7777777777777778,
              "#fb9f3a"
             ],
             [
              0.8888888888888888,
              "#fdca26"
             ],
             [
              1,
              "#f0f921"
             ]
            ],
            "type": "contour"
           }
          ],
          "contourcarpet": [
           {
            "colorbar": {
             "outlinewidth": 0,
             "ticks": ""
            },
            "type": "contourcarpet"
           }
          ],
          "heatmap": [
           {
            "colorbar": {
             "outlinewidth": 0,
             "ticks": ""
            },
            "colorscale": [
             [
              0,
              "#0d0887"
             ],
             [
              0.1111111111111111,
              "#46039f"
             ],
             [
              0.2222222222222222,
              "#7201a8"
             ],
             [
              0.3333333333333333,
              "#9c179e"
             ],
             [
              0.4444444444444444,
              "#bd3786"
             ],
             [
              0.5555555555555556,
              "#d8576b"
             ],
             [
              0.6666666666666666,
              "#ed7953"
             ],
             [
              0.7777777777777778,
              "#fb9f3a"
             ],
             [
              0.8888888888888888,
              "#fdca26"
             ],
             [
              1,
              "#f0f921"
             ]
            ],
            "type": "heatmap"
           }
          ],
          "heatmapgl": [
           {
            "colorbar": {
             "outlinewidth": 0,
             "ticks": ""
            },
            "colorscale": [
             [
              0,
              "#0d0887"
             ],
             [
              0.1111111111111111,
              "#46039f"
             ],
             [
              0.2222222222222222,
              "#7201a8"
             ],
             [
              0.3333333333333333,
              "#9c179e"
             ],
             [
              0.4444444444444444,
              "#bd3786"
             ],
             [
              0.5555555555555556,
              "#d8576b"
             ],
             [
              0.6666666666666666,
              "#ed7953"
             ],
             [
              0.7777777777777778,
              "#fb9f3a"
             ],
             [
              0.8888888888888888,
              "#fdca26"
             ],
             [
              1,
              "#f0f921"
             ]
            ],
            "type": "heatmapgl"
           }
          ],
          "histogram": [
           {
            "marker": {
             "pattern": {
              "fillmode": "overlay",
              "size": 10,
              "solidity": 0.2
             }
            },
            "type": "histogram"
           }
          ],
          "histogram2d": [
           {
            "colorbar": {
             "outlinewidth": 0,
             "ticks": ""
            },
            "colorscale": [
             [
              0,
              "#0d0887"
             ],
             [
              0.1111111111111111,
              "#46039f"
             ],
             [
              0.2222222222222222,
              "#7201a8"
             ],
             [
              0.3333333333333333,
              "#9c179e"
             ],
             [
              0.4444444444444444,
              "#bd3786"
             ],
             [
              0.5555555555555556,
              "#d8576b"
             ],
             [
              0.6666666666666666,
              "#ed7953"
             ],
             [
              0.7777777777777778,
              "#fb9f3a"
             ],
             [
              0.8888888888888888,
              "#fdca26"
             ],
             [
              1,
              "#f0f921"
             ]
            ],
            "type": "histogram2d"
           }
          ],
          "histogram2dcontour": [
           {
            "colorbar": {
             "outlinewidth": 0,
             "ticks": ""
            },
            "colorscale": [
             [
              0,
              "#0d0887"
             ],
             [
              0.1111111111111111,
              "#46039f"
             ],
             [
              0.2222222222222222,
              "#7201a8"
             ],
             [
              0.3333333333333333,
              "#9c179e"
             ],
             [
              0.4444444444444444,
              "#bd3786"
             ],
             [
              0.5555555555555556,
              "#d8576b"
             ],
             [
              0.6666666666666666,
              "#ed7953"
             ],
             [
              0.7777777777777778,
              "#fb9f3a"
             ],
             [
              0.8888888888888888,
              "#fdca26"
             ],
             [
              1,
              "#f0f921"
             ]
            ],
            "type": "histogram2dcontour"
           }
          ],
          "mesh3d": [
           {
            "colorbar": {
             "outlinewidth": 0,
             "ticks": ""
            },
            "type": "mesh3d"
           }
          ],
          "parcoords": [
           {
            "line": {
             "colorbar": {
              "outlinewidth": 0,
              "ticks": ""
             }
            },
            "type": "parcoords"
           }
          ],
          "pie": [
           {
            "automargin": true,
            "type": "pie"
           }
          ],
          "scatter": [
           {
            "fillpattern": {
             "fillmode": "overlay",
             "size": 10,
             "solidity": 0.2
            },
            "type": "scatter"
           }
          ],
          "scatter3d": [
           {
            "line": {
             "colorbar": {
              "outlinewidth": 0,
              "ticks": ""
             }
            },
            "marker": {
             "colorbar": {
              "outlinewidth": 0,
              "ticks": ""
             }
            },
            "type": "scatter3d"
           }
          ],
          "scattercarpet": [
           {
            "marker": {
             "colorbar": {
              "outlinewidth": 0,
              "ticks": ""
             }
            },
            "type": "scattercarpet"
           }
          ],
          "scattergeo": [
           {
            "marker": {
             "colorbar": {
              "outlinewidth": 0,
              "ticks": ""
             }
            },
            "type": "scattergeo"
           }
          ],
          "scattergl": [
           {
            "marker": {
             "colorbar": {
              "outlinewidth": 0,
              "ticks": ""
             }
            },
            "type": "scattergl"
           }
          ],
          "scattermapbox": [
           {
            "marker": {
             "colorbar": {
              "outlinewidth": 0,
              "ticks": ""
             }
            },
            "type": "scattermapbox"
           }
          ],
          "scatterpolar": [
           {
            "marker": {
             "colorbar": {
              "outlinewidth": 0,
              "ticks": ""
             }
            },
            "type": "scatterpolar"
           }
          ],
          "scatterpolargl": [
           {
            "marker": {
             "colorbar": {
              "outlinewidth": 0,
              "ticks": ""
             }
            },
            "type": "scatterpolargl"
           }
          ],
          "scatterternary": [
           {
            "marker": {
             "colorbar": {
              "outlinewidth": 0,
              "ticks": ""
             }
            },
            "type": "scatterternary"
           }
          ],
          "surface": [
           {
            "colorbar": {
             "outlinewidth": 0,
             "ticks": ""
            },
            "colorscale": [
             [
              0,
              "#0d0887"
             ],
             [
              0.1111111111111111,
              "#46039f"
             ],
             [
              0.2222222222222222,
              "#7201a8"
             ],
             [
              0.3333333333333333,
              "#9c179e"
             ],
             [
              0.4444444444444444,
              "#bd3786"
             ],
             [
              0.5555555555555556,
              "#d8576b"
             ],
             [
              0.6666666666666666,
              "#ed7953"
             ],
             [
              0.7777777777777778,
              "#fb9f3a"
             ],
             [
              0.8888888888888888,
              "#fdca26"
             ],
             [
              1,
              "#f0f921"
             ]
            ],
            "type": "surface"
           }
          ],
          "table": [
           {
            "cells": {
             "fill": {
              "color": "#EBF0F8"
             },
             "line": {
              "color": "white"
             }
            },
            "header": {
             "fill": {
              "color": "#C8D4E3"
             },
             "line": {
              "color": "white"
             }
            },
            "type": "table"
           }
          ]
         },
         "layout": {
          "annotationdefaults": {
           "arrowcolor": "#2a3f5f",
           "arrowhead": 0,
           "arrowwidth": 1
          },
          "autotypenumbers": "strict",
          "coloraxis": {
           "colorbar": {
            "outlinewidth": 0,
            "ticks": ""
           }
          },
          "colorscale": {
           "diverging": [
            [
             0,
             "#8e0152"
            ],
            [
             0.1,
             "#c51b7d"
            ],
            [
             0.2,
             "#de77ae"
            ],
            [
             0.3,
             "#f1b6da"
            ],
            [
             0.4,
             "#fde0ef"
            ],
            [
             0.5,
             "#f7f7f7"
            ],
            [
             0.6,
             "#e6f5d0"
            ],
            [
             0.7,
             "#b8e186"
            ],
            [
             0.8,
             "#7fbc41"
            ],
            [
             0.9,
             "#4d9221"
            ],
            [
             1,
             "#276419"
            ]
           ],
           "sequential": [
            [
             0,
             "#0d0887"
            ],
            [
             0.1111111111111111,
             "#46039f"
            ],
            [
             0.2222222222222222,
             "#7201a8"
            ],
            [
             0.3333333333333333,
             "#9c179e"
            ],
            [
             0.4444444444444444,
             "#bd3786"
            ],
            [
             0.5555555555555556,
             "#d8576b"
            ],
            [
             0.6666666666666666,
             "#ed7953"
            ],
            [
             0.7777777777777778,
             "#fb9f3a"
            ],
            [
             0.8888888888888888,
             "#fdca26"
            ],
            [
             1,
             "#f0f921"
            ]
           ],
           "sequentialminus": [
            [
             0,
             "#0d0887"
            ],
            [
             0.1111111111111111,
             "#46039f"
            ],
            [
             0.2222222222222222,
             "#7201a8"
            ],
            [
             0.3333333333333333,
             "#9c179e"
            ],
            [
             0.4444444444444444,
             "#bd3786"
            ],
            [
             0.5555555555555556,
             "#d8576b"
            ],
            [
             0.6666666666666666,
             "#ed7953"
            ],
            [
             0.7777777777777778,
             "#fb9f3a"
            ],
            [
             0.8888888888888888,
             "#fdca26"
            ],
            [
             1,
             "#f0f921"
            ]
           ]
          },
          "colorway": [
           "#636efa",
           "#EF553B",
           "#00cc96",
           "#ab63fa",
           "#FFA15A",
           "#19d3f3",
           "#FF6692",
           "#B6E880",
           "#FF97FF",
           "#FECB52"
          ],
          "font": {
           "color": "#2a3f5f"
          },
          "geo": {
           "bgcolor": "white",
           "lakecolor": "white",
           "landcolor": "#E5ECF6",
           "showlakes": true,
           "showland": true,
           "subunitcolor": "white"
          },
          "hoverlabel": {
           "align": "left"
          },
          "hovermode": "closest",
          "mapbox": {
           "style": "light"
          },
          "paper_bgcolor": "white",
          "plot_bgcolor": "#E5ECF6",
          "polar": {
           "angularaxis": {
            "gridcolor": "white",
            "linecolor": "white",
            "ticks": ""
           },
           "bgcolor": "#E5ECF6",
           "radialaxis": {
            "gridcolor": "white",
            "linecolor": "white",
            "ticks": ""
           }
          },
          "scene": {
           "xaxis": {
            "backgroundcolor": "#E5ECF6",
            "gridcolor": "white",
            "gridwidth": 2,
            "linecolor": "white",
            "showbackground": true,
            "ticks": "",
            "zerolinecolor": "white"
           },
           "yaxis": {
            "backgroundcolor": "#E5ECF6",
            "gridcolor": "white",
            "gridwidth": 2,
            "linecolor": "white",
            "showbackground": true,
            "ticks": "",
            "zerolinecolor": "white"
           },
           "zaxis": {
            "backgroundcolor": "#E5ECF6",
            "gridcolor": "white",
            "gridwidth": 2,
            "linecolor": "white",
            "showbackground": true,
            "ticks": "",
            "zerolinecolor": "white"
           }
          },
          "shapedefaults": {
           "line": {
            "color": "#2a3f5f"
           }
          },
          "ternary": {
           "aaxis": {
            "gridcolor": "white",
            "linecolor": "white",
            "ticks": ""
           },
           "baxis": {
            "gridcolor": "white",
            "linecolor": "white",
            "ticks": ""
           },
           "bgcolor": "#E5ECF6",
           "caxis": {
            "gridcolor": "white",
            "linecolor": "white",
            "ticks": ""
           }
          },
          "title": {
           "x": 0.05
          },
          "xaxis": {
           "automargin": true,
           "gridcolor": "white",
           "linecolor": "white",
           "ticks": "",
           "title": {
            "standoff": 15
           },
           "zerolinecolor": "white",
           "zerolinewidth": 2
          },
          "yaxis": {
           "automargin": true,
           "gridcolor": "white",
           "linecolor": "white",
           "ticks": "",
           "title": {
            "standoff": 15
           },
           "zerolinecolor": "white",
           "zerolinewidth": 2
          }
         }
        },
        "xaxis": {
         "anchor": "y",
         "domain": [
          0,
          1
         ],
         "title": {
          "text": "K"
         }
        },
        "yaxis": {
         "anchor": "x",
         "domain": [
          0,
          1
         ],
         "title": {
          "text": "WCSS"
         }
        }
       }
      }
     },
     "metadata": {},
     "output_type": "display_data"
    },
    {
     "name": "stdout",
     "output_type": "stream",
     "text": [
      "\n",
      " La cantidad de clusteres debe ser 4\n"
     ]
    }
   ],
   "source": [
    "kmeans_kwargs = {\n",
    "    \"init\": \"random\",\n",
    "    \"n_init\": 10,\n",
    "    \"max_iter\": 300,\n",
    "    \"random_state\": 42,\n",
    "}\n",
    "\n",
    "wcss = []\n",
    "for k in range(1,11):\n",
    "  kmeans = KMeans(n_clusters=k, **kmeans_kwargs)\n",
    "  kmeans.fit(victima_preprocessed)\n",
    "  wcss.append(kmeans.inertia_)\n",
    "\n",
    "datos_WCSS = pd.DataFrame(range(1, 11), columns = [\"K\"])\n",
    "datos_WCSS[\"WCSS\"] = wcss\n",
    "\n",
    "fig = px.line(datos_WCSS, x = \"K\", y = \"WCSS\")\n",
    "fig.show()\n",
    "\n",
    "localizador_codo = KneeLocator(range(1, 11), wcss, curve = 'convex', direction = \"decreasing\")\n",
    "print(f\"\\n La cantidad de clusteres debe ser {localizador_codo.elbow}\")"
   ]
  },
  {
   "cell_type": "markdown",
   "metadata": {},
   "source": [
    "# Aplicación de número óptimo de clusters"
   ]
  },
  {
   "cell_type": "markdown",
   "metadata": {},
   "source": [
    "# Clustering"
   ]
  },
  {
   "cell_type": "code",
   "execution_count": 41,
   "metadata": {},
   "outputs": [
    {
     "name": "stderr",
     "output_type": "stream",
     "text": [
      "/var/folders/2s/j3vn9g1d48b630yqb51x1d740000gn/T/ipykernel_8321/2781379950.py:8: SettingWithCopyWarning:\n",
      "\n",
      "\n",
      "A value is trying to be set on a copy of a slice from a DataFrame.\n",
      "Try using .loc[row_indexer,col_indexer] = value instead\n",
      "\n",
      "See the caveats in the documentation: https://pandas.pydata.org/pandas-docs/stable/user_guide/indexing.html#returning-a-view-versus-a-copy\n",
      "\n"
     ]
    }
   ],
   "source": [
    "# Definir número de clústeres (k)\n",
    "k = 4\n",
    "\n",
    "kmeans = KMeans(n_clusters=k, random_state=42)\n",
    "kmeans.fit(victima_preprocessed)\n",
    "clusters = kmeans.labels_\n",
    "\n",
    "victimaDf['cluster'] = clusters\n",
    "df['CONTEXTO_DE_VIC'] = clusters"
   ]
  },
  {
   "cell_type": "markdown",
   "metadata": {},
   "source": [
    "# Visualización con PCA"
   ]
  },
  {
   "cell_type": "code",
   "execution_count": 42,
   "metadata": {},
   "outputs": [
    {
     "data": {
      "image/png": "[encoded data removed]",
      "text/plain": [
       "<Figure size 800x600 with 2 Axes>"
      ]
     },
     "metadata": {},
     "output_type": "display_data"
    }
   ],
   "source": [
    "svd = TruncatedSVD(n_components=2)\n",
    "victima_2d = svd.fit_transform(victima_preprocessed)\n",
    "\n",
    "pca_df = pd.DataFrame(data=victima_2d, columns=['SVD1', 'SVD2'])\n",
    "pca_df['cluster'] = clusters\n",
    "\n",
    "plt.figure(figsize=(8, 6))\n",
    "plt.scatter(pca_df['SVD1'], pca_df['SVD2'], c=pca_df['cluster'], cmap='viridis')\n",
    "plt.xlabel('SVD1')\n",
    "plt.ylabel('SVD2')\n",
    "plt.title('Clústeres de Víctimas')\n",
    "plt.colorbar()\n",
    "plt.show()"
   ]
  },
  {
   "cell_type": "markdown",
   "metadata": {},
   "source": [
    "# Análisis de los clusters"
   ]
  },
  {
   "cell_type": "code",
   "execution_count": 43,
   "metadata": {},
   "outputs": [],
   "source": [
    "columnas = [\"QUIEN_REPORTA\",\"VIC_SEXO\", \"VIC_EDAD\", \"TOTAL_HIJOS\", \"VIC_ALFAB\", \"VIC_ESCOLARIDAD\", \"VIC_EST_CIV\", \"VIC_GRUPET\", \"VIC_TRABAJA\", \"VIC_DEDICA\" ,\"VIC_DISC\"]"
   ]
  },
  {
   "cell_type": "markdown",
   "metadata": {},
   "source": [
    "## Cluster 0"
   ]
  },
  {
   "cell_type": "code",
   "execution_count": 44,
   "metadata": {},
   "outputs": [],
   "source": [
    "cluster_0 = victimaDf[victimaDf['cluster'] == 0]"
   ]
  },
  {
   "cell_type": "code",
   "execution_count": 45,
   "metadata": {},
   "outputs": [
    {
     "name": "stdout",
     "output_type": "stream",
     "text": [
      "QUIEN_REPORTA\n",
      "Víctima                   60111\n",
      "Familiar de la víctima     1211\n",
      "Ignorado                    765\n",
      "Otro                        339\n",
      "Name: count, dtype: int64\n",
      "\n",
      "\n",
      "VIC_SEXO\n",
      "Mujeres    58311\n",
      "Hombres     4115\n",
      "Name: count, dtype: int64\n",
      "\n",
      "\n",
      "VIC_EDAD\n",
      "30.0    2295\n",
      "35.0    2116\n",
      "32.0    2058\n",
      "40.0    2016\n",
      "28.0    1960\n",
      "        ... \n",
      "74.0      65\n",
      "13.0      53\n",
      "12.0      36\n",
      "76.0      10\n",
      "77.0       2\n",
      "Name: count, Length: 66, dtype: int64\n",
      "\n",
      "\n",
      "TOTAL_HIJOS\n",
      "99    11693\n",
      "2     10010\n",
      "1      9942\n",
      "3      8631\n",
      "0      6826\n",
      "4      5842\n",
      "5      3950\n",
      "6      2218\n",
      "7      1402\n",
      "8       871\n",
      "9       428\n",
      "10      319\n",
      "11      133\n",
      "12       94\n",
      "13       38\n",
      "14       12\n",
      "15       11\n",
      "16        4\n",
      "17        1\n",
      "19        1\n",
      "Name: count, dtype: int64\n",
      "\n",
      "\n",
      "VIC_ALFAB\n",
      "No          48803\n",
      "Si          12416\n",
      "Ignorado     1207\n",
      "Name: count, dtype: int64\n",
      "\n",
      "\n",
      "VIC_ESCOLARIDAD\n",
      "99.0    62426\n",
      "Name: count, dtype: int64\n",
      "\n",
      "\n",
      "VIC_EST_CIV\n",
      "Casados(as)     24420\n",
      "Unidos(as)      18588\n",
      "Ignorado         8841\n",
      "Solteros(as)     8196\n",
      "Otro             1715\n",
      "Viudos(as)        666\n",
      "Name: count, dtype: int64\n",
      "\n",
      "\n",
      "VIC_GRUPET\n",
      "Maya           31728\n",
      "Ladinos(as)    20043\n",
      "No indica       9209\n",
      "Ignorado         942\n",
      "Otro             300\n",
      "Xinca            143\n",
      "Garifuna          61\n",
      "Name: count, dtype: int64\n",
      "\n",
      "\n",
      "VIC_TRABAJA\n",
      "No          50628\n",
      "Si          11638\n",
      "Ignorado      160\n",
      "Name: count, dtype: int64\n",
      "\n",
      "\n",
      "VIC_DEDICA\n",
      "Quehaceres del hogar                                             49480\n",
      "Limpiadores y asistentes domésticos                               2517\n",
      "Peones de explotaciones agrícolas                                 2404\n",
      "Vendedores ambulantes (excluyendo de comida)                      1541\n",
      "Ignorado                                                           669\n",
      "                                                                 ...  \n",
      "Atletas y deportistas                                                1\n",
      "Reguladores y operadores de máquinas de labrar madera                1\n",
      "Chapistas y caldereros                                               1\n",
      "Profesionales en derecho no clasificados bajo otros epígrafes        1\n",
      "Secretarios administrativos y ejecutivos                             1\n",
      "Name: count, Length: 234, dtype: int64\n",
      "\n",
      "\n",
      "VIC_DISC\n",
      "No          59411\n",
      "Ignorado     2503\n",
      "Si            512\n",
      "Name: count, dtype: int64\n",
      "\n",
      "\n"
     ]
    }
   ],
   "source": [
    "for columna in columnas:\n",
    "    print(cluster_0[columna].value_counts())\n",
    "    print(\"\\n\")"
   ]
  },
  {
   "cell_type": "markdown",
   "metadata": {},
   "source": [
    "Mayoría víctimas mujeres, las edades se centralizan en los 30 años. Un número de hijos de 0-4. La mayoría son analfabetas. La mayoría no cuenta con estudios. Mayoría casadas o unidas. Grupo étnico Maya por mayoría. La mayoría no cuenta con un trabajo o se dedica a los quehaceres del hogar. Mayoría sin discapacidad.\n",
    "\n",
    "En resumen, podríamos decir que este grupo es de mujeres adultas jóvenes que pertenecen a comunidades mayas con familias pequeñas/medianas."
   ]
  },
  {
   "cell_type": "markdown",
   "metadata": {},
   "source": [
    "## Cluster 1"
   ]
  },
  {
   "cell_type": "code",
   "execution_count": 46,
   "metadata": {},
   "outputs": [],
   "source": [
    "cluster_1 = victimaDf[victimaDf['cluster'] == 1]"
   ]
  },
  {
   "cell_type": "code",
   "execution_count": 47,
   "metadata": {},
   "outputs": [
    {
     "name": "stdout",
     "output_type": "stream",
     "text": [
      "QUIEN_REPORTA\n",
      "Víctima                   141501\n",
      "Familiar de la víctima      2296\n",
      "Ignorado                    1478\n",
      "Otro                         839\n",
      "Name: count, dtype: int64\n",
      "\n",
      "\n",
      "VIC_SEXO\n",
      "Mujeres    144296\n",
      "Hombres      1818\n",
      "Name: count, dtype: int64\n",
      "\n",
      "\n",
      "VIC_EDAD\n",
      "23.0    7605\n",
      "22.0    7483\n",
      "25.0    7090\n",
      "24.0    6855\n",
      "21.0    6836\n",
      "20.0    6802\n",
      "26.0    6340\n",
      "30.0    6125\n",
      "28.0    6118\n",
      "27.0    6089\n",
      "19.0    5959\n",
      "29.0    5618\n",
      "18.0    5326\n",
      "32.0    4900\n",
      "33.0    4460\n",
      "31.0    4451\n",
      "35.0    4064\n",
      "34.0    3820\n",
      "17.0    3589\n",
      "38.0    3331\n",
      "36.0    3297\n",
      "37.0    3243\n",
      "40.0    2866\n",
      "39.0    2731\n",
      "42.0    2252\n",
      "16.0    2093\n",
      "41.0    1931\n",
      "43.0    1912\n",
      "45.0    1517\n",
      "44.0    1449\n",
      "15.0    1233\n",
      "46.0    1012\n",
      "47.0     967\n",
      "48.0     924\n",
      "14.0     793\n",
      "50.0     785\n",
      "49.0     730\n",
      "52.0     641\n",
      "51.0     524\n",
      "53.0     521\n",
      "13.0     470\n",
      "54.0     434\n",
      "55.0     340\n",
      "12.0     270\n",
      "56.0     212\n",
      "57.0      84\n",
      "58.0      22\n",
      "Name: count, dtype: int64\n",
      "\n",
      "\n",
      "TOTAL_HIJOS\n",
      "1     39443\n",
      "2     32658\n",
      "99    22886\n",
      "3     19145\n",
      "0     18393\n",
      "4      7715\n",
      "5      3259\n",
      "6      1309\n",
      "7       661\n",
      "8       328\n",
      "9       177\n",
      "10       70\n",
      "11       38\n",
      "12       23\n",
      "13        5\n",
      "14        3\n",
      "16        1\n",
      "Name: count, dtype: int64\n",
      "\n",
      "\n",
      "VIC_ALFAB\n",
      "Si    146114\n",
      "Name: count, dtype: int64\n",
      "\n",
      "\n",
      "VIC_ESCOLARIDAD\n",
      "26.0    31844\n",
      "29.0    25581\n",
      "33.0    15126\n",
      "39.0    10057\n",
      "49.0     9973\n",
      "23.0     9628\n",
      "46.0     8767\n",
      "22.0     6506\n",
      "24.0     5361\n",
      "25.0     4961\n",
      "32.0     4324\n",
      "45.0     3767\n",
      "31.0     2964\n",
      "21.0     2517\n",
      "44.0     2178\n",
      "59.0     1170\n",
      "53.0      293\n",
      "52.0      272\n",
      "55.0      270\n",
      "51.0      199\n",
      "54.0      182\n",
      "56.0      154\n",
      "57.0       20\n",
      "Name: count, dtype: int64\n",
      "\n",
      "\n",
      "VIC_EST_CIV\n",
      "Casados(as)     56288\n",
      "Unidos(as)      42108\n",
      "Ignorado        27424\n",
      "Solteros(as)    16367\n",
      "Otro             3654\n",
      "Viudos(as)        273\n",
      "Name: count, dtype: int64\n",
      "\n",
      "\n",
      "VIC_GRUPET\n",
      "Ladinos(as)    83154\n",
      "Maya           41655\n",
      "No indica      18528\n",
      "Ignorado        1662\n",
      "Otro             702\n",
      "Xinca            228\n",
      "Garifuna         185\n",
      "Name: count, dtype: int64\n",
      "\n",
      "\n",
      "VIC_TRABAJA\n",
      "No          146106\n",
      "Ignorado         8\n",
      "Name: count, dtype: int64\n",
      "\n",
      "\n",
      "VIC_DEDICA\n",
      "Quehaceres del hogar              137616\n",
      "Estudiar                            6473\n",
      "Ignorado                            1244\n",
      "Desempleado                          422\n",
      "Vive de sus renta o jubilación       262\n",
      "Otro                                  81\n",
      "Alcohólico/drogadicto                  8\n",
      "IgnoradoOcupaciones ignoradas          8\n",
      "Name: count, dtype: int64\n",
      "\n",
      "\n",
      "VIC_DISC\n",
      "No          140824\n",
      "Ignorado      4555\n",
      "Si             735\n",
      "Name: count, dtype: int64\n",
      "\n",
      "\n"
     ]
    }
   ],
   "source": [
    "for columna in columnas:\n",
    "    print(cluster_1[columna].value_counts())\n",
    "    print(\"\\n\")"
   ]
  },
  {
   "cell_type": "markdown",
   "metadata": {},
   "source": [
    "Mayoría mujeres. Una distribución uniforme entre las edades de 20-30 años. Todas sin hijos registrados. Mayoría alfabeta. Aunque se ignoró el grado escolar de la mayoría, quienes le siguen son personas que terminaron cierto grado escolar. La mayoría son casadas. La mayoría pertenece al grupo étnico Ladino. La mayoría no trabaja. Mayoría sin discapacidad.\n",
    "\n",
    "En resumen, podríamos decir que este grupo es de mujeres jóvenes adultas con educación y desempleadas."
   ]
  },
  {
   "cell_type": "markdown",
   "metadata": {},
   "source": [
    "## Cluster 2"
   ]
  },
  {
   "cell_type": "code",
   "execution_count": 48,
   "metadata": {},
   "outputs": [],
   "source": [
    "cluster_2 = victimaDf[victimaDf['cluster'] == 2]"
   ]
  },
  {
   "cell_type": "code",
   "execution_count": 49,
   "metadata": {},
   "outputs": [
    {
     "name": "stdout",
     "output_type": "stream",
     "text": [
      "QUIEN_REPORTA\n",
      "Víctima                   86208\n",
      "Ignorado                    915\n",
      "Familiar de la víctima      695\n",
      "Otro                        112\n",
      "Name: count, dtype: int64\n",
      "\n",
      "\n",
      "VIC_SEXO\n",
      "Mujeres    63726\n",
      "Hombres    24204\n",
      "Name: count, dtype: int64\n",
      "\n",
      "\n",
      "VIC_EDAD\n",
      "28.0    4154\n",
      "30.0    4119\n",
      "32.0    3852\n",
      "27.0    3827\n",
      "29.0    3820\n",
      "26.0    3693\n",
      "25.0    3653\n",
      "31.0    3596\n",
      "33.0    3527\n",
      "34.0    3446\n",
      "24.0    3443\n",
      "35.0    3331\n",
      "23.0    3237\n",
      "36.0    3016\n",
      "38.0    2974\n",
      "37.0    2863\n",
      "22.0    2841\n",
      "40.0    2565\n",
      "39.0    2354\n",
      "21.0    2337\n",
      "42.0    2121\n",
      "20.0    1893\n",
      "41.0    1869\n",
      "43.0    1677\n",
      "44.0    1435\n",
      "45.0    1384\n",
      "19.0    1322\n",
      "46.0    1068\n",
      "47.0     989\n",
      "48.0     949\n",
      "18.0     792\n",
      "50.0     680\n",
      "49.0     673\n",
      "52.0     611\n",
      "51.0     567\n",
      "53.0     501\n",
      "54.0     427\n",
      "55.0     416\n",
      "17.0     366\n",
      "56.0     364\n",
      "58.0     318\n",
      "57.0     316\n",
      "16.0     161\n",
      "59.0     154\n",
      "15.0      97\n",
      "60.0      84\n",
      "14.0      23\n",
      "13.0      16\n",
      "61.0       7\n",
      "12.0       2\n",
      "Name: count, dtype: int64\n",
      "\n",
      "\n",
      "TOTAL_HIJOS\n",
      "2     21811\n",
      "1     21255\n",
      "3     13522\n",
      "99    13276\n",
      "0      9411\n",
      "4      5048\n",
      "5      2094\n",
      "6       786\n",
      "7       382\n",
      "8       210\n",
      "9        60\n",
      "10       41\n",
      "11       18\n",
      "12       14\n",
      "14        2\n",
      "Name: count, dtype: int64\n",
      "\n",
      "\n",
      "VIC_ALFAB\n",
      "Si    87930\n",
      "Name: count, dtype: int64\n",
      "\n",
      "\n",
      "VIC_ESCOLARIDAD\n",
      "46.0    13966\n",
      "49.0    13609\n",
      "26.0    12805\n",
      "29.0     8391\n",
      "33.0     8053\n",
      "39.0     5024\n",
      "45.0     4292\n",
      "59.0     3759\n",
      "23.0     3308\n",
      "22.0     2229\n",
      "32.0     1934\n",
      "24.0     1808\n",
      "25.0     1605\n",
      "31.0     1315\n",
      "44.0     1285\n",
      "55.0     1092\n",
      "21.0     1052\n",
      "53.0      644\n",
      "56.0      572\n",
      "52.0      398\n",
      "54.0      298\n",
      "51.0      280\n",
      "57.0      118\n",
      "99.0       93\n",
      "Name: count, dtype: int64\n",
      "\n",
      "\n",
      "VIC_EST_CIV\n",
      "Casados(as)     38544\n",
      "Ignorado        19013\n",
      "Unidos(as)      17908\n",
      "Solteros(as)     9216\n",
      "Otro             2985\n",
      "Viudos(as)        264\n",
      "Name: count, dtype: int64\n",
      "\n",
      "\n",
      "VIC_GRUPET\n",
      "Ladinos(as)    60293\n",
      "Maya           18974\n",
      "No indica       6814\n",
      "Ignorado        1038\n",
      "Otro             572\n",
      "Garifuna         145\n",
      "Xinca             94\n",
      "Name: count, dtype: int64\n",
      "\n",
      "\n",
      "VIC_TRABAJA\n",
      "Si          87341\n",
      "No            350\n",
      "Ignorado      239\n",
      "Name: count, dtype: int64\n",
      "\n",
      "\n",
      "VIC_DEDICA\n",
      "Vendedores no clasificados bajo otros epígrafes                                            15538\n",
      "Limpiadores y asistentes domésticos                                                         8779\n",
      "Maestros de enseñanza primaria                                                              6547\n",
      "Agricultores y trabajadores calificados de cultivos extensivos                              5567\n",
      "Ocupaciones no especificadas en las anteriores                                              3495\n",
      "                                                                                           ...  \n",
      "Actores                                                                                        1\n",
      "Filósofos, historiadores y especialistas en ciencias políticas                                 1\n",
      "Matemáticos, actuarios y estadísticos                                                          1\n",
      "Técnicos en química industrial                                                                 1\n",
      "Apicultores y sericultores y trabajadores calificados de la apicultura y la sericultura        1\n",
      "Name: count, Length: 405, dtype: int64\n",
      "\n",
      "\n",
      "VIC_DISC\n",
      "No          83255\n",
      "Ignorado     4091\n",
      "Si            584\n",
      "Name: count, dtype: int64\n",
      "\n",
      "\n"
     ]
    }
   ],
   "source": [
    "for columna in columnas:\n",
    "    print(cluster_2[columna].value_counts())\n",
    "    print(\"\\n\")"
   ]
  },
  {
   "cell_type": "markdown",
   "metadata": {},
   "source": [
    "La mayoría son mujeres. Edades concentradas en los 30 años. Numéro de hijos entre 1-3. Todas alfabetas. Todas con mínimo un año escolar alto. Mayoría casadas o unidas. Mayoría Ladinas. Mayoría hacen los quehaceres del hogar o son vendedoras no clasificadas. Mayoría sin discapacidad.\n",
    "\n",
    "En resumen, podríamos decir que este grupo son mujeres jóvenes adultas con familias pequeñas con cierto ingreso."
   ]
  },
  {
   "cell_type": "markdown",
   "metadata": {},
   "source": [
    "## Cluster 3"
   ]
  },
  {
   "cell_type": "code",
   "execution_count": 50,
   "metadata": {},
   "outputs": [],
   "source": [
    "cluster_3 = victimaDf[victimaDf['cluster'] == 3]"
   ]
  },
  {
   "cell_type": "code",
   "execution_count": 51,
   "metadata": {},
   "outputs": [
    {
     "name": "stdout",
     "output_type": "stream",
     "text": [
      "QUIEN_REPORTA\n",
      "Víctima                   22320\n",
      "Familiar de la víctima      504\n",
      "Ignorado                    365\n",
      "Otro                        119\n",
      "Name: count, dtype: int64\n",
      "\n",
      "\n",
      "VIC_SEXO\n",
      "Mujeres    15854\n",
      "Hombres     7454\n",
      "Name: count, dtype: int64\n",
      "\n",
      "\n",
      "VIC_EDAD\n",
      "98.0    4286\n",
      "60.0     948\n",
      "62.0     786\n",
      "65.0     703\n",
      "59.0     693\n",
      "        ... \n",
      "40.0       8\n",
      "41.0       7\n",
      "97.0       5\n",
      "38.0       4\n",
      "39.0       2\n",
      "Name: count, Length: 61, dtype: int64\n",
      "\n",
      "\n",
      "TOTAL_HIJOS\n",
      "99    11066\n",
      "3      2118\n",
      "2      2061\n",
      "1      1840\n",
      "0      1703\n",
      "4      1606\n",
      "5      1188\n",
      "6       606\n",
      "7       443\n",
      "8       263\n",
      "9       147\n",
      "10      126\n",
      "11       61\n",
      "12       50\n",
      "13       13\n",
      "14        8\n",
      "15        4\n",
      "17        3\n",
      "16        2\n",
      "Name: count, dtype: int64\n",
      "\n",
      "\n",
      "VIC_ALFAB\n",
      "Si          19058\n",
      "No           3917\n",
      "Ignorado      333\n",
      "Name: count, dtype: int64\n",
      "\n",
      "\n",
      "VIC_ESCOLARIDAD\n",
      "99.0    5647\n",
      "29.0    4297\n",
      "26.0    2979\n",
      "49.0    2059\n",
      "39.0    1343\n",
      "23.0    1199\n",
      "46.0    1025\n",
      "33.0     944\n",
      "22.0     943\n",
      "59.0     697\n",
      "24.0     461\n",
      "21.0     403\n",
      "45.0     316\n",
      "25.0     303\n",
      "32.0     150\n",
      "55.0     141\n",
      "44.0     135\n",
      "31.0     104\n",
      "56.0      47\n",
      "53.0      38\n",
      "52.0      22\n",
      "57.0      22\n",
      "51.0      19\n",
      "54.0      14\n",
      "Name: count, dtype: int64\n",
      "\n",
      "\n",
      "VIC_EST_CIV\n",
      "Casados(as)     11382\n",
      "Solteros(as)     4850\n",
      "Ignorado         2884\n",
      "Unidos(as)       2516\n",
      "Viudos(as)       1226\n",
      "Otro              450\n",
      "Name: count, dtype: int64\n",
      "\n",
      "\n",
      "VIC_GRUPET\n",
      "Ladinos(as)    15634\n",
      "Maya            4235\n",
      "No indica       2784\n",
      "Ignorado         462\n",
      "Otro             107\n",
      "Xinca             50\n",
      "Garifuna          36\n",
      "Name: count, dtype: int64\n",
      "\n",
      "\n",
      "VIC_TRABAJA\n",
      "No          14267\n",
      "Si           8869\n",
      "Ignorado      172\n",
      "Name: count, dtype: int64\n",
      "\n",
      "\n",
      "VIC_DEDICA\n",
      "Quehaceres del hogar                                                       11813\n",
      "Agricultores y trabajadores calificados de cultivos extensivos              1685\n",
      "Vive de sus renta o jubilación                                              1471\n",
      "Peones de explotaciones agrícolas                                           1311\n",
      "Vendedores no clasificados bajo otros epígrafes                             1123\n",
      "                                                                           ...  \n",
      "Gerentes de sucursales de bancos, de servicios financieros y de seguros        1\n",
      "Administradores de sistemas                                                    1\n",
      "Marineros de cubierta y afines                                                 1\n",
      "Técnicos en galerías de arte, museos y bibliotecas                             1\n",
      "Agentes de seguros                                                             1\n",
      "Name: count, Length: 269, dtype: int64\n",
      "\n",
      "\n",
      "VIC_DISC\n",
      "No          21237\n",
      "Ignorado     1450\n",
      "Si            621\n",
      "Name: count, dtype: int64\n",
      "\n",
      "\n"
     ]
    }
   ],
   "source": [
    "for columna in columnas:\n",
    "    print(cluster_3[columna].value_counts())\n",
    "    print(\"\\n\")"
   ]
  },
  {
   "cell_type": "markdown",
   "metadata": {},
   "source": [
    "Mayoría mujeres. Edades menores a 25 años. Número de hijos entre 0-2. Todas alfabetas. Mayoría casadas o unidas. Mayoría del grupo étnico Maya. Mayoría amas de casa o vendedoras. Mayoría sin discapacidad. \n",
    "\n",
    "En resumen, podríamos decir que este grupo son mujeres jóvenes rurales con familias pequeñas y ocupaciones variadas"
   ]
  },
  {
   "cell_type": "code",
   "execution_count": 20,
   "metadata": {},
   "outputs": [
    {
     "data": {
      "text/html": [
       "<div>\n",
       "<style scoped>\n",
       "    .dataframe tbody tr th:only-of-type {\n",
       "        vertical-align: middle;\n",
       "    }\n",
       "\n",
       "    .dataframe tbody tr th {\n",
       "        vertical-align: top;\n",
       "    }\n",
       "\n",
       "    .dataframe thead th {\n",
       "        text-align: right;\n",
       "    }\n",
       "</style>\n",
       "<table border=\"1\" class=\"dataframe\">\n",
       "  <thead>\n",
       "    <tr style=\"text-align: right;\">\n",
       "      <th></th>\n",
       "      <th>ANO_EMISION</th>\n",
       "      <th>MES_EMISION</th>\n",
       "      <th>DIA_EMISION</th>\n",
       "      <th>REG_MCPIO</th>\n",
       "      <th>QUIEN_REPORTA</th>\n",
       "      <th>VIC_SEXO</th>\n",
       "      <th>VIC_EDAD</th>\n",
       "      <th>TOTAL_HIJOS</th>\n",
       "      <th>NUM_HIJ_HOM</th>\n",
       "      <th>NUM_HIJ_MUJ</th>\n",
       "      <th>...</th>\n",
       "      <th>AGR_OTRAS_N_AS</th>\n",
       "      <th>INST_DENUN_HECHO</th>\n",
       "      <th>LEY_APLICABLE</th>\n",
       "      <th>FECHA_EMISION</th>\n",
       "      <th>FECHA_HECHO</th>\n",
       "      <th>REG_DPTO</th>\n",
       "      <th>HEC_DPTO</th>\n",
       "      <th>MEDIDAS_SEGURIDAD</th>\n",
       "      <th>Cluster</th>\n",
       "      <th>CONTEXTO_DE_VIC</th>\n",
       "    </tr>\n",
       "  </thead>\n",
       "  <tbody>\n",
       "    <tr>\n",
       "      <th>0</th>\n",
       "      <td>2013</td>\n",
       "      <td>1</td>\n",
       "      <td>22</td>\n",
       "      <td>guatemala</td>\n",
       "      <td>Víctima</td>\n",
       "      <td>Mujeres</td>\n",
       "      <td>38.0</td>\n",
       "      <td>2</td>\n",
       "      <td>1</td>\n",
       "      <td>1</td>\n",
       "      <td>...</td>\n",
       "      <td>0.0</td>\n",
       "      <td>Organismo Judicial</td>\n",
       "      <td>Ambas leyes (VIF y VCM)</td>\n",
       "      <td>2013-01-22</td>\n",
       "      <td>2013-01-19</td>\n",
       "      <td>guatemala</td>\n",
       "      <td>guatemala</td>\n",
       "      <td>Dto. 22-2008</td>\n",
       "      <td>2</td>\n",
       "      <td>2</td>\n",
       "    </tr>\n",
       "    <tr>\n",
       "      <th>1</th>\n",
       "      <td>2013</td>\n",
       "      <td>1</td>\n",
       "      <td>24</td>\n",
       "      <td>guatemala</td>\n",
       "      <td>Víctima</td>\n",
       "      <td>Mujeres</td>\n",
       "      <td>20.0</td>\n",
       "      <td>1</td>\n",
       "      <td>0</td>\n",
       "      <td>1</td>\n",
       "      <td>...</td>\n",
       "      <td>99.0</td>\n",
       "      <td>Ministerio Público</td>\n",
       "      <td>NaN</td>\n",
       "      <td>2013-01-24</td>\n",
       "      <td>2013-01-23</td>\n",
       "      <td>guatemala</td>\n",
       "      <td>guatemala</td>\n",
       "      <td>Dto. 22-2008</td>\n",
       "      <td>2</td>\n",
       "      <td>2</td>\n",
       "    </tr>\n",
       "    <tr>\n",
       "      <th>2</th>\n",
       "      <td>2013</td>\n",
       "      <td>1</td>\n",
       "      <td>21</td>\n",
       "      <td>guatemala</td>\n",
       "      <td>Víctima</td>\n",
       "      <td>Mujeres</td>\n",
       "      <td>21.0</td>\n",
       "      <td>2</td>\n",
       "      <td>1</td>\n",
       "      <td>1</td>\n",
       "      <td>...</td>\n",
       "      <td>99.0</td>\n",
       "      <td>Procuraduría de los Derechos Humanos</td>\n",
       "      <td>NaN</td>\n",
       "      <td>2013-01-21</td>\n",
       "      <td>2013-01-21</td>\n",
       "      <td>guatemala</td>\n",
       "      <td>guatemala</td>\n",
       "      <td>Dto. 22-2008</td>\n",
       "      <td>1</td>\n",
       "      <td>1</td>\n",
       "    </tr>\n",
       "    <tr>\n",
       "      <th>3</th>\n",
       "      <td>2013</td>\n",
       "      <td>1</td>\n",
       "      <td>2</td>\n",
       "      <td>guatemala</td>\n",
       "      <td>Víctima</td>\n",
       "      <td>Hombres</td>\n",
       "      <td>70.0</td>\n",
       "      <td>0</td>\n",
       "      <td>0</td>\n",
       "      <td>0</td>\n",
       "      <td>...</td>\n",
       "      <td>99.0</td>\n",
       "      <td>Procuraduría de los Derechos Humanos</td>\n",
       "      <td>NaN</td>\n",
       "      <td>2013-01-02</td>\n",
       "      <td>2013-01-02</td>\n",
       "      <td>guatemala</td>\n",
       "      <td>guatemala</td>\n",
       "      <td>Dto. 97-96</td>\n",
       "      <td>3</td>\n",
       "      <td>2</td>\n",
       "    </tr>\n",
       "    <tr>\n",
       "      <th>4</th>\n",
       "      <td>2013</td>\n",
       "      <td>1</td>\n",
       "      <td>10</td>\n",
       "      <td>guatemala</td>\n",
       "      <td>Víctima</td>\n",
       "      <td>Mujeres</td>\n",
       "      <td>36.0</td>\n",
       "      <td>99</td>\n",
       "      <td>99</td>\n",
       "      <td>99</td>\n",
       "      <td>...</td>\n",
       "      <td>99.0</td>\n",
       "      <td>Procuraduría de los Derechos Humanos</td>\n",
       "      <td>NaN</td>\n",
       "      <td>2013-01-10</td>\n",
       "      <td>2013-01-10</td>\n",
       "      <td>guatemala</td>\n",
       "      <td>guatemala</td>\n",
       "      <td>Dto. 22-2008</td>\n",
       "      <td>2</td>\n",
       "      <td>2</td>\n",
       "    </tr>\n",
       "  </tbody>\n",
       "</table>\n",
       "<p>5 rows × 54 columns</p>\n",
       "</div>"
      ],
      "text/plain": [
       "   ANO_EMISION  MES_EMISION  DIA_EMISION  REG_MCPIO QUIEN_REPORTA VIC_SEXO  \\\n",
       "0         2013            1           22  guatemala       Víctima  Mujeres   \n",
       "1         2013            1           24  guatemala       Víctima  Mujeres   \n",
       "2         2013            1           21  guatemala       Víctima  Mujeres   \n",
       "3         2013            1            2  guatemala       Víctima  Hombres   \n",
       "4         2013            1           10  guatemala       Víctima  Mujeres   \n",
       "\n",
       "   VIC_EDAD  TOTAL_HIJOS  NUM_HIJ_HOM  NUM_HIJ_MUJ  ... AGR_OTRAS_N_AS  \\\n",
       "0      38.0            2            1            1  ...            0.0   \n",
       "1      20.0            1            0            1  ...           99.0   \n",
       "2      21.0            2            1            1  ...           99.0   \n",
       "3      70.0            0            0            0  ...           99.0   \n",
       "4      36.0           99           99           99  ...           99.0   \n",
       "\n",
       "                       INST_DENUN_HECHO            LEY_APLICABLE  \\\n",
       "0                    Organismo Judicial  Ambas leyes (VIF y VCM)   \n",
       "1                    Ministerio Público                      NaN   \n",
       "2  Procuraduría de los Derechos Humanos                      NaN   \n",
       "3  Procuraduría de los Derechos Humanos                      NaN   \n",
       "4  Procuraduría de los Derechos Humanos                      NaN   \n",
       "\n",
       "  FECHA_EMISION FECHA_HECHO   REG_DPTO   HEC_DPTO MEDIDAS_SEGURIDAD Cluster  \\\n",
       "0    2013-01-22  2013-01-19  guatemala  guatemala      Dto. 22-2008       2   \n",
       "1    2013-01-24  2013-01-23  guatemala  guatemala      Dto. 22-2008       2   \n",
       "2    2013-01-21  2013-01-21  guatemala  guatemala      Dto. 22-2008       1   \n",
       "3    2013-01-02  2013-01-02  guatemala  guatemala        Dto. 97-96       3   \n",
       "4    2013-01-10  2013-01-10  guatemala  guatemala      Dto. 22-2008       2   \n",
       "\n",
       "   CONTEXTO_DE_VIC  \n",
       "0                2  \n",
       "1                2  \n",
       "2                1  \n",
       "3                2  \n",
       "4                2  \n",
       "\n",
       "[5 rows x 54 columns]"
      ]
     },
     "execution_count": 20,
     "metadata": {},
     "output_type": "execute_result"
    }
   ],
   "source": [
    "df.head()"
   ]
  },
  {
   "cell_type": "code",
   "execution_count": 52,
   "metadata": {},
   "outputs": [
    {
     "data": {
      "text/html": [
       "<div>\n",
       "<style scoped>\n",
       "    .dataframe tbody tr th:only-of-type {\n",
       "        vertical-align: middle;\n",
       "    }\n",
       "\n",
       "    .dataframe tbody tr th {\n",
       "        vertical-align: top;\n",
       "    }\n",
       "\n",
       "    .dataframe thead th {\n",
       "        text-align: right;\n",
       "    }\n",
       "</style>\n",
       "<table border=\"1\" class=\"dataframe\">\n",
       "  <thead>\n",
       "    <tr style=\"text-align: right;\">\n",
       "      <th></th>\n",
       "      <th>QUIEN_REPORTA</th>\n",
       "      <th>VIC_SEXO</th>\n",
       "      <th>VIC_EDAD</th>\n",
       "      <th>TOTAL_HIJOS</th>\n",
       "      <th>VIC_ALFAB</th>\n",
       "      <th>VIC_ESCOLARIDAD</th>\n",
       "      <th>VIC_EST_CIV</th>\n",
       "      <th>VIC_GRUPET</th>\n",
       "      <th>VIC_TRABAJA</th>\n",
       "      <th>VIC_DEDICA</th>\n",
       "      <th>VIC_DISC</th>\n",
       "      <th>cluster</th>\n",
       "    </tr>\n",
       "  </thead>\n",
       "  <tbody>\n",
       "    <tr>\n",
       "      <th>0</th>\n",
       "      <td>Víctima</td>\n",
       "      <td>Mujeres</td>\n",
       "      <td>38.0</td>\n",
       "      <td>2</td>\n",
       "      <td>Si</td>\n",
       "      <td>49.0</td>\n",
       "      <td>Casados(as)</td>\n",
       "      <td>Ladinos(as)</td>\n",
       "      <td>Si</td>\n",
       "      <td>Secretarios (general)</td>\n",
       "      <td>No</td>\n",
       "      <td>2</td>\n",
       "    </tr>\n",
       "    <tr>\n",
       "      <th>1</th>\n",
       "      <td>Víctima</td>\n",
       "      <td>Mujeres</td>\n",
       "      <td>20.0</td>\n",
       "      <td>1</td>\n",
       "      <td>Si</td>\n",
       "      <td>31.0</td>\n",
       "      <td>Unidos(as)</td>\n",
       "      <td>Ladinos(as)</td>\n",
       "      <td>Si</td>\n",
       "      <td>Asistentes de venta de tiendas y almacenes</td>\n",
       "      <td>No</td>\n",
       "      <td>2</td>\n",
       "    </tr>\n",
       "    <tr>\n",
       "      <th>2</th>\n",
       "      <td>Víctima</td>\n",
       "      <td>Mujeres</td>\n",
       "      <td>21.0</td>\n",
       "      <td>2</td>\n",
       "      <td>Si</td>\n",
       "      <td>29.0</td>\n",
       "      <td>Solteros(as)</td>\n",
       "      <td>Maya</td>\n",
       "      <td>No</td>\n",
       "      <td>Quehaceres del hogar</td>\n",
       "      <td>No</td>\n",
       "      <td>1</td>\n",
       "    </tr>\n",
       "    <tr>\n",
       "      <th>3</th>\n",
       "      <td>Víctima</td>\n",
       "      <td>Hombres</td>\n",
       "      <td>70.0</td>\n",
       "      <td>0</td>\n",
       "      <td>Si</td>\n",
       "      <td>49.0</td>\n",
       "      <td>Casados(as)</td>\n",
       "      <td>Ladinos(as)</td>\n",
       "      <td>No</td>\n",
       "      <td>Vive de sus renta o jubilación</td>\n",
       "      <td>No</td>\n",
       "      <td>3</td>\n",
       "    </tr>\n",
       "    <tr>\n",
       "      <th>4</th>\n",
       "      <td>Víctima</td>\n",
       "      <td>Mujeres</td>\n",
       "      <td>36.0</td>\n",
       "      <td>99</td>\n",
       "      <td>Si</td>\n",
       "      <td>59.0</td>\n",
       "      <td>Casados(as)</td>\n",
       "      <td>Ladinos(as)</td>\n",
       "      <td>Si</td>\n",
       "      <td>Directores generales y gerentes generales</td>\n",
       "      <td>No</td>\n",
       "      <td>2</td>\n",
       "    </tr>\n",
       "  </tbody>\n",
       "</table>\n",
       "</div>"
      ],
      "text/plain": [
       "  QUIEN_REPORTA VIC_SEXO  VIC_EDAD  TOTAL_HIJOS VIC_ALFAB  VIC_ESCOLARIDAD  \\\n",
       "0       Víctima  Mujeres      38.0            2        Si             49.0   \n",
       "1       Víctima  Mujeres      20.0            1        Si             31.0   \n",
       "2       Víctima  Mujeres      21.0            2        Si             29.0   \n",
       "3       Víctima  Hombres      70.0            0        Si             49.0   \n",
       "4       Víctima  Mujeres      36.0           99        Si             59.0   \n",
       "\n",
       "    VIC_EST_CIV   VIC_GRUPET VIC_TRABAJA  \\\n",
       "0   Casados(as)  Ladinos(as)          Si   \n",
       "1    Unidos(as)  Ladinos(as)          Si   \n",
       "2  Solteros(as)         Maya          No   \n",
       "3   Casados(as)  Ladinos(as)          No   \n",
       "4   Casados(as)  Ladinos(as)          Si   \n",
       "\n",
       "                                   VIC_DEDICA VIC_DISC  cluster  \n",
       "0                       Secretarios (general)       No        2  \n",
       "1  Asistentes de venta de tiendas y almacenes       No        2  \n",
       "2                        Quehaceres del hogar       No        1  \n",
       "3              Vive de sus renta o jubilación       No        3  \n",
       "4   Directores generales y gerentes generales       No        2  "
      ]
     },
     "execution_count": 52,
     "metadata": {},
     "output_type": "execute_result"
    }
   ],
   "source": [
    "victimaDf.head()"
   ]
  },
  {
   "cell_type": "code",
   "execution_count": 53,
   "metadata": {},
   "outputs": [
    {
     "data": {
      "text/html": [
       "<div>\n",
       "<style scoped>\n",
       "    .dataframe tbody tr th:only-of-type {\n",
       "        vertical-align: middle;\n",
       "    }\n",
       "\n",
       "    .dataframe tbody tr th {\n",
       "        vertical-align: top;\n",
       "    }\n",
       "\n",
       "    .dataframe thead th {\n",
       "        text-align: right;\n",
       "    }\n",
       "</style>\n",
       "<table border=\"1\" class=\"dataframe\">\n",
       "  <thead>\n",
       "    <tr style=\"text-align: right;\">\n",
       "      <th></th>\n",
       "      <th>ANO_EMISION</th>\n",
       "      <th>MES_EMISION</th>\n",
       "      <th>DIA_EMISION</th>\n",
       "      <th>REG_MCPIO</th>\n",
       "      <th>QUIEN_REPORTA</th>\n",
       "      <th>VIC_SEXO</th>\n",
       "      <th>VIC_EDAD</th>\n",
       "      <th>TOTAL_HIJOS</th>\n",
       "      <th>NUM_HIJ_HOM</th>\n",
       "      <th>NUM_HIJ_MUJ</th>\n",
       "      <th>...</th>\n",
       "      <th>AGR_OTROS_N_OS</th>\n",
       "      <th>AGR_OTRAS_N_AS</th>\n",
       "      <th>INST_DENUN_HECHO</th>\n",
       "      <th>LEY_APLICABLE</th>\n",
       "      <th>FECHA_EMISION</th>\n",
       "      <th>FECHA_HECHO</th>\n",
       "      <th>REG_DPTO</th>\n",
       "      <th>HEC_DPTO</th>\n",
       "      <th>MEDIDAS_SEGURIDAD</th>\n",
       "      <th>CONTEXTO_DE_VIC</th>\n",
       "    </tr>\n",
       "  </thead>\n",
       "  <tbody>\n",
       "    <tr>\n",
       "      <th>0</th>\n",
       "      <td>2013</td>\n",
       "      <td>1</td>\n",
       "      <td>22</td>\n",
       "      <td>guatemala</td>\n",
       "      <td>Víctima</td>\n",
       "      <td>Mujeres</td>\n",
       "      <td>38.0</td>\n",
       "      <td>2</td>\n",
       "      <td>1</td>\n",
       "      <td>1</td>\n",
       "      <td>...</td>\n",
       "      <td>0.0</td>\n",
       "      <td>0.0</td>\n",
       "      <td>Organismo Judicial</td>\n",
       "      <td>Ambas leyes (VIF y VCM)</td>\n",
       "      <td>2013-01-22</td>\n",
       "      <td>2013-01-19</td>\n",
       "      <td>guatemala</td>\n",
       "      <td>guatemala</td>\n",
       "      <td>Dto. 22-2008</td>\n",
       "      <td>2</td>\n",
       "    </tr>\n",
       "    <tr>\n",
       "      <th>1</th>\n",
       "      <td>2013</td>\n",
       "      <td>1</td>\n",
       "      <td>24</td>\n",
       "      <td>guatemala</td>\n",
       "      <td>Víctima</td>\n",
       "      <td>Mujeres</td>\n",
       "      <td>20.0</td>\n",
       "      <td>1</td>\n",
       "      <td>0</td>\n",
       "      <td>1</td>\n",
       "      <td>...</td>\n",
       "      <td>99.0</td>\n",
       "      <td>99.0</td>\n",
       "      <td>Ministerio Público</td>\n",
       "      <td>NaN</td>\n",
       "      <td>2013-01-24</td>\n",
       "      <td>2013-01-23</td>\n",
       "      <td>guatemala</td>\n",
       "      <td>guatemala</td>\n",
       "      <td>Dto. 22-2008</td>\n",
       "      <td>2</td>\n",
       "    </tr>\n",
       "    <tr>\n",
       "      <th>2</th>\n",
       "      <td>2013</td>\n",
       "      <td>1</td>\n",
       "      <td>21</td>\n",
       "      <td>guatemala</td>\n",
       "      <td>Víctima</td>\n",
       "      <td>Mujeres</td>\n",
       "      <td>21.0</td>\n",
       "      <td>2</td>\n",
       "      <td>1</td>\n",
       "      <td>1</td>\n",
       "      <td>...</td>\n",
       "      <td>99.0</td>\n",
       "      <td>99.0</td>\n",
       "      <td>Procuraduría de los Derechos Humanos</td>\n",
       "      <td>NaN</td>\n",
       "      <td>2013-01-21</td>\n",
       "      <td>2013-01-21</td>\n",
       "      <td>guatemala</td>\n",
       "      <td>guatemala</td>\n",
       "      <td>Dto. 22-2008</td>\n",
       "      <td>1</td>\n",
       "    </tr>\n",
       "    <tr>\n",
       "      <th>3</th>\n",
       "      <td>2013</td>\n",
       "      <td>1</td>\n",
       "      <td>2</td>\n",
       "      <td>guatemala</td>\n",
       "      <td>Víctima</td>\n",
       "      <td>Hombres</td>\n",
       "      <td>70.0</td>\n",
       "      <td>0</td>\n",
       "      <td>0</td>\n",
       "      <td>0</td>\n",
       "      <td>...</td>\n",
       "      <td>99.0</td>\n",
       "      <td>99.0</td>\n",
       "      <td>Procuraduría de los Derechos Humanos</td>\n",
       "      <td>NaN</td>\n",
       "      <td>2013-01-02</td>\n",
       "      <td>2013-01-02</td>\n",
       "      <td>guatemala</td>\n",
       "      <td>guatemala</td>\n",
       "      <td>Dto. 97-96</td>\n",
       "      <td>3</td>\n",
       "    </tr>\n",
       "    <tr>\n",
       "      <th>4</th>\n",
       "      <td>2013</td>\n",
       "      <td>1</td>\n",
       "      <td>10</td>\n",
       "      <td>guatemala</td>\n",
       "      <td>Víctima</td>\n",
       "      <td>Mujeres</td>\n",
       "      <td>36.0</td>\n",
       "      <td>99</td>\n",
       "      <td>99</td>\n",
       "      <td>99</td>\n",
       "      <td>...</td>\n",
       "      <td>99.0</td>\n",
       "      <td>99.0</td>\n",
       "      <td>Procuraduría de los Derechos Humanos</td>\n",
       "      <td>NaN</td>\n",
       "      <td>2013-01-10</td>\n",
       "      <td>2013-01-10</td>\n",
       "      <td>guatemala</td>\n",
       "      <td>guatemala</td>\n",
       "      <td>Dto. 22-2008</td>\n",
       "      <td>2</td>\n",
       "    </tr>\n",
       "  </tbody>\n",
       "</table>\n",
       "<p>5 rows × 53 columns</p>\n",
       "</div>"
      ],
      "text/plain": [
       "   ANO_EMISION  MES_EMISION  DIA_EMISION  REG_MCPIO QUIEN_REPORTA VIC_SEXO  \\\n",
       "0         2013            1           22  guatemala       Víctima  Mujeres   \n",
       "1         2013            1           24  guatemala       Víctima  Mujeres   \n",
       "2         2013            1           21  guatemala       Víctima  Mujeres   \n",
       "3         2013            1            2  guatemala       Víctima  Hombres   \n",
       "4         2013            1           10  guatemala       Víctima  Mujeres   \n",
       "\n",
       "   VIC_EDAD  TOTAL_HIJOS  NUM_HIJ_HOM  NUM_HIJ_MUJ  ... AGR_OTROS_N_OS  \\\n",
       "0      38.0            2            1            1  ...            0.0   \n",
       "1      20.0            1            0            1  ...           99.0   \n",
       "2      21.0            2            1            1  ...           99.0   \n",
       "3      70.0            0            0            0  ...           99.0   \n",
       "4      36.0           99           99           99  ...           99.0   \n",
       "\n",
       "   AGR_OTRAS_N_AS                      INST_DENUN_HECHO  \\\n",
       "0             0.0                    Organismo Judicial   \n",
       "1            99.0                    Ministerio Público   \n",
       "2            99.0  Procuraduría de los Derechos Humanos   \n",
       "3            99.0  Procuraduría de los Derechos Humanos   \n",
       "4            99.0  Procuraduría de los Derechos Humanos   \n",
       "\n",
       "             LEY_APLICABLE FECHA_EMISION FECHA_HECHO   REG_DPTO   HEC_DPTO  \\\n",
       "0  Ambas leyes (VIF y VCM)    2013-01-22  2013-01-19  guatemala  guatemala   \n",
       "1                      NaN    2013-01-24  2013-01-23  guatemala  guatemala   \n",
       "2                      NaN    2013-01-21  2013-01-21  guatemala  guatemala   \n",
       "3                      NaN    2013-01-02  2013-01-02  guatemala  guatemala   \n",
       "4                      NaN    2013-01-10  2013-01-10  guatemala  guatemala   \n",
       "\n",
       "  MEDIDAS_SEGURIDAD  CONTEXTO_DE_VIC  \n",
       "0      Dto. 22-2008                2  \n",
       "1      Dto. 22-2008                2  \n",
       "2      Dto. 22-2008                1  \n",
       "3        Dto. 97-96                3  \n",
       "4      Dto. 22-2008                2  \n",
       "\n",
       "[5 rows x 53 columns]"
      ]
     },
     "execution_count": 53,
     "metadata": {},
     "output_type": "execute_result"
    }
   ],
   "source": [
    "df.head()"
   ]
  },
  {
   "cell_type": "code",
   "execution_count": 54,
   "metadata": {},
   "outputs": [],
   "source": [
    "df.to_csv('data/gen/cleaned.csv', index=False)"
   ]
  }
 ],
 "metadata": {
  "kernelspec": {
   "display_name": "Python 3",
   "language": "python",
   "name": "python3"
  },
  "language_info": {
   "codemirror_mode": {
    "name": "ipython",
    "version": 3
   },
   "file_extension": ".py",
   "mimetype": "text/x-python",
   "name": "python",
   "nbconvert_exporter": "python",
   "pygments_lexer": "ipython3",
   "version": "3.11.7"
  }
 },
 "nbformat": 4,
 "nbformat_minor": 2
}
